{
 "cells": [
  {
   "cell_type": "markdown",
   "metadata": {},
   "source": [
    "# MODEL EVALUATION WITH CATALAN HELLASWAG"
   ]
  },
  {
   "cell_type": "code",
   "execution_count": 4,
   "metadata": {},
   "outputs": [
    {
     "name": "stdout",
     "output_type": "stream",
     "text": [
      "Context: [capçalera] Com obtenir la certificació de RCP [títol] Identificar els motius per obtenir la certificació. [pas] Hi ha moltes raons per obtenir la certificació de RCP. Algunes de les més importants inclouen: [subpassos] Pots salvar vides: t'ensenya a ser conscient del teu entorn i a reconèixer els signes d'aturada cardíaca i altres situacions debilitants.\n",
      "Predicted Ending: Estàs millor equipat per ajudar els altres en necessitat. Els estudis han demostrat que les persones amb certificació de RCP són més propenses a ajudar en cas de necessitat.\n",
      "Correct Ending: Estàs millor equipat per ajudar els altres en necessitat. Els estudis han demostrat que les persones amb certificació de RCP són més propenses a ajudar en cas de necessitat.\n",
      "Is Correct: Yes\n",
      "Accuracy so far: 0.2956\n",
      "\n"
     ]
    },
    {
     "name": "stderr",
     "output_type": "stream",
     "text": [
      "9727it [55:27,  2.26it/s]"
     ]
    },
    {
     "name": "stdout",
     "output_type": "stream",
     "text": [
      "Context: [capçalera] Com escriure un perfil corporatiu [títol] Mantingueu el vostre perfil corporatiu concis. [pas] Feu que el vostre perfil corporatiu sigui interessant i fàcil de llegir mantenint-lo tan simple i breu com pugueu. Molts lectors simplement escanejaran el document, digerint frases i conceptes clau.\n",
      "Predicted Ending: La informació rellevant per a la vostra empresa s'ha d'indicar amb la màxima claredat i concisió possibles. [subpassos] La secció d'operacions i gestió del vostre perfil corporatiu ha d'incloure la màxima quantitat de dades possible sobre la vostra empresa i la vostra indústria en particular.\n",
      "Correct Ending: Els perfils corporatius poden tenir només uns quants paràgrafs o més de 30 pàgines de llarg, però penseu en quina informació és realment important abans d'escollir un perfil de llarg format. [subpassos] Si esteu creant el vostre perfil corporatiu en línia, manteniu-lo curt enllaçant a informació més detallada en pàgines separades. \n",
      "Is Correct: No\n",
      "Accuracy so far: 0.2956\n",
      "\n"
     ]
    },
    {
     "name": "stderr",
     "output_type": "stream",
     "text": [
      "9728it [55:27,  2.32it/s]"
     ]
    },
    {
     "name": "stdout",
     "output_type": "stream",
     "text": [
      "Context: [capçalera] Com fer art d'ungles amb flors [títol] Elimina qualsevol esmalt esmicolat que quedi a les teves ungles. [pas] Abans de començar a pintar, vols donar-te un bell llenç sobre el qual treballar. Pots comprar dissolvent d'esmalt a la teva farmàcia local.\n",
      "Predicted Ending: [subpassos] El dissolvent per a art d'ungles no és abrasiu i no irritarà la pell. No et rentes les mans abans de començar a pintar per evitar que l'esmalt es transfereixi a les teves ungles.\n",
      "Correct Ending: Si les teves ungles són propenses a assecar-se i descamar-se, busca un dissolvent etiquetat com \"sense acetona\". Aquests són més suaus amb les teves ungles, i no vols assecar-les just abans de fer-te una manicura! [títol] Talla i lima les teves ungles.\n",
      "Is Correct: No\n",
      "Accuracy so far: 0.2956\n",
      "\n"
     ]
    },
    {
     "name": "stderr",
     "output_type": "stream",
     "text": [
      "9729it [55:28,  2.45it/s]"
     ]
    },
    {
     "name": "stdout",
     "output_type": "stream",
     "text": [
      "Context: [capçalera] Com formar amistats duradores [títol] Troba un nou amic. [pas] Saber on buscar persones afins i nous amics pot ser un repte. Malgrat aquest repte, hi ha molts llocs on pots anar per fer nous amics.\n",
      "Predicted Ending: Tingues presents alguns d'aquests consells quan consideris on pot ser més probable que coneguis gent nova interessant i facis amistats duradores: [subpassos] Podries unir-te a un grup centrat en un dels teus interessos. Per exemple, si t'agraden els jocs de taula, pots anar a la teva botiga de jocs local i començar a jugar amb la gent d'allà.\n",
      "Correct Ending: Tingues presents alguns d'aquests consells quan consideris on pot ser més probable que coneguis gent nova interessant i facis amistats duradores: [subpassos] Podries unir-te a un grup centrat en un dels teus interessos. Per exemple, si t'agraden els jocs de taula, pots anar a la teva botiga de jocs local i començar a jugar amb la gent d'allà.\n",
      "Is Correct: Yes\n",
      "Accuracy so far: 0.2956\n",
      "\n"
     ]
    },
    {
     "name": "stderr",
     "output_type": "stream",
     "text": [
      "9730it [55:28,  2.43it/s]"
     ]
    },
    {
     "name": "stdout",
     "output_type": "stream",
     "text": [
      "Context: [capçalera] Com netejar la pell dolenta [títol] Assegura't de beure prou aigua. [pas] Si estàs deshidratat, la teva epidermis (la capa externa de la teva pell) s'asseca juntament amb la resta del teu cos. Com a resultat, la teva pell perdrà la seva suavitat i elasticitat.\n",
      "Predicted Ending: Beure molta aigua abans i durant el dia, per descomptat, t'ajudarà a mantenir aquesta suavitat. [subpassos] L'aigua pot assecar més la pell si t'asseus sobre una superfície extremadament calenta durant períodes prolongats.\n",
      "Correct Ending: Si ja beus prou aigua, però, l'extra no t'ajudarà realment a la pell. [subpassos] Assegura't de beure almenys vuit gots de 8 unces (2 litres) cada dia. \n",
      "Is Correct: No\n",
      "Accuracy so far: 0.2956\n",
      "\n"
     ]
    },
    {
     "name": "stderr",
     "output_type": "stream",
     "text": [
      "9731it [55:29,  2.45it/s]"
     ]
    },
    {
     "name": "stdout",
     "output_type": "stream",
     "text": [
      "Context: [capçalera] Com aplicar ombra d'ulls metàl·lica [títol] Primer, aplica una base. [pas] Una base és simplement un maquillatge lleuger que s'aplica a les parpelles abans de l'ombra d'ulls. Pot ajudar a mantenir l'ombra d'ulls al seu lloc, cosa que és bona per a les ombres d'ulls metàl·liques, ja que és més probable que es desfaci.\n",
      "Predicted Ending: Agafa un pinzell per a la base i esponja una mica de base al dit. Aplica la base suaument a les parpelles.\n",
      "Correct Ending: A més, realment pot fer que el color i el brillantor ressaltin. [subpassos] Aplica la base a la part superior de la parpella, arribant fins a la cella.\n",
      "Is Correct: No\n",
      "Accuracy so far: 0.2956\n",
      "\n"
     ]
    },
    {
     "name": "stderr",
     "output_type": "stream",
     "text": [
      "9732it [55:29,  2.52it/s]"
     ]
    },
    {
     "name": "stdout",
     "output_type": "stream",
     "text": [
      "Context: [capçalera] Com configurar un rellotge digital [títol] Poseu-vos en contacte amb el fabricant o consulteu un manual per als rellotges complicats. [pas] Si el vostre rellotge és especialment complicat i no teniu instruccions, busqueu un manual digital en línia. Els manuals digitals es poden trobar amb una cerca de paraules clau en línia per a la marca i el model del vostre rellotge.\n",
      "Predicted Ending: [subpassos] Alguns rellotges s'apaguen automàticament durant el dia. Si el vostre és al matí, canvieu-lo a la meitat de la nit.\n",
      "Correct Ending: [subpassos] Si és impossible trobar un manual digital, busqueu i truqueu al número de servei al client del vostre rellotge. La informació del model i la marca sol estar escrita o gravada a la part posterior del rellotge o en algun lloc de la cara del rellotge.\n",
      "Is Correct: No\n",
      "Accuracy so far: 0.2956\n",
      "\n"
     ]
    },
    {
     "name": "stderr",
     "output_type": "stream",
     "text": [
      "9733it [55:29,  2.69it/s]"
     ]
    },
    {
     "name": "stdout",
     "output_type": "stream",
     "text": [
      "Context: [capçalera] Com aturar un tren [títol] Localitza el fre d'emergència al teu cotxe. [títol] Tira de la corda. [títol] Prepara't per a l'impacte del tren.\n",
      "Predicted Ending: [títol] Evita el tren abans que passi per sobre teu. [títol] Per a lluitar contra el tren potser hauràs de connectar el fre d'emergència al seu punt de terra, que és l'extrem més a l'esquerra del tren.\n",
      "Correct Ending: [títol] Si el tren no s'atura, hauràs de fer-ho des d'un taxi. [títol] Si no funciona, descobreix si tens un \"vagó de taxi\" al teu tren.\n",
      "Is Correct: No\n",
      "Accuracy so far: 0.2955\n",
      "\n"
     ]
    },
    {
     "name": "stderr",
     "output_type": "stream",
     "text": [
      "9734it [55:30,  2.66it/s]"
     ]
    },
    {
     "name": "stdout",
     "output_type": "stream",
     "text": [
      "Context: [capçalera] Com portar faldilles de cintura alta [títol] Explora diferents estils de faldilles de cintura alta. [pas] Com que la moda de la cintura alta està tan de moda, hi ha hagut un boom en diferents dissenys de faldilles mentre es manté la cintura alta característica. Experimenta i descobreix quins estils de faldilles de cintura alta et queden millor.\n",
      "Predicted Ending: [subpassos] Per exemple, busca una faldilla amb mànigues que s'estenguin per sota del teu \"baby puff\" per a un look chic. A més, també pots portar peces de vestir que no s'estenguin més enllà del teu \"baby puff\".\n",
      "Correct Ending: Hi ha faldilles llapis, faldilles A, faldilles plisades, faldilles maxi i moltes més. Les faldilles de cintura alta es poden trobar a una varietat de botigues segons el teu pressupost. \n",
      "Is Correct: No\n",
      "Accuracy so far: 0.2955\n",
      "\n"
     ]
    },
    {
     "name": "stderr",
     "output_type": "stream",
     "text": [
      "9735it [55:30,  2.68it/s]"
     ]
    },
    {
     "name": "stdout",
     "output_type": "stream",
     "text": [
      "Context: [capçalera] Com ser una bona au pair [títol] Guanya experiència en el servei de cangur. [pas] Si vols ser au pair, els pares han de poder confiar en tu amb el benestar dels seus fills. Pots aconseguir-ho assegurant-te que tens molta experiència en el servei de cangur o en la cura de nens de diverses edats.\n",
      "Predicted Ending: [subpassos] Si t'encanta cuinar, el servei de cangur utilitza aquesta capacitat per complaure els teus pares. Si ets un bon cuiner, el servei de cangur és una combinació de cuinar i cuidar els nens. \n",
      "Correct Ending: Prova de cuidar membres de la família, fills dels veïns o troba una feina en un centre de dia local. Com més experiència tinguis amb els nens, més còmodes se sentiran els pares amb tu.\n",
      "Is Correct: No\n",
      "Accuracy so far: 0.2955\n",
      "\n"
     ]
    },
    {
     "name": "stderr",
     "output_type": "stream",
     "text": [
      "9736it [55:31,  2.59it/s]"
     ]
    },
    {
     "name": "stdout",
     "output_type": "stream",
     "text": [
      "Context: [capçalera] Com estar segur en un port de creuers [títol] Comproveu les amenaces de seguretat abans de reservar. [pas] Una de les millors maneres d'assegurar-vos que esteu segurs en un port d'escalada és evitar anar a ports realment perillosos. Abans de reservar un creuer, reviseu el seu itinerari i comproveu amb la vostra nació i la nació d'origen del port per veure si s'esmenten amenaces.\n",
      "Predicted Ending: Bons restaurants i pràctiques de seguretat també us ajudaran a tranquil·litzar-vos i us ajudaran a mantenir-vos segurs durant el viatge. [subpassos] Determineu primer si el creuer s'ha de celebrar en un hotel o un resort. \n",
      "Correct Ending: [subpassos] Els departaments o ministeris d'estat solen emetre advertències i alertes de viatge per a destinacions internacionals. Truqueu o comproveu en línia amb l'agència governamental adequada al vostre país per veure si han llistat cap advertència per a cap dels vostres ports previstos.\n",
      "Is Correct: No\n",
      "Accuracy so far: 0.2954\n",
      "\n"
     ]
    },
    {
     "name": "stderr",
     "output_type": "stream",
     "text": [
      "9737it [55:31,  2.59it/s]"
     ]
    },
    {
     "name": "stdout",
     "output_type": "stream",
     "text": [
      "Context: [capçalera] Com tenyir les pestanyes [títol] Trieu un tint de pestanyes. [pas] No utilitzeu mai un tint de cabell estàndard quan tracteu les pestanyes. En lloc d'això, busqueu un tint específicament formulat per a l'ús amb pestanyes i celles.\n",
      "Predicted Ending: Aneu a la botiga i trieu un recipient de tint de pestanyes prou gran per a totes les pestanyes. [subpassos] Si utilitzeu un fil de cabell negre, apliqueu una fina capa de tint directament a cada rínxol un cop comenceu.\n",
      "Correct Ending: [subpassos] Els tints de cabell estàndard utilitzen productes químics que són perillosos per aplicar a prop dels ulls, per la qual cosa no s'haurien d'utilitzar mai a les pestanyes. Tindreu diverses opcions de color a escollir.\n",
      "Is Correct: No\n",
      "Accuracy so far: 0.2954\n",
      "\n"
     ]
    },
    {
     "name": "stderr",
     "output_type": "stream",
     "text": [
      "9738it [55:31,  2.55it/s]"
     ]
    },
    {
     "name": "stdout",
     "output_type": "stream",
     "text": [
      "Context: [capçalera] Com funcionar en una llar multigeneracional [títol] Sapigueu per què aquest arranjament està en marxa. [pas] Cada arranjament de vida té els seus avantatges i inconvenients, i per tal que funcioni, els avantatges s'han de reconèixer i han de superar els inconvenients. Quan les coses es posen difícils, recordar per què has triat viure en una llar multigeneracional t'ajudarà a afrontar qualsevol conflicte que pugui sorgir.\n",
      "Predicted Ending: Algunes de les raons per les quals les famílies decideixen viure juntes són: [subpassos] Diners. Pèrdua de la feina o despeses inesperades, com un divorci o una mort a la família.\n",
      "Correct Ending: Algunes de les raons per les quals les famílies decideixen viure juntes són: [subpassos] Diners. Pèrdua de la feina o despeses inesperades, com un divorci o una mort a la família.\n",
      "Is Correct: Yes\n",
      "Accuracy so far: 0.2955\n",
      "\n"
     ]
    },
    {
     "name": "stderr",
     "output_type": "stream",
     "text": [
      "9739it [55:32,  2.18it/s]"
     ]
    },
    {
     "name": "stdout",
     "output_type": "stream",
     "text": [
      "Context: [capçalera] Com ser un millor jugador de voleibol [títol] Aprèn a servir de sobre mà. [pas] Tot i que molts dels millors jugadors han perfeccionat el servei de salt, un servei simple de sobre mà pot ser igual d'efectiu. Col·loca't darrere de la línia de servei, llança la pilota a una alçada còmoda per sobre del cap i colpeja-la amb el palmell pla sobre la xarxa amb la màxima força possible.\n",
      "Predicted Ending: La pilota ha de romandre dins dels límits a l'altre costat de la xarxa. Tot i que els serveis de sota mà i de costat posen la pilota en joc, no són tan difícils de retornar com els serveis de sobre mà i no són tan desitjables d'aprendre.\n",
      "Correct Ending: La pilota ha de romandre dins dels límits a l'altre costat de la xarxa. Tot i que els serveis de sota mà i de costat posen la pilota en joc, no són tan difícils de retornar com els serveis de sobre mà i no són tan desitjables d'aprendre.\n",
      "Is Correct: Yes\n",
      "Accuracy so far: 0.2956\n",
      "\n"
     ]
    },
    {
     "name": "stderr",
     "output_type": "stream",
     "text": [
      "9740it [55:32,  2.18it/s]"
     ]
    },
    {
     "name": "stdout",
     "output_type": "stream",
     "text": [
      "Context: [capçalera] Com aconseguir una pell suau amb maduixes [títol] Tritura 2-3 maduixes madures. [pas] Això formarà la base de la teva màscara. Simplement renta les maduixes, treu-los els pecíols, col·loca'ls en un bol petit i tritura'ls amb un forquilla.\n",
      "Predicted Ending: Pots fer servir una cullera per triturar, però no les tritures tan fort que les maduixes es trenquin. [títol] Aboca les maduixes en un sac de te o una màscara de tela de cotó i gira per formar la base. \n",
      "Correct Ending: Barreja fins que formin una pasta llisa que no tingui trossos grans. [subpassos] Considera la possibilitat d'utilitzar maduixes ecològiques per tal que no estiguis aplicant productes químics o pesticides a la teva pell.\n",
      "Is Correct: No\n",
      "Accuracy so far: 0.2955\n",
      "\n"
     ]
    },
    {
     "name": "stderr",
     "output_type": "stream",
     "text": [
      "9741it [55:33,  2.21it/s]"
     ]
    },
    {
     "name": "stdout",
     "output_type": "stream",
     "text": [
      "Context: [capçalera] Com comprovar els ganglis limfàtics [títol] Localitza els ganglis limfàtics. [pas] Tens la major concentració de ganglis limfàtics al coll, la clavícula, les aixelles i l'engonal. Un cop sàpigues on es troben, podràs comprovar-los per veure si hi ha dolor o inflor.\n",
      "Predicted Ending: [subpassos] Per identificar els ganglis limfàtics, mira el lòbul de l'orella o la part alta del coll. Per realitzar una anàlisi de sang, col·loca una agulla a l'artèria caròtida corresponent.\n",
      "Correct Ending: [subpassos] Hi ha altres grups de ganglis limfàtics a tot el cos, inclosos a l'interior dels colzes i els genolls, però aquests no se solen comprovar per veure si hi ha inflor. [títol] Prova una àrea sense ganglis limfàtics per a comparació.\n",
      "Is Correct: No\n",
      "Accuracy so far: 0.2955\n",
      "\n"
     ]
    },
    {
     "name": "stderr",
     "output_type": "stream",
     "text": [
      "9742it [55:33,  2.42it/s]"
     ]
    },
    {
     "name": "stdout",
     "output_type": "stream",
     "text": [
      "Context: [capçalera] Com evitar que una camisa de vestir es puji [títol] Met la camisa com a normal. [pas] Començant amb els pantalons desabotons, empeny el cua de la camisa cap avall a la cintura. Assegura't que està recte i completament estès per evitar arrugues.\n",
      "Predicted Ending: Pinça-ho a les corretges de l'espatlla per a que s'estengui fins al coll, i tanca el botó just per sobre del coll. [títol] Insereix un mocador a la camisa de vestir. \n",
      "Correct Ending: Vols començar amb una base tan nítida i neta com sigui possible. [subpassos] El tuck militar funcionarà millor amb una camisa que arribi almenys 3-4 polzades (7,6-10,2 cm) per sota de la cintura.\n",
      "Is Correct: No\n",
      "Accuracy so far: 0.2955\n",
      "\n"
     ]
    },
    {
     "name": "stderr",
     "output_type": "stream",
     "text": [
      "9743it [55:33,  2.61it/s]"
     ]
    },
    {
     "name": "stdout",
     "output_type": "stream",
     "text": [
      "Context: [capçalera] Com escriure cartes de condol [títol] No esperis massa. [pas] Si vols enviar una carta de condol a algú, assegura't de fer-ho de manera oportuna. Hauríeu d'escriure al dolgut una carta en un termini de dues setmanes de la seva pèrdua.\n",
      "Predicted Ending: No esperis fins que alguna de les dues persones mori per deixar una carta. Hauràs d'enviar-la després d'un dia determinat de l'any, abans si no tens un taüt per enterrar-los, o després que s'hagin fet els preparatius del funeral.\n",
      "Correct Ending: Aquest és el moment en què estan més centrats en el dol. Estaran tractant amb els preparatius del funeral i preparant-se per les seves adéus finals.\n",
      "Is Correct: No\n",
      "Accuracy so far: 0.2954\n",
      "\n"
     ]
    },
    {
     "name": "stderr",
     "output_type": "stream",
     "text": [
      "9744it [55:34,  2.75it/s]"
     ]
    },
    {
     "name": "stdout",
     "output_type": "stream",
     "text": [
      "Context: [capçalera] Com acompanyar algú [títol] Bloc o evita un atac del teu oponent. [pas] Si algú està venint cap a tu en un atac, voldràs estar preparat per defensar-te. [subpassos] Apartar-se de l'atacant per posar-se fora de l'abast.\n",
      "Predicted Ending: Si estàs intentant subjectar l'atacant o assegurar-te que no pot fer-te mal, bloqueja l'atacant amb el peu no dominant. Si estàs intentant desarmar l'atacant, bloqueja amb el peu no dominant.\n",
      "Correct Ending: Col·loca els braços davant de la teva cara per bloquejar qualsevol cop de puny. Agafa't un cop de puny i prepara't per contraatacar.\n",
      "Is Correct: No\n",
      "Accuracy so far: 0.2954\n",
      "\n"
     ]
    },
    {
     "name": "stderr",
     "output_type": "stream",
     "text": [
      "9745it [55:34,  2.70it/s]"
     ]
    },
    {
     "name": "stdout",
     "output_type": "stream",
     "text": [
      "Context: [capçalera] Com eliminar parets interiors [títol] Primer, determina si la paret que vols eliminar és una paret de càrrega, és a dir, si suporta el pis superior. [pas] Entra al teu soterrani (o a l'espai de rastreig) i observa l'alineament de les bigues del sòl. Aquests són grans tros de fusta que van d'un costat a l'altre de la casa suportant el sòl/teulada i generalment estan separats per 16 \".\n",
      "Predicted Ending: Recorda l'alineament: generalment van d'un costat a l'altre a la majoria de les cases modernes a través de l'amplada de la casa. [títol] Si la paret que vols eliminar està en angle recte amb les bigues del sòl, atura't.\n",
      "Correct Ending: Recorda l'alineament: generalment van d'un costat a l'altre a la majoria de les cases modernes a través de l'amplada de la casa. [títol] Si la paret que vols eliminar està en angle recte amb les bigues del sòl, atura't.\n",
      "Is Correct: Yes\n",
      "Accuracy so far: 0.2955\n",
      "\n"
     ]
    },
    {
     "name": "stderr",
     "output_type": "stream",
     "text": [
      "9746it [55:34,  2.84it/s]"
     ]
    },
    {
     "name": "stdout",
     "output_type": "stream",
     "text": [
      "Context: [capçalera] Com fer xampú natural per al teu tipus de cabell [títol] Bullir 1 tassa d'aigua de font. [títol] Retirar la paella del foc i afegir 2 cullerades de camamilla seca. [títol] Deixar en remull durant 15 minuts.\n",
      "Predicted Ending: [títol] Obtenir un xampú adequat per al teu tipus de cabell. [pas] Aquests xampús i condicionadors són molt absorbents i, per tant, s'han de assecar per separat durant més temps.\n",
      "Correct Ending: [títol] Colar les herbes del líquid i llençar les herbes. [títol] Deixar reposar el líquid uns 20 minuts, permetent que es refredi completament.\n",
      "Is Correct: No\n",
      "Accuracy so far: 0.2954\n",
      "\n"
     ]
    },
    {
     "name": "stderr",
     "output_type": "stream",
     "text": [
      "9747it [55:35,  2.75it/s]"
     ]
    },
    {
     "name": "stdout",
     "output_type": "stream",
     "text": [
      "Context: [capçalera] Com utilitzar una patada frontal per a l'autodefensa [títol] Coneix els teus límits. [pas] Si no estàs entrenat, hauries de deixar els teus moviments de Jackie Chan al gimnàs. El tipus de patada frontal que la majoria de la gent imagina (volant cap al tors de l'atacant) és més probable que et porti a tu mateix que al teu atacant.\n",
      "Predicted Ending: Mira les coses des del punt de vista de Jackie Chan. [títol] Col·loca les teves cames de manera que estiguin per sobre dels teus dits dels peus.\n",
      "Correct Ending: La persona mitjana no té la velocitat de patada per aconseguir-ho. Dedica temps a practicar i obtingue un sentit de les teves capacitats, demanant consell a un artista marcial si és possible. \n",
      "Is Correct: No\n",
      "Accuracy so far: 0.2954\n",
      "\n"
     ]
    },
    {
     "name": "stderr",
     "output_type": "stream",
     "text": [
      "9748it [55:35,  2.90it/s]"
     ]
    },
    {
     "name": "stdout",
     "output_type": "stream",
     "text": [
      "Context: [capçalera] Com millorar la teva integritat personal [títol] Viu amb honestedat i mantén les teves promeses. [pas] L'honestedat és un dels aspectes més importants de la integritat. Si ets deshonest o enganyós amb els altres, no pots viure una vida d'integritat.\n",
      "Predicted Ending: Quan descobreixis que algú t'ha enganyat, no responis immediatament amb ràbia o frustració. En lloc d'això, assumeix la responsabilitat del teu comportament i deixa anar tota la frustració reprimida.\n",
      "Correct Ending: Part de ser honest amb els altres també inclou complir les promeses que fas. Una promesa trencada és efectivament una mentida, i mentir és inconsistent amb viure amb integritat.\n",
      "Is Correct: No\n",
      "Accuracy so far: 0.2954\n",
      "\n"
     ]
    },
    {
     "name": "stderr",
     "output_type": "stream",
     "text": [
      "9749it [55:36,  2.83it/s]"
     ]
    },
    {
     "name": "stdout",
     "output_type": "stream",
     "text": [
      "Context: [capçalera] Com controlar la teva pell grassa [títol] Entén què causa la pell grassa. [pas] L'oli a la pell és produït per les glàndules sebàcies. Aquestes són més nombroses a les zones de la cara, el coll, el pit i l'esquena, motiu pel qual aquestes àrees són on més sovint es pateix de pell grassa.\n",
      "Predicted Ending: [títol] Coneix els factors que et predisposen a la pell grassa. [pas] Aquests inclouen: [subpassos] Genètica: si la teva mare i el teu pare tenen o van tenir pell grassa en algun moment de la seva vida, és més probable que tu també la tinguis.\n",
      "Correct Ending: [títol] Coneix els factors que et predisposen a la pell grassa. [pas] Aquests inclouen: [subpassos] Genètica: si la teva mare i el teu pare tenen o van tenir pell grassa en algun moment de la seva vida, és més probable que tu també la tinguis.\n",
      "Is Correct: Yes\n",
      "Accuracy so far: 0.2955\n",
      "\n"
     ]
    },
    {
     "name": "stderr",
     "output_type": "stream",
     "text": [
      "9750it [55:36,  2.87it/s]"
     ]
    },
    {
     "name": "stdout",
     "output_type": "stream",
     "text": [
      "Context: [capçalera] Com ser un membre del cos amb èxit a AmeriCorps [títol] Compromet-te a servir al programa. [pas] Sigues realista sobre els reptes de servir per saber com ser un membre del cos amb èxit a AmeriCorps. Hauràs de treballar llargues hores i estar amb un grup d'altres voluntaris d'AmeriCorps durant moltes hores alhora.\n",
      "Predicted Ending: Uneix-te a un club a AmeriCorps que et faci sentir especial i recolzat. Aquest serà un bon lloc per començar el teu viatge i desenvolupar la teva xarxa per a una bona servei com a membre del cos i a l'etapa final de la teva formació.\n",
      "Correct Ending: Hi haurà poques oportunitats de privacitat o temps a soles. La feina és físicament i mentalment exigent, i estaràs exposat a diferents cultures i estils de vida.\n",
      "Is Correct: No\n",
      "Accuracy so far: 0.2954\n",
      "\n"
     ]
    },
    {
     "name": "stderr",
     "output_type": "stream",
     "text": [
      "9751it [55:36,  2.86it/s]"
     ]
    },
    {
     "name": "stdout",
     "output_type": "stream",
     "text": [
      "Context: [capçalera] Com a prova de tempesta la seva llar [títol] Centrar-se en les teulades, canals i baixants. [pas] La millor manera de preparar una llar per a una temporada de pluges és dirigir l'aigua lluny d'ella i assegurar-se que els canals de drenatge siguin sòlids. Comproveu que els canals estiguin lliures de residus i que els baixants no estiguin obstruïts o solts.\n",
      "Predicted Ending: Consideri comprar prèviament un casc de canal per evitar haver de netejar els canals amb freqüència. Això assegurarà que els tubs es mantinguin nets i sense obstruccions durant tota la temporada. \n",
      "Correct Ending: Consideri comprar prèviament un casc de canal per evitar haver de netejar els canals amb freqüència. Això assegurarà que els tubs es mantinguin nets i sense obstruccions durant tota la temporada. \n",
      "Is Correct: Yes\n",
      "Accuracy so far: 0.2955\n",
      "\n"
     ]
    },
    {
     "name": "stderr",
     "output_type": "stream",
     "text": [
      "9752it [55:37,  2.83it/s]"
     ]
    },
    {
     "name": "stdout",
     "output_type": "stream",
     "text": [
      "Context: [capçalera] Com motivar un equip [títol] Discuteix els beneficis de l'èxit. [pas] Si vols que el teu equip estigui motivat, has d'explicar els resultats positius d'aconseguir l'objectiu. En incorporar aquest pas de motivació de l'equip, estàs posant el control sobre la seva futura compensació o altres recompenses a les seves pròpies mans.\n",
      "Predicted Ending: El vostre equip hauria de veure com el seu èxit beneficiaria no només l'empresa, sinó també a cada membre individual de l'equip. Si realment voleu motivar-los, heu de fer que els vostres objectius siguin tan concrets com sigui possible perquè puguin sentir una recompensa tangible.\n",
      "Correct Ending: El vostre equip hauria de veure com el seu èxit beneficiaria no només l'empresa, sinó també a cada membre individual de l'equip. Si realment voleu motivar-los, heu de fer que els vostres objectius siguin tan concrets com sigui possible perquè puguin sentir una recompensa tangible.\n",
      "Is Correct: Yes\n",
      "Accuracy so far: 0.2956\n",
      "\n"
     ]
    },
    {
     "name": "stderr",
     "output_type": "stream",
     "text": [
      "9753it [55:37,  2.75it/s]"
     ]
    },
    {
     "name": "stdout",
     "output_type": "stream",
     "text": [
      "Context: [capçalera] Com ser un bon cornerback [títol] Posar-se en la posició de 2 punts adequada. [pas] La teva esquena ha d'estar plana i els teus genolls haurien de estar moderadament doblegats. [títol] Si estàs jugant a prop del receptor, has de fer contacte amb ell, interrompre la seva ruta i el moment de la ruta.\n",
      "Predicted Ending: [pas] Si estàs jugant a la línia de banda, moure't cap a dins a 36' seria una bona manera de col·locar-te per al tir. [títol] Mai esperis que el moment sigui el correcte.\n",
      "Correct Ending: [pas] Després de fer contacte, gira i corre amb el receptor en cobertura 1 o cobreix-lo a la teva zona i fes les teves caigudes adequades. [títol] Si estàs jugant fora del teu home, retrocedeix dins del rang de les 20 iardes (18.\n",
      "Is Correct: No\n",
      "Accuracy so far: 0.2955\n",
      "\n"
     ]
    },
    {
     "name": "stderr",
     "output_type": "stream",
     "text": [
      "9754it [55:37,  2.84it/s]"
     ]
    },
    {
     "name": "stdout",
     "output_type": "stream",
     "text": [
      "Context: [capçalera] Com fer que una llar olori bé de forma natural [títol] Feu alguna cosa que olori bé, com ara coure pa. [pas] El centre d'una llar sovint és la cuina. En aquesta època, sovint és el cas que tota la família es trobi per menjar i, per tant, és important que olori bé.\n",
      "Predicted Ending: Eviteu organitzar la vostra llar configurant una zona central, com ara la sala d'estar, la cuina o el dormitori. A mesura que vagi passant el temps, potser descobrireu que s'ha convertit en una característica setmanal.\n",
      "Correct Ending: L'olor de pa al forn és increïblement bona. Si no teniu temps per coure el vostre propi, compreu-ne als forners. \n",
      "Is Correct: No\n",
      "Accuracy so far: 0.2955\n",
      "\n"
     ]
    },
    {
     "name": "stderr",
     "output_type": "stream",
     "text": [
      "9755it [55:38,  2.76it/s]"
     ]
    },
    {
     "name": "stdout",
     "output_type": "stream",
     "text": [
      "Context: [capçalera] Com netejar una casa amb una rentadora a pressió [títol] Tapar totes les preses elèctriques exteriors. [pas] Aplicar un tros de cinta adhesiva per tapar i segellar les preses, fins i tot si les preses ja estan equipades amb cobertes de tensió de moll. La cinta ajudarà a evitar que l'aigua i el detergent es filtrin a les preses.\n",
      "Predicted Ending: [subpassos] Si la casa es troba en una zona propensa a inundacions, tapar totes les preses amb cinta adhesiva en cas d'inundació. [títol] Treure els aparells d'aire condicionat del primer pis de la casa.\n",
      "Correct Ending: [títol] Inspeccionar l'exterior per veure si hi ha signes de floridura o motlle. [pas] Tractar aquestes àrees amb una solució de 2 parts de lleixiu i 1 part d'aigua, administrada amb l'ampolla de polvorització.\n",
      "Is Correct: No\n",
      "Accuracy so far: 0.2955\n",
      "\n"
     ]
    },
    {
     "name": "stderr",
     "output_type": "stream",
     "text": [
      "9756it [55:38,  2.77it/s]"
     ]
    },
    {
     "name": "stdout",
     "output_type": "stream",
     "text": [
      "Context: [capçalera] Com mesurar la temperatura [títol] Utilitzeu el termòmetre per prendre la temperatura corporal. [pas] Si bé els termòmetres de vidre no són ideals per prendre la temperatura corporal, encara podeu utilitzar-los en lloc d'un termòmetre elèctric. Col·loqueu-los a la zona adequada del cos i espereu entre 2 i 4 minuts abans de llegir la temperatura.\n",
      "Predicted Ending: [subpassos] Els nens petits poden mossegar i trencar el termòmetre, raó per la qual sol ser més segur prendre la temperatura amb un termòmetre digital. Per a nens majors de 5 anys i adults, col·loqueu l'extrem metàl·lic sota la llengua.\n",
      "Correct Ending: [subpassos] Els nens petits poden mossegar i trencar el termòmetre, raó per la qual sol ser més segur prendre la temperatura amb un termòmetre digital. Per a nens majors de 5 anys i adults, col·loqueu l'extrem metàl·lic sota la llengua.\n",
      "Is Correct: Yes\n",
      "Accuracy so far: 0.2955\n",
      "\n"
     ]
    },
    {
     "name": "stderr",
     "output_type": "stream",
     "text": [
      "9757it [55:38,  2.88it/s]"
     ]
    },
    {
     "name": "stdout",
     "output_type": "stream",
     "text": [
      "Context: [capçalera] Com mostrar el escote [títol] Porta tops que mostrin el teu escote. [pas] Si bé això pot semblar evident, la part superior adequada és absolutament essencial quan es mostra l'escote. No pots mostrar alguna cosa que estigui tapada.\n",
      "Predicted Ending: Demana a una amiga si estaria d'acord amb un top que mostri el seu escote, i si diu que sí! [títol] Busca un tall elegant. [pas] Els mesos d'estiu i d'hivern són el moment ideal per mostrar el teu escote. \n",
      "Correct Ending: Si bé un jersei de coll alt pot fer que el teu bust sembli fantàstic, amagarà el teu escote. Assegura't que el que portis estigui tallat per a un escote visible.\n",
      "Is Correct: No\n",
      "Accuracy so far: 0.2955\n",
      "\n"
     ]
    },
    {
     "name": "stderr",
     "output_type": "stream",
     "text": [
      "9758it [55:39,  2.95it/s]"
     ]
    },
    {
     "name": "stdout",
     "output_type": "stream",
     "text": [
      "Context: [capçalera] Com posar-te els cabells amb una pinça de mandíbula [títol] Raspalla't els cabells. [pas] Desfés qualsevol nus o enredament primer, o la pinça es pot enganxar. Això és especialment important per als cabells llargs.\n",
      "Predicted Ending: A diferència de les pinces per a cabells (on els cabells són més prims), les pinces per a cabells no estan pensades per a tots els pentinats. Per estar segur, sempre hauries de raspallar-te els cabells abans i després de qualsevol estil, especialment quan treballes amb els cabells. \n",
      "Correct Ending: Un cop els cabells estiguin lliures d'enredaments, continua amb els passos següents per crear un cap ple de volum amb un vapor agradable que cobreixi la pinça. [títol] Col·loca les palmes de les mans sota els cabells.\n",
      "Is Correct: No\n",
      "Accuracy so far: 0.2955\n",
      "\n"
     ]
    },
    {
     "name": "stderr",
     "output_type": "stream",
     "text": [
      "9759it [55:39,  2.99it/s]"
     ]
    },
    {
     "name": "stdout",
     "output_type": "stream",
     "text": [
      "Context: [capçalera] Com lligar les Timberlands [títol] Enfileu un costat de la corda pel llaç inferior. [pas] Els llaços són els petits forats a la part frontal de la bota. Podeu enfilar la corda pel llaç des de fora o introduir-la pels forats des del centre de la sabata.\n",
      "Predicted Ending: [títol] Enfileu la corda pel forat del llaç. [pas] Mentre estireu la corda cap al forat del llaç, canvieu la corda cap amunt i cap a través de la sabata de manera que la corda quedi exposada al forat del llaç. \n",
      "Correct Ending: Proveu els dos mètodes per veure quin estil us agrada més. [subpassos] Enfilar les cordes des de fora s'adapta bé als estils solts i creuats.\n",
      "Is Correct: No\n",
      "Accuracy so far: 0.2955\n",
      "\n"
     ]
    },
    {
     "name": "stderr",
     "output_type": "stream",
     "text": [
      "9760it [55:39,  2.90it/s]"
     ]
    },
    {
     "name": "stdout",
     "output_type": "stream",
     "text": [
      "Context: [capçalera] Com identificar el dany dels tallarols [títol] Identificar el tipus de tallarol. [pas] En cercar característiques d'alimentació específiques d'un tipus de tallarol, podeu identificar millor el dany de les plantes. [subpassos] Busqueu danys de tallarols negres.\n",
      "Predicted Ending: Els tallarols negres més grans, de 1 1/4 polzada (32 mm) de longitud, tallaran els tiges a la base de les plantes. Els més petits (menys de 1/2 polzada o 12 mm de longitud) s'alimentaran de les fulles de les plantes del jardí. \n",
      "Correct Ending: Els tallarols negres més grans, de 1 1/4 polzada (32 mm) de longitud, tallaran els tiges a la base de les plantes. Els més petits (menys de 1/2 polzada o 12 mm de longitud) s'alimentaran de les fulles de les plantes del jardí. \n",
      "Is Correct: Yes\n",
      "Accuracy so far: 0.2955\n",
      "\n"
     ]
    },
    {
     "name": "stderr",
     "output_type": "stream",
     "text": [
      "9761it [55:40,  3.02it/s]"
     ]
    },
    {
     "name": "stdout",
     "output_type": "stream",
     "text": [
      "Context: [capçalera] Com fer un canvi d'imatge sense maquillatge [títol] Comença amb una superfície neta. [pas] Renta't la cara amb un netejador facial o sabó i aigua tèbia. Alguns sabons poden ser assecants per a la pell més delicada de la cara.\n",
      "Predicted Ending:  També podries fer servir un tònic, en comptes d'això. Deixa que la teva cara s'assequi a l'aire com ho faries normalment.\n",
      "Correct Ending:  Només fes servir sabó de mans ordinari per a rentar-te la cara si no tens més remei. Fes servir una tovallola o un drap de franela en petits moviments circulars a la teva front i galtes per ajudar a eliminar les cèl·lules mortes de la pell del dia.\n",
      "Is Correct: No\n",
      "Accuracy so far: 0.2955\n",
      "\n"
     ]
    },
    {
     "name": "stderr",
     "output_type": "stream",
     "text": [
      "9762it [55:40,  3.03it/s]"
     ]
    },
    {
     "name": "stdout",
     "output_type": "stream",
     "text": [
      "Context: [capçalera] Com fer una broma a la teva xicota el dia dels innocents [títol] Omple la seva habitació de globus. [pas] Una broma fàcil i divertida és inflar un munt de globus i omplir la seva habitació amb ells. Fes-ho quan estigui a la feina o a casa d'un amic.\n",
      "Predicted Ending: Assegura't que els globus omplin completament l'habitació. Tanca la porta després d'haver-la omplert per tal que tingui una divertida sorpresa quan obri la porta de la seva habitació.\n",
      "Correct Ending: Assegura't que els globus omplin completament l'habitació. Tanca la porta després d'haver-la omplert per tal que tingui una divertida sorpresa quan obri la porta de la seva habitació.\n",
      "Is Correct: Yes\n",
      "Accuracy so far: 0.2956\n",
      "\n"
     ]
    },
    {
     "name": "stderr",
     "output_type": "stream",
     "text": [
      "9763it [55:40,  3.08it/s]"
     ]
    },
    {
     "name": "stdout",
     "output_type": "stream",
     "text": [
      "Context: [capçalera] Com aplicar crema facial [títol] Comença amb la cara i les mans netes. [pas] Renta't la cara amb aigua tèbia i un netejador facial adequat al teu tipus de pell. Esquitxa't la cara amb aigua freda i asseca-la suaument amb una tovallola tova.\n",
      "Predicted Ending: [títol] Barreja els dos productes amb un drap de cotó i aplica'ls a la cara. [pas] Si no tens un drap de cotó o tovallola, fes servir un drap de cotó calent o un bol.\n",
      "Correct Ending: [títol] Considera aplicar un tònic amb un bol de cotó o un cotó. [pas] El tònic ajudarà a restaurar el ph de la teva pell.\n",
      "Is Correct: No\n",
      "Accuracy so far: 0.2955\n",
      "\n"
     ]
    },
    {
     "name": "stderr",
     "output_type": "stream",
     "text": [
      "9764it [55:41,  3.10it/s]"
     ]
    },
    {
     "name": "stdout",
     "output_type": "stream",
     "text": [
      "Context: [capçalera] Com fer rotllets de canyella amb massa de pastís [títol] Escalfeu la llet. [pas] Utilitzant una cassola petita, escalfeu la llet a foc lent. Feu que la llet s'escalfi fins que estigui tèbia, al voltant de 95 graus Fahrenheit o 35 graus Celsius.\n",
      "Predicted Ending: Això hauria de trigar entre dos i tres minuts, depenent del termòmetre. [títol] Aboqueu la llet en un bol per a barrejar.\n",
      "Correct Ending: Normalment trigarà uns 5-7 minuts. [títol] Barregeu la llet, el sucre i el llevat.\n",
      "Is Correct: No\n",
      "Accuracy so far: 0.2955\n",
      "\n"
     ]
    },
    {
     "name": "stderr",
     "output_type": "stream",
     "text": [
      "9765it [55:41,  2.99it/s]"
     ]
    },
    {
     "name": "stdout",
     "output_type": "stream",
     "text": [
      "Context: [capçalera] Com obtenir més amics amb discapacitat [títol] Prova grups de suport per a persones amb discapacitat. [pas] Hi ha grups de suport per a discapacitats específiques (per exemple, paràlisi cerebral), grups de discapacitats (per exemple, malalties mentals) o discapacitat en general. [subpassos] Assegura't que compleixes els requisits per al grup abans d'anar-hi.\n",
      "Predicted Ending: Per exemple, si el grup només és per a persones que tenen síndrome de Down, i tu ets la mare d'un nen amb síndrome de Down, aquest no és un espai per a tu. [títol] Busca clubs i activitats relacionades amb la discapacitat.\n",
      "Correct Ending: Per exemple, si el grup només és per a persones que tenen síndrome de Down, i tu ets la mare d'un nen amb síndrome de Down, aquest no és un espai per a tu. [títol] Busca clubs i activitats relacionades amb la discapacitat.\n",
      "Is Correct: Yes\n",
      "Accuracy so far: 0.2956\n",
      "\n"
     ]
    },
    {
     "name": "stderr",
     "output_type": "stream",
     "text": [
      "9766it [55:41,  2.99it/s]"
     ]
    },
    {
     "name": "stdout",
     "output_type": "stream",
     "text": [
      "Context: [capçalera] Com fer llet de coco amb xocolata [títol] Escalfeu l'aigua. [pas] Escalfeu l'aigua fins que estigui molt calenta o bulli. Podeu fer-ho fàcilment escalfant l'aigua en una olla al fogó o en una caldera elèctrica.\n",
      "Predicted Ending: Assegureu-vos que l'aigua no estigui massa calenta. Si està massa freda, s'acumularà i provocarà cremades. \n",
      "Correct Ending: L'aigua que està lleugerament per sota del punt d'ebullició preservarà millor el valor nutricional del coco. [títol] Prepareu el colador mentre s'escalfa l'aigua.\n",
      "Is Correct: No\n",
      "Accuracy so far: 0.2956\n",
      "\n"
     ]
    },
    {
     "name": "stderr",
     "output_type": "stream",
     "text": [
      "9767it [55:42,  2.92it/s]"
     ]
    },
    {
     "name": "stdout",
     "output_type": "stream",
     "text": [
      "Context: [capçalera] Com animar la imaginació del vostre fill petit [títol] Animeu-lo a utilitzar blocs. [pas] Els blocs de joguina i altres joguines de construcció ajuden a la creativitat i aguditzen habilitats crucials com ara la motora i l'espacial. L'objectiu d'un bloc és construir i crear alguna cosa més gran que el mateix bloc i és una gran metàfora per a la vida en general.\n",
      "Predicted Ending: Utilitzeu blocs per formar cercles, rectangles o altres grups estructurals d'objectes que il·lustrin l'estat mental del vostre fill petit. [subpassos] Creeu formes geomètriques obertes i tancades que il·lustrin l'estat mental del vostre fill petit.\n",
      "Correct Ending: Doneu al vostre fill un conjunt de blocs i jugueu amb ells, observant i ajudant-lo mentre crea diverses estructures. [subpassos] Intenteu trobar blocs de tots els colors, formes i mides.\n",
      "Is Correct: No\n",
      "Accuracy so far: 0.2955\n",
      "\n"
     ]
    },
    {
     "name": "stderr",
     "output_type": "stream",
     "text": [
      "9768it [55:42,  2.86it/s]"
     ]
    },
    {
     "name": "stdout",
     "output_type": "stream",
     "text": [
      "Context: [capçalera] Com prevenir l'abús d'Adderall en adults joves [títol] No comparteixi medicaments amb recepta i mantingui'ls segurs. [pas] Els abusadors d'Adderall adults joves utilitzen una varietat de mètodes per adquirir quantitats no prescrites o excessives del medicament. De vegades simulen símptomes i busquen un metge disposat a prescriure Adderall, o van de \"compra de metges\" i obtenen múltiples receptes de diversos metges.\n",
      "Predicted Ending: No obstant això, el més freqüent és que simplement comprin, rebin o prenguin pastilles de familiars, amics o coneguts. [subpassos] Tant si es tracta d'Adderall com de qualsevol altre medicament amb recepta, mai comparteixi les seves pastilles amb una altra persona.\n",
      "Correct Ending: No obstant això, el més freqüent és que simplement comprin, rebin o prenguin pastilles de familiars, amics o coneguts. [subpassos] Tant si es tracta d'Adderall com de qualsevol altre medicament amb recepta, mai comparteixi les seves pastilles amb una altra persona.\n",
      "Is Correct: Yes\n",
      "Accuracy so far: 0.2956\n",
      "\n"
     ]
    },
    {
     "name": "stderr",
     "output_type": "stream",
     "text": [
      "9769it [55:42,  2.98it/s]"
     ]
    },
    {
     "name": "stdout",
     "output_type": "stream",
     "text": [
      "Context: [capçalera] Com desfer els nus dels cabells sense dolor [títol] Comprova si està sec. [pas] Abans d'intentar treure cap nus, assegura't que els cabells no estiguin massa secs. Això farà que sigui menys dolorós quan realment estiguis treient els nusos.\n",
      "Predicted Ending: Els cabells mullats solen assecar-se molt ràpidament i poden provocar menys danys als cabells. [subpassos] Si l'oli dels cabells ajuda a desfer els nusos mentre els estàs desfent, aguanta'ls sobre un lavabo o una banyera i després estira suaument les arrels i les puntes dels cabells cap avall per eliminar la màxima quantitat d'oli possible. \n",
      "Correct Ending: [títol] Separa completament els cabells si els tens lligats i deixa'ls lliures. [pas] Intenta alliberar els cabells solts d'un grup enredat.\n",
      "Is Correct: No\n",
      "Accuracy so far: 0.2956\n",
      "\n"
     ]
    },
    {
     "name": "stderr",
     "output_type": "stream",
     "text": [
      "9770it [55:43,  3.08it/s]"
     ]
    },
    {
     "name": "stdout",
     "output_type": "stream",
     "text": [
      "Context: [capçalera] Com fer créixer el cabell curt [títol] Espereu dues setmanes més entre els retalls. [pas] A mesura que el cabell us creix, heu de continuar visitant el vostre estilista regularment per a retalls. No obstant això, hauríeu d'ampliar el temps entre els retalls.\n",
      "Predicted Ending: Això permetrà que el cabell us creixi més llarg i es converteixi en més resistent als rínxols. [títol] Visiteu una perruqueria un cop o dos per setmana.\n",
      "Correct Ending: Això fomentarà el creixement i us ajudarà a mantenir-vos al dia amb les puntes obertes. [subpassos] Per exemple, en lloc d'obtenir un tall cada vuit o deu setmanes, aneu a la perruqueria cada deu o dotze setmanes.\n",
      "Is Correct: No\n",
      "Accuracy so far: 0.2955\n",
      "\n"
     ]
    },
    {
     "name": "stderr",
     "output_type": "stream",
     "text": [
      "9771it [55:43,  3.03it/s]"
     ]
    },
    {
     "name": "stdout",
     "output_type": "stream",
     "text": [
      "Context: [capçalera] Com tallar-te els cabells (homes) [títol] Renta't els cabells abans de tallar-los. [pas] Els teus cabells seran més fàcils de treballar si estan nets i sense nusos. Mulla't els cabells amb aigua corrent i fes servir xampú i condicionador, esbandint-los tots dos després de haver-los treballat a través dels cabells.\n",
      "Predicted Ending: [títol] Esbandiu i assequeu els cabells amb una tovallola. [pas] Després d'haver acabat de treballar els teus cabells, fes una bona dutxa calenta. \n",
      "Correct Ending: [títol] Desenreda els teus cabells amb un pentinat. [pas] Passa el pentinat pels cabells i treu els nusos amb el pentinat o amb els dits.\n",
      "Is Correct: No\n",
      "Accuracy so far: 0.2955\n",
      "\n"
     ]
    },
    {
     "name": "stderr",
     "output_type": "stream",
     "text": [
      "9772it [55:43,  2.92it/s]"
     ]
    },
    {
     "name": "stdout",
     "output_type": "stream",
     "text": [
      "Context: [capçalera] Com fer una crema solar perfumada [títol] Trieu una crema solar que no utilitzeu gaire o que tingui una alta protecció. [títol] En un recipient buit o un bol, aboqueu tanta crema solar com vulgueu. [títol] Trieu una loció corporal o mantega corporal que tingui una aroma agradable.\n",
      "Predicted Ending: [títol] Potser vulgueu comprar una crema solar de xocolata que tingui una aroma estiuenca o una loció rosada clara. [títol] A la foscor, feu un petit forat a la tapa del recipient per a la ventilació.\n",
      "Correct Ending: [pas] Si no voleu utilitzar tota la loció, utilitzeu 2-3 cullerades (29,6-44,4 ml) per a una dosi més petita. [títol] Barregeu la crema solar amb la vostra loció corporal perfumada preferida fins que tingueu una barreja suau.\n",
      "Is Correct: No\n",
      "Accuracy so far: 0.2955\n",
      "\n"
     ]
    },
    {
     "name": "stderr",
     "output_type": "stream",
     "text": [
      "9773it [55:44,  2.92it/s]"
     ]
    },
    {
     "name": "stdout",
     "output_type": "stream",
     "text": [
      "Context: [capçalera] Com perdre pes amb una dieta mediterrània [títol] Cuineu amb oli d'oliva verge extra. [pas] Perdre pes amb la dieta mediterrània no implica evitar el greix del tot, simplement implica menjar el tipus de greix correcte. L'oli d'oliva verge extra és el greix que s'ha d'utilitzar per a cuinar i condimentar els aliments.\n",
      "Predicted Ending: Això hauria de substituir en gran mesura la mantega a la vostra dieta. L'oli d'oliva pot ser fins i tot la clau dels beneficis per a la salut de la dieta mediterrània.\n",
      "Correct Ending: Això hauria de substituir en gran mesura la mantega a la vostra dieta. L'oli d'oliva pot ser fins i tot la clau dels beneficis per a la salut de la dieta mediterrània.\n",
      "Is Correct: Yes\n",
      "Accuracy so far: 0.2955\n",
      "\n"
     ]
    },
    {
     "name": "stderr",
     "output_type": "stream",
     "text": [
      "9774it [55:44,  2.90it/s]"
     ]
    },
    {
     "name": "stdout",
     "output_type": "stream",
     "text": [
      "Context: [capçalera] Com pentinar-se sense que faci mal [títol] Utilitzeu un pentinat de dents amples o una pinta. [pas] No utilitzeu mai un raspall sobre el cabell mullat. En utilitzar un pentinat de dents amples o una pinta amb puntes arrodonides, podreu pentinar el cabell amb molta més suavitat que si utilitzeu un pentinat de dents fines o un raspall.\n",
      "Predicted Ending: Pentinar amb un pentinat de dents amples eliminarà tots els nusos del cabell, deixant-lo més llis i brillant. Utilitzeu el pentinat de dents amples com a punt de partida i aneu baixant per la llargada del cabell.\n",
      "Correct Ending: Podreu desfer qualsevol nus amb suavitat i sense dolor. Quan el cabell està mullat, és molt més fràgil i vulnerable a danys, per tant, sigueu molt delicats. \n",
      "Is Correct: No\n",
      "Accuracy so far: 0.2955\n",
      "\n"
     ]
    },
    {
     "name": "stderr",
     "output_type": "stream",
     "text": [
      "9775it [55:44,  2.98it/s]"
     ]
    },
    {
     "name": "stdout",
     "output_type": "stream",
     "text": [
      "Context: [capçalera] Com tractar els parpelles encarnats en gossos [títol] Busqueu estranyament. [pas] L'estranyament és un signe fàcilment reconeixible d'irritació ocular. El vostre gos pot estranyar si sent que hi ha alguna cosa a l'ull que no pot treure.\n",
      "Predicted Ending: Això no sempre és una indicació d'irritació ocular. Sovint passa que les llàgrimes s'acumulen dins dels parpelles, la qual cosa pot fer que els ulls semblin desenfocats i secs.\n",
      "Correct Ending: En aquest cas, el parpella encarnat està provocant que les pestanyes freguin directament contra l'ull. Si no pots dir si el teu gos està estranyant, compara la mida de l'ull irritat del teu gos amb l'altre.\n",
      "Is Correct: No\n",
      "Accuracy so far: 0.2955\n",
      "\n"
     ]
    },
    {
     "name": "stderr",
     "output_type": "stream",
     "text": [
      "9776it [55:45,  3.01it/s]"
     ]
    },
    {
     "name": "stdout",
     "output_type": "stream",
     "text": [
      "Context: [capçalera] Com treballar a un estudi d'enregistrament [títol] Sigues amable i adaptable. [pas] Treballar a un estudi d'enregistrament requereix una passió per la música i la capacitat d'adaptar-se ràpidament a les noves tecnologies. Has de ser capaç de portar-te bé amb els altres i treballar en equip.\n",
      "Predicted Ending: A més, hauries de ser capaç de desenvolupar habilitats de comunicació amb els altres si cal i compartir estils d'aprenentatge amb els altres que treballen amb tu. [títol] Obtén experiència abans de passar a projectes més complexos.\n",
      "Correct Ending: També hauràs de ser capaç de convertir les aportacions dels productors i els músics en resultats que siguin tant tècnics com que provoquin una resposta emocional. [subpassos] Treballar a un estudi d'enregistrament requereix tant habilitats tècniques com artístiques.\n",
      "Is Correct: No\n",
      "Accuracy so far: 0.2955\n",
      "\n"
     ]
    },
    {
     "name": "stderr",
     "output_type": "stream",
     "text": [
      "9777it [55:45,  2.97it/s]"
     ]
    },
    {
     "name": "stdout",
     "output_type": "stream",
     "text": [
      "Context: [capçalera] Com ser una persona millor a l'escola [títol] Desenvolupa el teu sentit del bé i del mal. [pas] El món d'avui és ràpid i impacient, però ser una persona millor implica dedicar temps a treballar en els teus valors. Decideix quins valors i virtuts són més importants per a tu.\n",
      "Predicted Ending: Esforça't per veure totes les teves situacions ideals en termes d'una situació de bé i mal, de manera que puguis tenir una millor actitud cap a aquestes coses. [subpassos] Pensa en la manera com t'acostaries a la situació en què tens la intenció de fer el correcte.\n",
      "Correct Ending: Crea un sistema personal de moral unint-te a clubs i organitzacions que t'ajudaran a construir les teves virtuts, com un equip esportiu, clubs de servei comunitari, coral o govern estudiantil. [subpassos] L'empatia, l'honestedat, la paciència, l'humor i la perseverança són només alguns exemples de bons valors.\n",
      "Is Correct: No\n",
      "Accuracy so far: 0.2954\n",
      "\n"
     ]
    },
    {
     "name": "stderr",
     "output_type": "stream",
     "text": [
      "9778it [55:45,  2.83it/s]"
     ]
    },
    {
     "name": "stdout",
     "output_type": "stream",
     "text": [
      "Context: [capçalera] Com augmentar la fertilitat amb hipnosi [títol] La pràctica diària de l'autohipnosi és inestimable per augmentar les teves possibilitats de concepció. [pas] Passa cinc minuts, una o dues vegades al dia, en aquest estat de relaxació amb aquesta nova creença i començarà a plantar les llavors necessàries per crear l'èxit. [títol] Troba un lloc on no et molestin durant un temps.\n",
      "Predicted Ending: [pas] Assenta't còmodament, assegut o estirat. Tanca els ulls, tranquil·litza't, estigues atent a la teva respiració, relaxa't ...\n",
      "Correct Ending: [pas] Assenta't còmodament, assegut o estirat. Tanca els ulls, tranquil·litza't, estigues atent a la teva respiració, relaxa't ...\n",
      "Is Correct: Yes\n",
      "Accuracy so far: 0.2955\n",
      "\n"
     ]
    },
    {
     "name": "stderr",
     "output_type": "stream",
     "text": [
      "9779it [55:46,  2.79it/s]"
     ]
    },
    {
     "name": "stdout",
     "output_type": "stream",
     "text": [
      "Context: [capçalera] Com arribar a Kuala Kapuas, Kalimantan Central, Indonèsia [títol] Si vols llogar un cotxe de Palangka Raya a Kuala Kapuas, el preu és d'uns 350.000 Rp. [títol] Un cotxe pot transportar 7 persones. [títol] Pots demanar al conductor que et deixi al hotel de Kuala Kapuas.\n",
      "Predicted Ending: [títol] El camí hauria d'estar fosc i accessible. [títol] És un lloc excel·lent per passejar per Kuala Kapuas, de manera que no hauries de preocupar-te per veure ningú. \n",
      "Correct Ending: [títol] Des de l'aeroport, pots demanar a un taxista local que t'acompanyi a la terminal local de Bundaran Burung. [títol] El preu del bitllet de Palangka Raya a Kuala Kapuas és d'uns 20 Rp.\n",
      "Is Correct: No\n",
      "Accuracy so far: 0.2955\n",
      "\n"
     ]
    },
    {
     "name": "stderr",
     "output_type": "stream",
     "text": [
      "9780it [55:46,  2.81it/s]"
     ]
    },
    {
     "name": "stdout",
     "output_type": "stream",
     "text": [
      "Context: [capçalera] Com posar-se els cabells amb un llapis [títol] Troba un llapis. [pas] Ha de ser prou llarg per a que et quedi còmode al cabell. No obstant això, pots utilitzar qualsevol cosa que et faci falta (i que tingui forma d'estuc) com un escuradents, una forquilla, un raspall de dents... [títol] Reuneix els cabells en una cua de cavall ajustada amb les mans.\n",
      "Predicted Ending: [pas] Una de les coses bones d'un llapis és que és fàcil de mantenir en el seu lloc. Com més petit sigui, més segur estaràs.\n",
      "Correct Ending: [pas] No necessitaràs una goma elàstica. [títol] Aguanta els cabells amb la mà esquerra i amb la dreta agafa el llapis amb la punta afilada cap avall.\n",
      "Is Correct: No\n",
      "Accuracy so far: 0.2954\n",
      "\n"
     ]
    },
    {
     "name": "stderr",
     "output_type": "stream",
     "text": [
      "9781it [55:46,  2.95it/s]"
     ]
    },
    {
     "name": "stdout",
     "output_type": "stream",
     "text": [
      "Context: [capçalera] Com planificar unes vacances [títol] Fes una llista dels 5 llocs principals on vols viatjar. [pas] Si hi ha altres persones que viatgen amb tu, fes que facin el mateix. [títol] Decideix per què vols viatjar.\n",
      "Predicted Ending: [pas] És per a la diversió, la diversió o per fer alguna cosa divertida? Potser només per estalviar diners en menjar o simplement per gaudir d'una caminada? Decideix què és. El més important del viatge és assegurar-se que realment no necessitis un altre bitllet de vacances, llevat que aquest vagi a ser de curta durada.\n",
      "Correct Ending: [pas] Si saps per què vols marxar de casa, triar un destí serà més fàcil. Determinar si el teu objectiu és relaxar-te i desconnectar, tenir noves aventures, veure llocs famosos o antics o proporcionar als teus fills records per tota la vida determinarà quin tipus de destí hauries de triar. \n",
      "Is Correct: No\n",
      "Accuracy so far: 0.2954\n",
      "\n"
     ]
    },
    {
     "name": "stderr",
     "output_type": "stream",
     "text": [
      "9782it [55:47,  2.90it/s]"
     ]
    },
    {
     "name": "stdout",
     "output_type": "stream",
     "text": [
      "Context: [capçalera] Com obrir regals amb educació [títol] Seieu per obrir els regals i obriu-los un per un. [pas] No cal pressa per obrir els vostres regals, i sembla que només vulgueu el que hi ha a dins si us afanyeu a obrir-los. [subpassos] Decidiu quin regal voleu obrir primer, i obriu el paper d'embolcall lentament.\n",
      "Predicted Ending: Mentre que obrir regals és una manera agradable de tocar els objectes que hi ha a l'interior del regal, no és l'única manera d'obrir-lo. Poseu les \"coses\" dins del paper d'embolcall i observeu el que veieu, si voleu trobar una joia, un collaret o un braçalet.\n",
      "Correct Ending: Això crearà suspens i semblarà un regal realment fantàstic un cop el veieu finalment. Si està en una bossa, traieu el paper de seda lentament i col·loqueu-lo al vostre costat.\n",
      "Is Correct: No\n",
      "Accuracy so far: 0.2954\n",
      "\n"
     ]
    },
    {
     "name": "stderr",
     "output_type": "stream",
     "text": [
      "9783it [55:47,  2.89it/s]"
     ]
    },
    {
     "name": "stdout",
     "output_type": "stream",
     "text": [
      "Context: [capçalera] Com tractar les rajoles d'amiant [títol] Busqueu signes de danys. [pas] Si una rajola que conté amiant està intacta, hauríeu de deixar-la tal com està. Les fibres es consideren no friables mentre la peça estigui intacta, però si la peça està danyada, les fibres podrien convertir-se en aeròbics.\n",
      "Predicted Ending: Busqueu signes de decoloració o taques a la rajola. [subpassos] Si hi ha un cert color a una rajola, contacteu amb el fabricant abans d'intentar utilitzar una safata de dutxa tractada amb amiant.\n",
      "Correct Ending: Només hauríeu de treure la rajola d'amiant si està danyada. Per identificar danys, busqueu: [subpassos] cantonades trencades o peces vores desfilades talls o ratllades profunds [títol] Eviteu trencar la rajola. \n",
      "Is Correct: No\n",
      "Accuracy so far: 0.2953\n",
      "\n"
     ]
    },
    {
     "name": "stderr",
     "output_type": "stream",
     "text": [
      "9784it [55:47,  3.03it/s]"
     ]
    },
    {
     "name": "stdout",
     "output_type": "stream",
     "text": [
      "Context: [capçalera] Com introduir coordenades GPS a Google Maps [títol] Ves a Google Maps. [pas] Obre qualsevol navegador web al teu ordinador i visita el. [títol] Introdueix coordenades GPS.\n",
      "Predicted Ending: [pas] Introdueix coordenades GPS a la barra d'adreces de la barra d'adreces de Google Maps o directament al camp de text \" barra d'adreces \" que apareix a la part superior de la finestra del mapa de Google Maps. [subpassos] Per exemple, si estàs escrivint una adreça al carrer a la barra d'adreces, introdueix-la al camp blau a la cantonada superior dreta. \n",
      "Correct Ending: [pas] Escriu la latitud i la longitud de la ubicació a la casella de cerca a la cantonada superior esquerra de la pàgina. Assegura't d'observar el format correcte de les coordenades GPS perquè Google Maps pugui interpretar-les i trobar la ubicació.\n",
      "Is Correct: No\n",
      "Accuracy so far: 0.2953\n",
      "\n"
     ]
    },
    {
     "name": "stderr",
     "output_type": "stream",
     "text": [
      "9785it [55:48,  3.02it/s]"
     ]
    },
    {
     "name": "stdout",
     "output_type": "stream",
     "text": [
      "Context: [capçalera] Com coordinar colors [títol] Utilitza el cercle cromàtic. [pas] El cercle cromàtic només et diu com combinar millor els colors. Hi ha combinacions de colors particulars en el cercle cromàtic que resulten especialment agradables a la vista, anomenades harmonies de color.\n",
      "Predicted Ending: Els colors primaris bàsics de vermell, groc i blau s'utilitzen per crear els colors secundaris. Els colors terciaris es creen barrejant colors primaris i secundaris. \n",
      "Correct Ending: Els colors primaris bàsics de vermell, groc i blau s'utilitzen per crear els colors secundaris. Els colors terciaris es creen barrejant colors primaris i secundaris. \n",
      "Is Correct: Yes\n",
      "Accuracy so far: 0.2954\n",
      "\n"
     ]
    },
    {
     "name": "stderr",
     "output_type": "stream",
     "text": [
      "9786it [55:48,  2.95it/s]"
     ]
    },
    {
     "name": "stdout",
     "output_type": "stream",
     "text": [
      "Context: [capçalera] Com protegir els teus diners [títol] Sigues prudent quan utilitzis Internet. [pas] Obtenir alguna cosa per res és un tret distintiu de moltes d'aquestes estafes. Pràcticament ningú ofereix alguna cosa per res, així que si això està al cor d'un llançament sospitós, és necessària una investigació addicional.\n",
      "Predicted Ending: Si sospites que un cobrador de deutes està obert, digues-li que no vols fer servir aquesta factura. Pregúntale si hi ha una llei específica contra l'ús d'aquests llocs web del govern i, si és possible, com pots guanyar els diners si un cobrador de deutes els demana.\n",
      "Correct Ending: [subpassos] Si sona massa bo per ser cert, gairebé segur que ho és. Si algú afirma que té una herència d'un familiar llunyà, un treball ben remunerat sense fer res, o guanys de loteria no reclamats d'un tiquet que no recordes haver comprat, sigues molt recelós.\n",
      "Is Correct: No\n",
      "Accuracy so far: 0.2954\n",
      "\n"
     ]
    },
    {
     "name": "stderr",
     "output_type": "stream",
     "text": [
      "9787it [55:48,  2.94it/s]"
     ]
    },
    {
     "name": "stdout",
     "output_type": "stream",
     "text": [
      "Context: [capçalera] Com reparar un tros a la rajola [títol] Troba una rajola per a substituir la rajola trencada. [pas] Potser tens extres a mà des de quan es va instal·lar el terra. Potser hauràs d'anar a una botiga de rajoles o de terres per a comprar-ne una altra de les teves rajoles, o si aquest estil ja no està disponible, potser hauràs de conformar-te amb un estil que complementi.\n",
      "Predicted Ending: [títol] Retira la coberta de plàstic i repara el tros. [pas] Per a tapar el tros, hauràs de retallar el plàstic que cobreix la zona on estava el tros.\n",
      "Correct Ending: [títol] Aconsegueix una mica de morter a joc també. [pas] El morter està disponible en centres de rajoles o de terres.\n",
      "Is Correct: No\n",
      "Accuracy so far: 0.2953\n",
      "\n"
     ]
    },
    {
     "name": "stderr",
     "output_type": "stream",
     "text": [
      "9788it [55:49,  3.07it/s]"
     ]
    },
    {
     "name": "stdout",
     "output_type": "stream",
     "text": [
      "Context: [capçalera] Com evitar que les ampolles d'aigua dels conills es congelin [títol] Omple l'ampolla d'aigua amb aigua tèbia. [pas] No utilitzis aigua bullent. Això farà que trigui més a congelar-se.\n",
      "Predicted Ending: Fes servir prou aigua per cobrir tota l'ampolla. Només hauries de donar aigua a una temperatura inferior al punt d'ebullició. \n",
      "Correct Ending: No obstant això, probablement hauràs de canviar l'aigua diverses vegades al dia. [subpassos] Quan ho facis, toca el raig d'aigua amb la mà.\n",
      "Is Correct: No\n",
      "Accuracy so far: 0.2953\n",
      "\n"
     ]
    },
    {
     "name": "stderr",
     "output_type": "stream",
     "text": [
      "9789it [55:49,  3.01it/s]"
     ]
    },
    {
     "name": "stdout",
     "output_type": "stream",
     "text": [
      "Context: [capçalera] Com ser una noia popular però no ser presumida [títol] Primer, la teva aparença és molt important. [pas] Tristement, l'aparença és una de les primeres coses que la gent jutja. Així que quan estiguis a l'escola, el teu cabell hauria de ser solt amb diademes o pinces.\n",
      "Predicted Ending: Fes que el color del teu cabell s'ajusti al teu vestit perquè la gent no et jutgi si és recte o esbossat. A més, si abans tenies el cabell negre, està bé! Però si vols tornar a ser popular, aposta per això, perquè el teu estil és important per a tu.\n",
      "Correct Ending: No obstant això, si tens una classe d'esports aquell dia, potser intenta recollir-lo en un monyo desordenat o una cua de cavall. Si tens el cabell curt, tens sort, perquè sempre que el cabell estigui net, pots aconseguir la majoria dels estils.\n",
      "Is Correct: No\n",
      "Accuracy so far: 0.2953\n",
      "\n"
     ]
    },
    {
     "name": "stderr",
     "output_type": "stream",
     "text": [
      "9790it [55:49,  2.98it/s]"
     ]
    },
    {
     "name": "stdout",
     "output_type": "stream",
     "text": [
      "Context: [capçalera] Com tractar el TDAH amb cafeïna [títol] Estimular-se. [pas] La cafeïna és un estimulant, com molts dels medicaments amb recepta que les persones amb TDAH utilitzen per domar els seus símptomes. A causa de l'efecte de la cafeïna al cervell, quan algú la consumeix, augmenten els nivells d'un producte químic cerebral clau (dopamina).\n",
      "Predicted Ending: Activar la reacció natural del cos a un estimulant pot fer que els símptomes empitjorin. Per ajudar-vos a superar els vostres símptomes, tingueu en compte quan els heu experimentat.\n",
      "Correct Ending: Algun amb TDAH que consumeix cafeïna pot processar la informació millor i se sentirà més tranquil i concentrat. No obstant això, l'excés d'ingesta pot provocar els efectes secundaris estimulants, que poden incloure ansietat.\n",
      "Is Correct: No\n",
      "Accuracy so far: 0.2952\n",
      "\n"
     ]
    },
    {
     "name": "stderr",
     "output_type": "stream",
     "text": [
      "9791it [55:50,  2.90it/s]"
     ]
    },
    {
     "name": "stdout",
     "output_type": "stream",
     "text": [
      "Context: [capçalera] Com separar la vida professional de la privada [títol] Llista els múltiples rols que pots tenir. [pas] Una sola persona pot ocupar diversos rols diferents alhora o en diferents moments de la vida: empleat, empresari, estudiant, germà, parella, fill, pare, cuidador, etc. Aquests rols de vegades se superposen, però cadascun té les seves pròpies expectatives i necessitats.\n",
      "Predicted Ending: Fes una llista de tots els rols que s'apliquen a tu i decideix quins són els més importants per a tu. [títol] Ves a treballar i surt de la feina a la mateixa hora cada dia. \n",
      "Correct Ending: Fes una llista de tots els rols que s'apliquen a tu i decideix quins són els més importants per a tu. [títol] Ves a treballar i surt de la feina a la mateixa hora cada dia. \n",
      "Is Correct: Yes\n",
      "Accuracy so far: 0.2953\n",
      "\n"
     ]
    },
    {
     "name": "stderr",
     "output_type": "stream",
     "text": [
      "9792it [55:50,  2.82it/s]"
     ]
    },
    {
     "name": "stdout",
     "output_type": "stream",
     "text": [
      "Context: [capçalera] Com sol·licitar l'SSI per al vostre fill [títol] Compreneu els criteris d'elegibilitat. [pas] Els pagaments de l'SSI són per a fills solters menors de 18 anys que tenen una discapacitat qualificada. Una discapacitat qualificada es defineix com a tenir una o més deficiències físiques o mentals que provoquen limitacions funcionals marcades i greus i que han durat o es preveu que durin un període continu de com a mínim 12 mesos o que provoquin la mort.\n",
      "Predicted Ending: Els requisits per a l'SSI són similars als que es descriuen a les seccions següents. [títol] Seguiu els passos següents per a complir els requisits de discapacitat. \n",
      "Correct Ending: [subpassos] La SSA publica una llista de deficiències per a nens. Si la discapacitat del nen està a la llista, això sol ser suficient per a establir que el nen té una discapacitat qualificada.\n",
      "Is Correct: No\n",
      "Accuracy so far: 0.2953\n",
      "\n"
     ]
    },
    {
     "name": "stderr",
     "output_type": "stream",
     "text": [
      "9793it [55:51,  2.87it/s]"
     ]
    },
    {
     "name": "stdout",
     "output_type": "stream",
     "text": [
      "Context: [capçalera] Com fer exercicis abdominals en ioga [títol] Feu la postura de lotus per començar. [pas] Aquesta és una postura senzilla que relaxa la ment i la prepara per a un entrenament complet i extens. La postura ajuda a enfortir i estimular els músculs al voltant de les cames i els genolls, mentre us concentreu per a l'entrenament que us espera.\n",
      "Predicted Ending: [subpassos] Comenceu estirats a l'esquena en una estora de ioga, amb els genolls doblegats i els peus junts. Gireu la part inferior del tors cap al sostre i mantingueu els peus fermament a terra.\n",
      "Correct Ending: Romaniu al lotus el temps que vulgueu, concentrant-vos a prendre consciència de la respiració. El ritme respiratori que aconseguiu en aquesta posició d'obertura marcarà el to de totes les posicions que us esperen. \n",
      "Is Correct: No\n",
      "Accuracy so far: 0.2952\n",
      "\n"
     ]
    },
    {
     "name": "stderr",
     "output_type": "stream",
     "text": [
      "9794it [55:51,  3.02it/s]"
     ]
    },
    {
     "name": "stdout",
     "output_type": "stream",
     "text": [
      "Context: [capçalera] Com ensenyar l'hora amb un rellotge de cartró [títol] Utilitzeu aquesta imatge per imprimir els fulls del rellotge per a cada rellotge que es construeixi. [pas] Coloriu les parts del full del rellotge. Cada estudiant pot decorar-lo com vulgui.\n",
      "Predicted Ending: [títol] Afegiu rupies a l'àrea de comptatge de cada rellotge. [pas] Si cal, afegiu més rupies a l'àrea de comptatge per augmentar la taxa de comptatge. \n",
      "Correct Ending: [títol] Retalleu les parts del full del rellotge. [pas] Això significa el cercle i les fletxes.\n",
      "Is Correct: No\n",
      "Accuracy so far: 0.2952\n",
      "\n"
     ]
    },
    {
     "name": "stderr",
     "output_type": "stream",
     "text": [
      "9795it [55:51,  2.94it/s]"
     ]
    },
    {
     "name": "stdout",
     "output_type": "stream",
     "text": [
      "Context: [capçalera] Com vestir-se per a una cita (per a noies adolescents) [títol] Comprova el temps. [pas] Farà calor i sol o fred i humit? Mira el pronòstic horari per al moment en què esperes estar fora a la teva cita. Això t'ajudarà a saber quin tipus de roba portar, així com si necessites articles addicionals, com ara un paraigua o protector solar.\n",
      "Predicted Ending: [subpassos] Si hi ha molts tipus de roba diferents, potser hauràs de prioritzar el teu armari i els teus accessoris. Alternativament, potser vulguis buscar idees de roba per a l'aire lliure que funcionin per a tots dos.\n",
      "Correct Ending: [subpassos] Per a temps càlid, considera un vestit d'estiu amb sandàlies boniques. També pots optar per un parell de pantalons curts i una samarreta bonica; una samarreta amb una mica de brillantor o lluentor vestiria bé els teus pantalons curts.\n",
      "Is Correct: No\n",
      "Accuracy so far: 0.2952\n",
      "\n"
     ]
    },
    {
     "name": "stderr",
     "output_type": "stream",
     "text": [
      "9796it [55:52,  2.93it/s]"
     ]
    },
    {
     "name": "stdout",
     "output_type": "stream",
     "text": [
      "Context: [capçalera] Com restablir un escalfador d'aigua [títol] Desconnecta l'electricitat de l'escalfador. [pas] No manipuleu mai un escalfador d'aigua que encara estigui connectat. Abans de començar a obrir l'escalfador, busqueu on està connectat a la paret i apagueu l'electricitat.\n",
      "Predicted Ending: [subpassos] Normalment hi ha una sèrie de forats a la paret i un botó de \"càrrega\" a la part inferior de l'escalfador d'aigua. Comproveu el circuit i assegureu-vos que el botó de \"càrrega\" estigui apagat.\n",
      "Correct Ending: [subpassos] La majoria dels escalfadors estan connectats a la paret amb un cable. Potser haureu de desfer el cargol del cable o girar una perilla a prop per apagar l'electricitat.\n",
      "Is Correct: No\n",
      "Accuracy so far: 0.2952\n",
      "\n"
     ]
    },
    {
     "name": "stderr",
     "output_type": "stream",
     "text": [
      "9797it [55:52,  3.09it/s]"
     ]
    },
    {
     "name": "stdout",
     "output_type": "stream",
     "text": [
      "Context: [capçalera] Com crear un jardí de fades [títol] Selecciona un contenidor. [pas] Els jardins de fades solen allotjar-se en contenidors petits. Pensa en la quantitat d'espai que tens.\n",
      "Predicted Ending: Si mantens el teu jardí a l'interior, necessitaràs un contenidor més petit. Per a un jardí a l'exterior, pots utilitzar alguna cosa més gran. \n",
      "Correct Ending: Si mantens el teu jardí a l'interior, necessitaràs un contenidor més petit. Per a un jardí a l'exterior, pots utilitzar alguna cosa més gran. \n",
      "Is Correct: Yes\n",
      "Accuracy so far: 0.2952\n",
      "\n"
     ]
    },
    {
     "name": "stderr",
     "output_type": "stream",
     "text": [
      "9798it [55:52,  3.02it/s]"
     ]
    },
    {
     "name": "stdout",
     "output_type": "stream",
     "text": [
      "Context: [capçalera] Com canviar una corretja de rellotge nixon 42 20 [títol] Prepara els teus subministraments. [pas] Necessitaràs el següent: [subpassos] Superfície de treball neta, seca i suau. 1-2 tornavís petits de cap pla com els de les ulleres.\n",
      "Predicted Ending: (no faran que el teu rellotge piqui, moldre'l massa pot danyar la teva peça, per tant, vols assegurar-te que els tens a mà.) coladors per assegurar-te que el teu rellotge no es despinsi del seu lloc.\n",
      "Correct Ending: Corretja de rellotge de reemplaçament de 20-21 mm, per exemple, una corretja de goma negra shinola de 20 mm. [títol] Troba el cargol a cada extrem de cada orell (superior i inferior). \n",
      "Is Correct: No\n",
      "Accuracy so far: 0.2952\n",
      "\n"
     ]
    },
    {
     "name": "stderr",
     "output_type": "stream",
     "text": [
      "9799it [55:53,  2.98it/s]"
     ]
    },
    {
     "name": "stdout",
     "output_type": "stream",
     "text": [
      "Context: [capçalera] Com netejar els raspalls i els pentinats per a cabells [títol] Eliminar els pèls del raspall amb els dits. [pas] Primer, treieu el màxim de pèls possible del raspall o el pentinat simplement seleccionant-los amb els dits. Els pèls haurien de sortir amb facilitat, així que intenteu ser el més exhaustius possible.\n",
      "Predicted Ending: Si trobeu algun pèl enganxat, utilitzeu un escuradents per afluixar-lo i després traieu-lo amb els dits. [títol] Barregeu un netejador suau amb aigua tèbia.\n",
      "Correct Ending: Si trobeu algun pèl enganxat, utilitzeu un escuradents per afluixar-lo i després traieu-lo amb els dits. [títol] Barregeu un netejador suau amb aigua tèbia.\n",
      "Is Correct: Yes\n",
      "Accuracy so far: 0.2953\n",
      "\n"
     ]
    },
    {
     "name": "stderr",
     "output_type": "stream",
     "text": [
      "9800it [55:53,  2.94it/s]"
     ]
    },
    {
     "name": "stdout",
     "output_type": "stream",
     "text": [
      "Context: [capçalera] Com evitar mudar-se amb els teus pares [títol] Començar a estalviar immediatament. [pas] La millor manera de preparar-se per a viure per compte propi és estalviant els diners. Si tens feina, posa una part del teu sou en estalvis per a despeses futures de mudança.\n",
      "Predicted Ending: Els comptes d'estalvis, com ara les targetes de crèdit, tenen el potencial de pagar el deute de l'habitatge sense cap cost addicional. [subpassos] A més d'estalviar des de les despeses de vida, també hauries de comprometre't a mudar-te en uns mesos de la teva arribada i després estalviar de nou al cap d'uns mesos més per a arribar a final de mes.\n",
      "Correct Ending: Depenent de les teves despeses actuals, entre un 10 i un 20% del teu sou sol ser una quantitat raonable. [subpassos] Si actualment no tens feina, necessitaràs una font d'ingressos tan aviat com sigui possible.\n",
      "Is Correct: No\n",
      "Accuracy so far: 0.2952\n",
      "\n"
     ]
    },
    {
     "name": "stderr",
     "output_type": "stream",
     "text": [
      "9801it [55:53,  2.92it/s]"
     ]
    },
    {
     "name": "stdout",
     "output_type": "stream",
     "text": [
      "Context: [capçalera] Com vestir-se com una núvia [títol] Determineu la ubicació i l'hora del casament. [pas] Trieu un lloc i un tema que reflecteixin millor el tipus de casament que voleu planificar i us vestireu en conseqüència. Un casament a l'església pot requerir un vestit més modest, mentre que un casament de destí podria tenir alguna cosa una mica més moderna.\n",
      "Predicted Ending: [títol] Llegiu revistes nupcials i catàlegs de patrons per avaluar les vostres opcions. [pas] Veieu quins vestits i opcions hi ha i determineu com el que us agrada pot encaixar en el vostre vestit de núvia ideal.\n",
      "Correct Ending: [títol] Llegiu revistes nupcials i catàlegs de patrons per avaluar les vostres opcions. [pas] Veieu quins vestits i opcions hi ha i determineu com el que us agrada pot encaixar en el vostre vestit de núvia ideal.\n",
      "Is Correct: Yes\n",
      "Accuracy so far: 0.2953\n",
      "\n"
     ]
    },
    {
     "name": "stderr",
     "output_type": "stream",
     "text": [
      "9802it [55:54,  2.94it/s]"
     ]
    },
    {
     "name": "stdout",
     "output_type": "stream",
     "text": [
      "Context: [capçalera] Com eliminar la pelusa de la roba [títol] Utilitza un rotlle de pelusa. [pas] Pots trobar-los al departament de bugaderia d'un supermercat, així com a les botigues de teixits i a les botigues de mascotes. Pelar l'embolcall de la part del tub i fer rodar el rotlle per la roba.\n",
      "Predicted Ending: Després, treu amb cura tot l'article, assegurant-te de treure tota la pelusa que s'hagi acumulat al tub. Després, agafa el rotlle de pelusa i tira'l a la brossa. \n",
      "Correct Ending: Utilitza un moviment amunt i avall. A mesura que continues fent rodar, notaràs que el rotlle de pelusa es torna menys enganxós.\n",
      "Is Correct: No\n",
      "Accuracy so far: 0.2953\n",
      "\n"
     ]
    },
    {
     "name": "stderr",
     "output_type": "stream",
     "text": [
      "9803it [55:54,  3.03it/s]"
     ]
    },
    {
     "name": "stdout",
     "output_type": "stream",
     "text": [
      "Context: [capçalera] Com acondicionar els cabells amb aloe vera [títol] Tallar una fulla d'aloe vera. [pas] Pots comprar plantes d'aloe vera en línia o a un hivernacle local. Per extreure el gel, talla la planta directament pel mig de la fulla.\n",
      "Predicted Ending: Això deixa la fulla separada, impedint així que el gel s'enganxi als cabells. [títol] Aplicar el gel d'aloe vera als cabells amb un raspall.\n",
      "Correct Ending: Mou el ganivet lentament per evitar relliscar i tallar-te accidentalment. [subpassos] Assegura't d'utilitzar un ganivet afilat, ja que pot ser difícil fer un tall net amb una fulla roma. \n",
      "Is Correct: No\n",
      "Accuracy so far: 0.2953\n",
      "\n"
     ]
    },
    {
     "name": "stderr",
     "output_type": "stream",
     "text": [
      "9804it [55:54,  2.86it/s]"
     ]
    },
    {
     "name": "stdout",
     "output_type": "stream",
     "text": [
      "Context: [capçalera] Com tallar la llechuga i el col, a l'estil de restaurant [títol] Comença amb un cap de llechuga o col. [pas] La llechuga iceberg normalment es serveix amb plats com ara enchilades i en tostades, mentre que el col verd és la base de moltes amanides de col. [títol] Pelar les fulles visiblement dolentes de l'exterior.\n",
      "Predicted Ending: [pas] Les fulles exteriors de la llechuga i el col solen patir danys. El cap hauria de posar-se més fresc a mesura que avances cap a l'interior.\n",
      "Correct Ending: [pas] Les fulles exteriors de la llechuga i el col solen patir danys. El cap hauria de posar-se més fresc a mesura que avances cap a l'interior.\n",
      "Is Correct: Yes\n",
      "Accuracy so far: 0.2953\n",
      "\n"
     ]
    },
    {
     "name": "stderr",
     "output_type": "stream",
     "text": [
      "9805it [55:55,  2.93it/s]"
     ]
    },
    {
     "name": "stdout",
     "output_type": "stream",
     "text": [
      "Context: [capçalera] Com utilitzar Uber Eats [títol] Obre l'aplicació Uber Eats. [pas] El seu icone és gris i conté el contorn d'una forquilla. Si no inicies sessió automàticament, introdueix les teves credencials d'inici de sessió.\n",
      "Predicted Ending: [títol] Toca la icona d'engranatge a l'esquerra del teu ID d'Uber. [pas] Apareixerà una adreça de correu electrònic a prop de la part superior del menú.\n",
      "Correct Ending: [subpassos] Aquests són els mateixos que el teu compte d'Uber. Si tens Uber instal·lat al teu iPhone, Uber Eats et preguntarà si vols continuar amb el mateix compte. \n",
      "Is Correct: No\n",
      "Accuracy so far: 0.2953\n",
      "\n"
     ]
    },
    {
     "name": "stderr",
     "output_type": "stream",
     "text": [
      "9806it [55:55,  3.01it/s]"
     ]
    },
    {
     "name": "stdout",
     "output_type": "stream",
     "text": [
      "Context: [capçalera] Com defensar-se contra reclamacions per violació de contractes de construcció [títol] Llegiu la denúncia. [pas] Una demanda comença amb la presentació de la \"denúncia\". La persona que presenta la demanda és el \"demandant\" i ell o ella descriu els esdeveniments que van conduir a la demanda.\n",
      "Predicted Ending: [subpassos] De vegades, la persona i el demandant poden presentar una demanda al mateix tribunal. En aquesta situació, el tribunal pot tenir ja una denúncia preparada, fins i tot si les persones que presenten la demanda no en tenen cap.\n",
      "Correct Ending: El demandant també fa una petició de diners. Com a persona que està sent demandada, vostè és el \"demandat\".\n",
      "Is Correct: No\n",
      "Accuracy so far: 0.2953\n",
      "\n"
     ]
    },
    {
     "name": "stderr",
     "output_type": "stream",
     "text": [
      "9807it [55:55,  2.97it/s]"
     ]
    },
    {
     "name": "stdout",
     "output_type": "stream",
     "text": [
      "Context: [capçalera] Com aplicar maquillatge natural per a ulls marrons [títol] Centra't en tons de terra i altres tons naturals. [pas] Tingues en compte que certs colors es veuran naturals en algunes persones, mentre que en altres es veuran obvis. Centra't en tons propers al teu color de pell, llavis i cabell.\n",
      "Predicted Ending: [subpassos] Si optes per un to grisenc, esquitxa'n una mica a la teva pell i dilueix-lo. Si optes per un color pastel, posa'l als llavis i barreja'l amb un pinzell. \n",
      "Correct Ending: [subpassos] Si les teves celles i pestanyes són negres o marrons molt fosques, llavors l'eyeliner i la màscara negres es veuran naturals en tu. Per a cabells vermells, prova amb màscares de color castany o marró per trobar una que t'escaigui millor.\n",
      "Is Correct: No\n",
      "Accuracy so far: 0.2952\n",
      "\n"
     ]
    },
    {
     "name": "stderr",
     "output_type": "stream",
     "text": [
      "9808it [55:56,  3.05it/s]"
     ]
    },
    {
     "name": "stdout",
     "output_type": "stream",
     "text": [
      "Context: [capçalera] Com fer manicura amb espai negatiu [títol] Comença amb les ungles clares. [pas] Recorda que estàs utilitzant l'espai negatiu de les ungles per crear art per a aquest aspecte. Per tant, les ungles haurien de ser clares al començar el procés.\n",
      "Predicted Ending: Comença per rentar-te les ungles perquè tota la brutícia s'elimini de les ungles. Consulta amb la teva botiga d'art d'ungles per a obtenir permís per a omplir les ungles. \n",
      "Correct Ending: Si tens algun vernís d'ungles o restes de vernís d'ungles, elimina'l amb un dissolvent d'ungles abans de començar. [títol] Col·loca la cinta d'esquinçar horitzontalment a través de l'ungla del dit petit.\n",
      "Is Correct: No\n",
      "Accuracy so far: 0.2952\n",
      "\n"
     ]
    },
    {
     "name": "stderr",
     "output_type": "stream",
     "text": [
      "9809it [55:56,  2.86it/s]"
     ]
    },
    {
     "name": "stdout",
     "output_type": "stream",
     "text": [
      "Context: [capçalera] Com allisar el cabell gruixut i arrissat sense danyar-lo [títol] Utilitza xampús i condicionadors suavitzants sense sulfats. [pas] Si bé el xampú i el condicionador per si sols no allisaran el cabell, hi ha alguns tipus que busquen que són bons per mantenir el cabell allisat saludable. Els productes etiquetats com a \"suavitzants\" proporcionen molta humitat al cabell i el preparen per a l'allisat.\n",
      "Predicted Ending: [subpassos] Trieu un condicionador profund cada vegada que us renti el cabell perquè pugui hidratar-lo i protegir-lo del dany i l'embolic. Eviteu els productes que contenen sulfats, altres ingredients que poden danyar el cabell gruixut.\n",
      "Correct Ending: Després de rentar-te el cabell, raspalla el condicionador pel cabell amb un raspall pla i esbandiu-lo amb aigua tèbia. [subpassos] Assegura't que el cabell ja està desembolicat abans de raspallar-lo amb condicionador.\n",
      "Is Correct: No\n",
      "Accuracy so far: 0.2952\n",
      "\n"
     ]
    },
    {
     "name": "stderr",
     "output_type": "stream",
     "text": [
      "9810it [55:56,  2.93it/s]"
     ]
    },
    {
     "name": "stdout",
     "output_type": "stream",
     "text": [
      "Context: [capçalera] Com fer una trença francesa de 5 cadenes [títol] Desfà els cabells completament. [pas] Si els cabells són propensos a enredar-se, humiteja les puntes per evitar que es formin nusos mentre treballes. [títol] Pentina els cabells cap enrere, lluny de la cara.\n",
      "Predicted Ending: [pas] Evita estirar els cabells cap a un costat, però separa suaument els cabells en tres meitats. [títol] Renta't els cabells amb un xampú clarificador si els cabells són llargs o gruixuts.\n",
      "Correct Ending: [pas] Comença just per sobre de les temples i arrossega els polzes horitzontalment pels cabells fins que es trobin a la part posterior del cap. Ara hauries de tenir una secció de cabells de mida raonable per començar a treballar.\n",
      "Is Correct: No\n",
      "Accuracy so far: 0.2951\n",
      "\n"
     ]
    },
    {
     "name": "stderr",
     "output_type": "stream",
     "text": [
      "9811it [55:57,  2.85it/s]"
     ]
    },
    {
     "name": "stdout",
     "output_type": "stream",
     "text": [
      "Context: [capçalera] Com pagar un porter i entrar directament [títol] Vestit per al local. [pas] Tant si vols entrar a un club, a una festa a casa o a una rave subterrània, semblar fora de lloc pot convertir-te en un afegit menys desitjable a l'esdeveniment. Hauràs d'escollir un vestit que s'adapti al ambient del local al qual vols entrar.\n",
      "Predicted Ending: Si tens l'aspecte, semblaràs que pertanyes a la festa. [subpassos] Potser hauries de considerar portar una jaqueta lleugera i elegant, especialment quan surtis en una nit freda.\n",
      "Correct Ending: Si tens l'aspecte, semblaràs que pertanyes a la festa. [subpassos] Potser hauries de considerar portar una jaqueta lleugera i elegant, especialment quan surtis en una nit freda.\n",
      "Is Correct: Yes\n",
      "Accuracy so far: 0.2952\n",
      "\n"
     ]
    },
    {
     "name": "stderr",
     "output_type": "stream",
     "text": [
      "9812it [55:57,  2.81it/s]"
     ]
    },
    {
     "name": "stdout",
     "output_type": "stream",
     "text": [
      "Context: [capçalera] Com fer locs falsos [títol] Agafa una secció fina de cabell i aplica-hi hidratant. [pas] Fes servir el mànec d'un raspall de cua de rata per agafar una secció quadrada de cabell de 1 a 2 polzades (2,54 a 5,08 centímetres) des de la teva línia del cabell. Humiteja lleugerament la secció amb aigua i, a continuació, aplica-hi una crema hidratant per al cabell.\n",
      "Predicted Ending: [subpassos] La zona objectiu d'aquesta secció és la teva línia del cabell, per la qual cosa és millor només arribar fins al punt mitjà. Pots utilitzar les dues mans en aquest moment. \n",
      "Correct Ending: [subpassos] Una combinació d'oli de ricí i coco o oli d'oliva funcionaria especialment bé per a això. També pots utilitzar qualsevol altra crema que utilitzis normalment per a fer fileres de blat de moro.\n",
      "Is Correct: No\n",
      "Accuracy so far: 0.2952\n",
      "\n"
     ]
    },
    {
     "name": "stderr",
     "output_type": "stream",
     "text": [
      "9813it [55:57,  2.91it/s]"
     ]
    },
    {
     "name": "stdout",
     "output_type": "stream",
     "text": [
      "Context: [capçalera] Com triar la parella adequada a la vida [títol] Identifica els teus límits. [pas] Pregunta't quins trets de personalitat, hàbits o circumstàncies no pots acceptar en una parella. Està preparat per deixar de sortir amb algú si hi ha algun dels teus límits.\n",
      "Predicted Ending: [subpassos] Determina si trobes alguna característica que no t'agradi, com ara una actitud de mala fe, que vols fora d'una parella. [títol] Considera si estàs sortint si estàs solter.\n",
      "Correct Ending: [subpassos] Separa els teus límits reals dels trets que poden ser molestos, però no són la fi del món. Per exemple, la mala higiene podria ser un límit real per a tu.\n",
      "Is Correct: No\n",
      "Accuracy so far: 0.2952\n",
      "\n"
     ]
    },
    {
     "name": "stderr",
     "output_type": "stream",
     "text": [
      "9814it [55:58,  3.02it/s]"
     ]
    },
    {
     "name": "stdout",
     "output_type": "stream",
     "text": [
      "Context: [capçalera] Com depilar-te les celles [títol] Suavitza la pell al voltant de les celles. [pas] Quan la pell està tova i flexible, els pèls surten molt més fàcilment. Depilar la pell seca i rígida farà que l'experiència sigui més dolorosa.\n",
      "Predicted Ending: [títol] Agafa el llapis de celles amb fermesa, amb la punta cap amunt. [pas] Amb pressió uniforme, baixa el llapis quan estigui a punt de tocar l'os de la cella.\n",
      "Correct Ending: [subpassos] Planifica depilar-te les celles just després de dutxar-te. L'aigua calenta i el vapor hauran deixat la teva pell humida i flexible.\n",
      "Is Correct: No\n",
      "Accuracy so far: 0.2951\n",
      "\n"
     ]
    },
    {
     "name": "stderr",
     "output_type": "stream",
     "text": [
      "9815it [55:58,  3.17it/s]"
     ]
    },
    {
     "name": "stdout",
     "output_type": "stream",
     "text": [
      "Context: [capçalera] Com pintar texans [títol] Cobriu la vostra àrea de treball. [pas] Protegiu les vostres superfícies de la pintura o podrien tacar-se. Assegureu-vos de cobrir una àrea gran.\n",
      "Predicted Ending: Cobriu les zones superiors de la vostra àrea de treball amb paper de cuina o un altre material. Feu servir cinta de pintor o cinta adhesiva.\n",
      "Correct Ending: Esquitxareu la pintura als vostres texans i és probable que esquitxi al voltant dels vostres texans. Esteneu la lona o els diaris per cobrir la zona on treballareu.\n",
      "Is Correct: No\n",
      "Accuracy so far: 0.2951\n",
      "\n"
     ]
    },
    {
     "name": "stderr",
     "output_type": "stream",
     "text": [
      "9816it [55:58,  3.10it/s]"
     ]
    },
    {
     "name": "stdout",
     "output_type": "stream",
     "text": [
      "Context: [capçalera] Com fer un guix de braç fals [títol] Utilitza un marcador esborrable per marcar les línies del guix. [pas] Decideix fins a on vols que el guix baixi pel teu braç. [subpassos] Per a aquest tipus de guix, és millor no passar del colze.\n",
      "Predicted Ending: [títol] Utilitza cinta per marcar les línies del guix. [subpassos] Dibuixa una línia que baixi pel braç, just des del colze, i cada línia es repetirà, de manera similar, al braç oposat.\n",
      "Correct Ending: Aquest tipus de guix semblarà més un guix de guix antic que no pas el guix embolcallat de fibra de vidre que s'utilitza més avui en dia. [títol] Embolica dues capes de paper higiènic al voltant de la part inferior del braç.\n",
      "Is Correct: No\n",
      "Accuracy so far: 0.2951\n",
      "\n"
     ]
    },
    {
     "name": "stderr",
     "output_type": "stream",
     "text": [
      "9817it [55:59,  2.86it/s]"
     ]
    },
    {
     "name": "stdout",
     "output_type": "stream",
     "text": [
      "Context: [capçalera] Com netejar les taques de taronja a la dutxa [títol] Prova de fregar amb aigua i una esponja aspra. [pas] Si no tens taques agressives, o les taques són relativament noves, potser podràs eliminar l'acumulació de sabó que s'ha tacat amb una esponja aspra, aigua i fregat vigorós. [subpassos] No fregis tan fort que danyis el acabat de la teva dutxa o banyera, ja que això crearà una textura que serà més difícil de netejar.\n",
      "Predicted Ending: [títol] Fes servir una solució de suc de llimona i aigua. [pas] Esquerda el suc d'un llimon en una ampolla de polvoritzar i omple la resta de l'ampolla de polvoritzar amb aigua. \n",
      "Correct Ending: [títol] Fes servir una solució de suc de llimona i aigua. [pas] Esquerda el suc d'un llimon en una ampolla de polvoritzar i omple la resta de l'ampolla de polvoritzar amb aigua. \n",
      "Is Correct: Yes\n",
      "Accuracy so far: 0.2951\n",
      "\n"
     ]
    },
    {
     "name": "stderr",
     "output_type": "stream",
     "text": [
      "9818it [55:59,  2.99it/s]"
     ]
    },
    {
     "name": "stdout",
     "output_type": "stream",
     "text": [
      "Context: [capçalera] Com fer que el cabell creixi molt llarg [títol] Raspallar-se els cabells suaument. [pas] Utilitzeu un raspall amb cerdes naturals de porc. Raspalleu els cabells des de les puntes i aneu cap amunt per desfer els nusos del cabell sec.\n",
      "Predicted Ending: Renteu-vos els cabells després del rentat per evitar la caspa. [títol] Utilitzeu un assecador per assecar-vos els cabells.\n",
      "Correct Ending: Desfeu els nusos lentament i mai estireu ni arrenqueu els cabells quan us els raspalleu. [subpassos] Si teniu a mà, apliqueu algun tipus de protector del cabell abans de raspallar-vos per minimitzar les puntes obertes.\n",
      "Is Correct: No\n",
      "Accuracy so far: 0.2951\n",
      "\n"
     ]
    },
    {
     "name": "stderr",
     "output_type": "stream",
     "text": [
      "9819it [55:59,  3.05it/s]"
     ]
    },
    {
     "name": "stdout",
     "output_type": "stream",
     "text": [
      "Context: [capçalera] Com fer magdalenes de gelatina [títol] Escalfeu la gelatina i la llimonada. [pas] Afegiu la vostra llimonada a un cassó mitjà. Després, escampar la gelatina a sobre de la llimonada.\n",
      "Predicted Ending: Si voleu millorar el sabor de la barreja de gelatina, afegiu-hi més gelatina. [títol] Combineu la gelatina i la llimonada.\n",
      "Correct Ending: Deixeu que la llimonada i la gelatina s'empapin durant dos o tres minuts abans de transferir la barreja al fogó. Cuini a foc lent fins que la gelatina es dissolgui completament.\n",
      "Is Correct: No\n",
      "Accuracy so far: 0.2951\n",
      "\n"
     ]
    },
    {
     "name": "stderr",
     "output_type": "stream",
     "text": [
      "9820it [56:00,  2.96it/s]"
     ]
    },
    {
     "name": "stdout",
     "output_type": "stream",
     "text": [
      "Context: [capçalera] Com ensenyar als nens sobre la moderació [títol] Modelar l'ús apropiat de la pantalla. [pas] Com a pare, no hi ha millor manera d'enviar un missatge que practicant el que predicues. Els teus fills respectaran la teva autoritat molt més quan tu mateix limitis el temps que passes davant de la pantalla.\n",
      "Predicted Ending: No et limitis a comptar fins a deu quan els veus venir amb contingut nou als seus telèfons, i després els treus el telèfon i els deixes allà. Si aspires a un excés de temps de pantalla, el teu fill pot acabar pensant que tenia raó tot el temps.\n",
      "Correct Ending: No t'excedeixis amb els mitjans de comunicació i la tecnologia perquè els teus fills apreciïn aquestes fonts d'entreteniment amb moderació. [subpassos] Pot ser bo establir una norma familiar sobre un període de temps determinat en què tothom pot utilitzar la tecnologia per a fins d'entreteniment.\n",
      "Is Correct: No\n",
      "Accuracy so far: 0.2950\n",
      "\n"
     ]
    },
    {
     "name": "stderr",
     "output_type": "stream",
     "text": [
      "9821it [56:00,  2.94it/s]"
     ]
    },
    {
     "name": "stdout",
     "output_type": "stream",
     "text": [
      "Context: [capçalera] Com seguir el deslletament amb el mètode BLW [títol] Començar a l'edat adequada. [pas] El deslletament amb el mètode BLW no s'ha de començar abans que el nadó estigui preparat. A causa del desenvolupament d'un nadó, la majoria dels nadons poden començar el deslletament amb el mètode BLW als sis mesos d'edat.\n",
      "Predicted Ending: [subpassos] El millor moment per començar el deslletament amb el mètode BLW variarà entre els individus. Podeu decidir començar el deslletament al voltant dels 11 mesos d'edat, o només començar-lo al voltant dels 12 mesos. \n",
      "Correct Ending: Intentar començar el deslletament amb el mètode BLW abans, com als quatre mesos d'edat, pot comportar riscos d'ofegament. [subpassos] El nadó demostrarà que està preparat per a la transició de la llet materna al menjar.\n",
      "Is Correct: No\n",
      "Accuracy so far: 0.2950\n",
      "\n"
     ]
    },
    {
     "name": "stderr",
     "output_type": "stream",
     "text": [
      "9822it [56:00,  2.88it/s]"
     ]
    },
    {
     "name": "stdout",
     "output_type": "stream",
     "text": [
      "Context: [capçalera] Com estudiar l'islam [títol] Esbrina si hi ha alguna mesquita a la teva zona. [pas] La mesquita és la font de guia espiritual, perfecta per a l'adoració i la recerca de coneixement. [títol] Si n'hi ha, fes una cita per anar a la mesquita i reunir-te amb l'imam allà.\n",
      "Predicted Ending: [pas] Ella et guiarà fins a la mesquita per preguntar sobre la teva interpretació de l'islam com a religió i com l'utilitzes per guiar els altres. [títol] Mantingues la calma (no entres en pànic, no és culpa teva que et facin preguntes) sobre les teves perspectives.\n",
      "Correct Ending: [pas] Ell hauria de proporcionar-te molta informació sobre l'islam. [títol] Esbrina si hi ha alguna activitat o curs que estigui passant aviat.\n",
      "Is Correct: No\n",
      "Accuracy so far: 0.2950\n",
      "\n"
     ]
    },
    {
     "name": "stderr",
     "output_type": "stream",
     "text": [
      "9823it [56:01,  2.92it/s]"
     ]
    },
    {
     "name": "stdout",
     "output_type": "stream",
     "text": [
      "Context: [capçalera] Com cuidar una mariquita [títol] Troba una mariquita. [pas] Busca en una zona on les mariquites s'amparen. Pot ser sota les fulles de les plantes on hi ha pugons (prova les roses i altres flors o els arbres fruiters en flor).\n",
      "Predicted Ending: També els agrada amagar-se en escletxes i esquerdes de les cases, com ara al voltant dels marcs de les finestres. [subpassos] A les mariquites els encanta els pugons; és la seva principal font d'aliment.\n",
      "Correct Ending: També els agrada amagar-se en escletxes i esquerdes de les cases, com ara al voltant dels marcs de les finestres. [subpassos] A les mariquites els encanta els pugons; és la seva principal font d'aliment.\n",
      "Is Correct: Yes\n",
      "Accuracy so far: 0.2951\n",
      "\n"
     ]
    },
    {
     "name": "stderr",
     "output_type": "stream",
     "text": [
      "9824it [56:01,  2.91it/s]"
     ]
    },
    {
     "name": "stdout",
     "output_type": "stream",
     "text": [
      "Context: [capçalera] Com boxejar a l'ombra per divertir-te i fer exercici [títol] Posa't en la postura correcta i punxa lentament durant 1 minut. [pas] Pots utilitzar qualsevol puny per a aquest escalfament. Flexiona els músculs dels braços i fes els moviments tan lentament i deliberats com sigui possible.\n",
      "Predicted Ending: Els músculs dels braços no s'han d'estirar mentre estiguis en aquesta posició. Deixa que el braç esquerre faci la feina i no et deixis cansar dels moviments.\n",
      "Correct Ending: Quan estiguis segur que estàs llest per accelerar, pots començar a moure't més ràpid. [subpassos] Canvia la cama amb què lideres a la meitat del teu entrenament per enfortir ambdues parts del cos per igual.\n",
      "Is Correct: No\n",
      "Accuracy so far: 0.2950\n",
      "\n"
     ]
    },
    {
     "name": "stderr",
     "output_type": "stream",
     "text": [
      "9825it [56:01,  2.99it/s]"
     ]
    },
    {
     "name": "stdout",
     "output_type": "stream",
     "text": [
      "Context: [capçalera] Com donar suport a la teva filla quan se'n vagi de casa [títol] Digues-li que creus en ella. [pas] Una de les coses més importants que un nen ha d'aprendre és a confiar en si mateix. Mostra-li això tenint fe en ella.\n",
      "Predicted Ending: Això sempre ha estat la recomanació de la seva tia Sally en el moment de la mort dels seus pares. Digues-li que pot tornar a casa per parlar amb els seus amics, sortir amb ells i anar a l'escola quan estigui preparada.\n",
      "Correct Ending: Quan deixi la seguretat de casa teva, voldràs saber que se sent segura i confia en els seus propis instints i la seva capacitat per cuidar-se a si mateixa. Com més segura estigui d'això, millor estarà.\n",
      "Is Correct: No\n",
      "Accuracy so far: 0.2950\n",
      "\n"
     ]
    },
    {
     "name": "stderr",
     "output_type": "stream",
     "text": [
      "9826it [56:02,  2.92it/s]"
     ]
    },
    {
     "name": "stdout",
     "output_type": "stream",
     "text": [
      "Context: [capçalera] Com desparasitar un gatet [títol] Porta el gatet al veterinari. [pas] La millor manera de desparasitar el gatet és portar-lo al veterinari. El veterinari podrà diagnosticar el tipus específic de cuc i donar al gatet el tractament adequat.\n",
      "Predicted Ending: En general, el gatet s'hauria de desparasitar almenys cada sis mesos. [subpassos] Si el gatet no pot menjar el seu menjar, o notes que la seva ingesta d'aliments canvia, l'has de portar al veterinari.\n",
      "Correct Ending: [subpassos] Fins i tot si desparasites els gatets a casa per començar, els has de portar al veterinari als sis mesos per fer una prova de femta. Si el gatet encara està prenent el pit de la mare, hauries de portar la gata mare al veterinari per desparasitar-la també. \n",
      "Is Correct: No\n",
      "Accuracy so far: 0.2950\n",
      "\n"
     ]
    },
    {
     "name": "stderr",
     "output_type": "stream",
     "text": [
      "9827it [56:02,  2.85it/s]"
     ]
    },
    {
     "name": "stdout",
     "output_type": "stream",
     "text": [
      "Context: [capçalera] Com portar botes amb texans [títol] Trieu botes d'encaix que acabin 2 polzades (5,1 cm) per sobre del turmell. [pas] Aquesta és la part més fina de la cama, que voleu mostrar per mantenir la silueta proporcional. Si les botes us tallen més amunt que un parell de polzades per sobre del turmell, us poden fer semblar més baixes i més robustes.\n",
      "Predicted Ending: [títol] Dobla els texans cònics per sobre d'un parell de botes d'encaix per mostrar-los. [pas] Per doblar els texans, plega'ls unes 2 polzades (5,1 cm) i després roda'ls una vegada més.\n",
      "Correct Ending: [títol] Dobla els texans cònics per sobre d'un parell de botes d'encaix per mostrar-los. [pas] Per doblar els texans, plega'ls unes 2 polzades (5,1 cm) i després roda'ls una vegada més.\n",
      "Is Correct: Yes\n",
      "Accuracy so far: 0.2950\n",
      "\n"
     ]
    },
    {
     "name": "stderr",
     "output_type": "stream",
     "text": [
      "9828it [56:02,  2.86it/s]"
     ]
    },
    {
     "name": "stdout",
     "output_type": "stream",
     "text": [
      "Context: [capçalera] Com mostrar a un noi que t'agrada [títol] Presta atenció al teu aspecte. [pas] Fes-li saber que t'agrada fent un esforç per tenir un aspecte agradable sempre que estiguis al seu voltant. Has de seguir sent tu mateixa, però cuida't una mica més el cabell, el maquillatge i la roba, perquè comenci a notar-te.\n",
      "Predicted Ending: No cal que vagis amb un vestit ajustat i talons alts si ets a un partit de beisbol amb ell, però fes-li saber que ets cura del teu aspecte quan estàs al seu voltant.. [subpassos] No tinguis por de ser una mica sexy.\n",
      "Correct Ending: No cal que vagis amb un vestit ajustat i talons alts si ets a un partit de beisbol amb ell, però fes-li saber que ets cura del teu aspecte quan estàs al seu voltant.. [subpassos] No tinguis por de ser una mica sexy.\n",
      "Is Correct: Yes\n",
      "Accuracy so far: 0.2951\n",
      "\n"
     ]
    },
    {
     "name": "stderr",
     "output_type": "stream",
     "text": [
      "9829it [56:03,  2.95it/s]"
     ]
    },
    {
     "name": "stdout",
     "output_type": "stream",
     "text": [
      "Context: [capçalera] Com aconseguir que els nens comencin a provar aliments nous [títol] Vestir el menjar. [pas] No, no vol dir que hagis de posar un barret a un tros de api. Prova d'untar mantega de cacauet a un tros d'api amb panses a sobre.\n",
      "Predicted Ending: Pots portar un barret amb objectes amb forma gràfica o disfressar-te del teu gos! [títol] És millor que els teus fills mengin alguna cosa saludable i no refrescants. [pas] No és un gran problema, però a vegades els nens són sorollosos o fins i tot s'enganxen a les begudes, especialment les begudes com l'aigua. \n",
      "Correct Ending: Digueu als nens que són \"formigues en un tronc\". També els podeu donar verdures crues en lloc de cuites.\n",
      "Is Correct: No\n",
      "Accuracy so far: 0.2951\n",
      "\n"
     ]
    },
    {
     "name": "stderr",
     "output_type": "stream",
     "text": [
      "9830it [56:03,  3.00it/s]"
     ]
    },
    {
     "name": "stdout",
     "output_type": "stream",
     "text": [
      "Context: [capçalera] Com ser bo amb els nens petits [títol] Escolta amb atenció. [pas] Si vols crear un vincle amb un nen, comença per prestar atenció quan parli. Els nens estan descobrint la seva veu, i el que diuen és molt important per a ells.\n",
      "Predicted Ending: \"A mesura que creixen, poden aprendre a escoltar més que a actuar. Això no vol dir que hagis d'esperar unes hores per escoltar-los.\",\n",
      "Correct Ending: \"Escolta activament quan un nen petit et parla. [subpassos] Una manera de demostrar que estàs escoltant és establir contacte visual.\" \n",
      "Is Correct: No\n",
      "Accuracy so far: 0.2951\n",
      "\n"
     ]
    },
    {
     "name": "stderr",
     "output_type": "stream",
     "text": [
      "9831it [56:03,  2.88it/s]"
     ]
    },
    {
     "name": "stdout",
     "output_type": "stream",
     "text": [
      "Context: [capçalera] Com eliminar l'autobronzat de la pell [títol] Apliqueu oli de bebè. [pas] En la majoria dels casos, la humitat us ajudarà a conservar el color del vostre autobronzat. Tanmateix, l'oli de bebè té l'efecte contrari i afluixarà les cèl·lules de la pell pigmentades amb autobronzat.\n",
      "Predicted Ending: Proveu d'utilitzar una petita quantitat d'oli de bebè 3 vegades per setmana i utilitzeu les puntes dels dits per esborrar amb cura les cèl·lules mortes de la pell. Com ja s'ha esmentat, no s'hauria de rentar, hidratar ni eliminar la crema d'autobronzat, ja que això pot impedir que l'autobronzat s'adhereixi a la pell. \n",
      "Correct Ending: Un tractament amb oli de bebè pot atenuar o eliminar completament l'autobronzat sense perjudicar la pell. [subpassos] Remolteu la pell amb oli de bebè i deixeu-lo actuar durant deu minuts.\n",
      "Is Correct: No\n",
      "Accuracy so far: 0.2950\n",
      "\n"
     ]
    },
    {
     "name": "stderr",
     "output_type": "stream",
     "text": [
      "9832it [56:04,  2.96it/s]"
     ]
    },
    {
     "name": "stdout",
     "output_type": "stream",
     "text": [
      "Context: [capçalera] Com depilar les celles a casa (mètode de mel i sal) [títol] Reuneix els ingredients per crear la cera. [pas] Aquesta recepta és convenient perquè aquests ingredients es poden trobar a qualsevol cuina. Només necessitareu una mica de mel, sal, farina i aigua.\n",
      "Predicted Ending: [títol] Col·loca dues cullerades de mel en un bol petit. [pas] Si la teva recepta requereix que molis una mica de farina per crear una substància seca, assegura't d'esperar fins que hagis acabat, en cas contrari, potser no podràs triar el tipus de cera desitjada per al pèl de les teves celles.\n",
      "Correct Ending: [títol] Combina mel, aigua, sal i farina en un bol petit apte per al microones. [pas] Pots utilitzar parts iguals de mel, farina, aigua i sal.\n",
      "Is Correct: No\n",
      "Accuracy so far: 0.2950\n",
      "\n"
     ]
    },
    {
     "name": "stderr",
     "output_type": "stream",
     "text": [
      "9833it [56:04,  2.77it/s]"
     ]
    },
    {
     "name": "stdout",
     "output_type": "stream",
     "text": [
      "Context: [capçalera] Com plantar violetes del pensament en contenidors i testos [títol] Considereu comprar violetes del pensament cultivades en contenidors a partir de llavors o plantes de planter. [pas] Les violetes del pensament són fàcils de cultivar a partir de llavors, i el cultiu a partir de llavors sol ser la forma més econòmica d'obtenir plantes de violetes del pensament. [subpassos] No obstant això, les violetes del pensament es poden comprar a un viver, com ara plantes de planter o plantes de tap.\n",
      "Predicted Ending: Les violetes del pensament creixen millor a partir de llavors perquè són petites i de baixa densitat, i tendeixen a créixer al terra o a les parets dels contenidors. Les violetes del pensament florides poden durar anys si se'n cuida adequadament.\n",
      "Correct Ending: Solen estar disponibles a la primavera i a la tardor. Si compreu violetes del pensament a la tardor, hauran de plantar-se 6 setmanes abans de les primeres gelades.\n",
      "Is Correct: No\n",
      "Accuracy so far: 0.2950\n",
      "\n"
     ]
    },
    {
     "name": "stderr",
     "output_type": "stream",
     "text": [
      "9834it [56:05,  2.70it/s]"
     ]
    },
    {
     "name": "stdout",
     "output_type": "stream",
     "text": [
      "Context: [capçalera] Com cancel·lar un abonament de la YMCA [títol] Contacta amb la teva YMCA local sobre la seva política de cancel·lació. [pas] Comença trucant o enviant un correu electrònic a la teva sucursal local de la YMCA per obtenir informació sobre la seva política de cancel·lació específica. Busca el seu número de contacte al seu lloc web o al revers de la teva targeta d'abonament de la YMCA.\n",
      "Predicted Ending: [subpassos] Consulta amb la teva YMCA local sobre les dates límit per a la cancel·lació; no totes les sucursals de la YMCA et permetran cancel·lar el teu abonament. [títol] Informa de les violacions de la teva targeta d'abonament de la YMCA en un termini de 120 dies de la seva política de cancel·lació.\n",
      "Correct Ending: També pots visitar la teva sucursal local de la YMCA en persona i parlar amb un representant a la recepció per obtenir més informació. [títol] Avís amb 10 a 30 dies d'antelació.\n",
      "Is Correct: No\n",
      "Accuracy so far: 0.2949\n",
      "\n"
     ]
    },
    {
     "name": "stderr",
     "output_type": "stream",
     "text": [
      "9835it [56:05,  2.69it/s]"
     ]
    },
    {
     "name": "stdout",
     "output_type": "stream",
     "text": [
      "Context: [capçalera] Com decidir si et vols fer perforar les orelles [títol] Tingues en compte la teva edat. [pas] No hi ha cap restricció d'edat legal sobre quan pots fer-te perforar les orelles, però necessitaràs el consentiment firmat d'un pare o mare si tens menys de setze anys. L'edat mitjana a la qual la gent es fa perforar les orelles és de set anys, però varia des de la infància fins a l'edat adulta.\n",
      "Predicted Ending: [subpassos] Mentre la teva oïda simplement augmenta amb l'edat, hauràs de haver-te perforat l'orella a l'adolescència per acabar volent perforar-te les orelles de nou. A causa d'això, probablement necessitaràs permís primer abans de poder perforar-te les orelles de forma permanent.\n",
      "Correct Ending: [subpassos] Si vas a l'escola, és important tenir en compte les normes de l'escola sobre perforacions corporals. Si no estan permeses, potser vulguis esperar a fer-te perforar.\n",
      "Is Correct: No\n",
      "Accuracy so far: 0.2949\n",
      "\n"
     ]
    },
    {
     "name": "stderr",
     "output_type": "stream",
     "text": [
      "9836it [56:05,  2.76it/s]"
     ]
    },
    {
     "name": "stdout",
     "output_type": "stream",
     "text": [
      "Context: [capçalera] Com provocar un eruc [títol] Beu una beguda amb gas. [pas] La soda, la cervesa, l'aigua amb gas, el xampany o altres begudes amb gas contenen gasos. Això és el que els fa efervescents.\n",
      "Predicted Ending: Com que la soda conté múltiples productes químics, la soda és molt recomanable per ajudar a lubricar l'esòfag, així que no us limiteu a l'aigua sense alcohol perquè augmenta l'efervescència i la inflamació associada a un eruc. No obstant això, hi ha molts tipus diferents de begudes amb gas i els vostres papil·les gustatives s'haurien d'anar adaptant a aquests a mesura que el vostre menjar roman buit.\n",
      "Correct Ending: Si beu aquest tipus de beguda, aleshores els gasos s'acumularan a l'estómac i molt probablement provocaran un eruc, cosa que pot ajudar a alleujar la incomoditat abdominal. Proveu-ho! [subpassos] No només beu la beguda, beu-la d'un glop. \n",
      "Is Correct: No\n",
      "Accuracy so far: 0.2949\n",
      "\n"
     ]
    },
    {
     "name": "stderr",
     "output_type": "stream",
     "text": [
      "9837it [56:06,  2.64it/s]"
     ]
    },
    {
     "name": "stdout",
     "output_type": "stream",
     "text": [
      "Context: [capçalera] Com aplicar maquillatge per a pell fosca (noies) [títol] Fes servir la base de maquillatge adequada per al teu tipus de pell. [pas] Diferents tipus de bases de maquillatge funcionen amb diferents tipus de pell, així que decideix si la teva pell és més greixosa o seca abans d'escollir una base de maquillatge. Si la teva cara sempre brilla, tens fàcilment erupcions cutànies i tens tendència a tenir porus més grans, probablement tens la pell greixosa.\n",
      "Predicted Ending: [subpassos] Per a la pell greixosa, tria una base de maquillatge que estigui etiquetat com a 'hidratant' en lloc de 'greixosa'. Per a la pell seca, tria una base de maquillatge que digui 'hidratant' en lloc de 'greixosa'.\n",
      "Correct Ending: Si la teva cara té taques aspres o vermelles, porus gairebé invisibles o pell que s'escama, probablement tens la pell seca. Si la teva cara té parts que semblen greixoses i altres parts que semblen seques, tens la pell mixta. \n",
      "Is Correct: No\n",
      "Accuracy so far: 0.2948\n",
      "\n"
     ]
    },
    {
     "name": "stderr",
     "output_type": "stream",
     "text": [
      "9838it [56:06,  2.90it/s]"
     ]
    },
    {
     "name": "stdout",
     "output_type": "stream",
     "text": [
      "Context: [capçalera] Com cuinar un pernil amb os [títol] Determineu la mida de pernil que necessiteu. [pas] Generalment, els rostits amb os pesen 10 lliures (4,5 kg) o més.\n",
      "Predicted Ending: El pernil es caramel·litza molt en el seu procés de cocció, per tant, la mida ha de ser aproximadament la mateixa. Per aquesta raó, la majoria dels pernils no són tan gruixuts com la resta del pernil.\n",
      "Correct Ending: Poden alimentar una família nombrosa en una ocasió especial. [títol] Trieu un pernil cru, si voleu cuinar-lo vosaltres mateixos.\n",
      "Is Correct: No\n",
      "Accuracy so far: 0.2948\n",
      "\n"
     ]
    },
    {
     "name": "stderr",
     "output_type": "stream",
     "text": [
      "9839it [56:06,  2.79it/s]"
     ]
    },
    {
     "name": "stdout",
     "output_type": "stream",
     "text": [
      "Context: [capçalera] Com crear un partit polític [títol] Organitzeu reunions per generar interès en la formació d'un partit. [pas] A cada etapa de la creació i el manteniment d'un partit polític, necessitareu molta participació entusiasta. Feu saber als altres que esteu interessats a començar un nou partit i demaneu-los que s'impliquin.\n",
      "Predicted Ending: Un cop hàgiu trobat persones que han expressat interès, [títol] Mantingueu-vos informats. [pas] Guardeu els registres de la vostra campanya en tot moment. \n",
      "Correct Ending: [subpassos] Podeu provar de començar organitzant una reunió amb persones que ja coneixeu en un centre comunitari o fins i tot a casa vostra. Si hi ha interès a crear un nou partit, digueu-los que difonguin la paraula a la gent que coneixen.\n",
      "Is Correct: No\n",
      "Accuracy so far: 0.2948\n",
      "\n"
     ]
    },
    {
     "name": "stderr",
     "output_type": "stream",
     "text": [
      "9840it [56:07,  2.82it/s]"
     ]
    },
    {
     "name": "stdout",
     "output_type": "stream",
     "text": [
      "Context: [capçalera] Com trobar maquillatge de bona qualitat i assequible [títol] Navega per les farmàcies. [pas] Les farmàcies tindran la selecció més gran de cosmètics assequibles. És possible trobar productes de alta qualitat gairebé iguals a les marques de grans magatzems a un preu més baix.\n",
      "Predicted Ending: La selecció no es limita a certs tipus de productes, inclosos: [subpassos] Maquillatge per a contornear, protegir la cara o fins i tot un to molt subtil. Les noves botigues de bellesa com les botigues de bellesa tenen botigues completament noves per a productes més barats.\n",
      "Correct Ending: De fet, algunes de les marques de farmàcies són propietat de les mateixes empreses que es venen a grans magatzems d'alta gamma. Això no sempre significa que sigui la mateixa qualitat, però hi ha moltes joies ocultes si es mira bé.\n",
      "Is Correct: No\n",
      "Accuracy so far: 0.2948\n",
      "\n"
     ]
    },
    {
     "name": "stderr",
     "output_type": "stream",
     "text": [
      "9841it [56:07,  2.88it/s]"
     ]
    },
    {
     "name": "stdout",
     "output_type": "stream",
     "text": [
      "Context: [capçalera] Com comprovar una llar d'infants al gimnàs [títol] Pregunteu al vostre gimnàs local si ofereixen serveis de llar d'infants. [pas] Una manera de trobar una llar d'infants al gimnàs és preguntar si el vostre gimnàs habitual ofereix serveis de llar d'infants. Potser tenen una zona de llar d'infants al darrere que no havíeu notat abans.\n",
      "Predicted Ending: O potser recentment s'han expandit per incloure una llar d'infants per als seus clients. Parleu amb un representant del vostre gimnàs local per veure si podeu deixar el vostre fill a una llar d'infants allí.\n",
      "Correct Ending: O potser recentment s'han expandit per incloure una llar d'infants per als seus clients. Parleu amb un representant del vostre gimnàs local per veure si podeu deixar el vostre fill a una llar d'infants allí.\n",
      "Is Correct: Yes\n",
      "Accuracy so far: 0.2948\n",
      "\n"
     ]
    },
    {
     "name": "stderr",
     "output_type": "stream",
     "text": [
      "9842it [56:07,  2.99it/s]"
     ]
    },
    {
     "name": "stdout",
     "output_type": "stream",
     "text": [
      "Context: [capçalera] Com superar una infatuació [títol] Analitza els defectes de la persona. [pas] És difícil veure res més sobre una persona de la qual estàs enamorat, excepte el meravellós que és. No obstant això, ningú és perfecte i tothom té defectes, fins i tot ells.\n",
      "Predicted Ending: Ningú té una autoestima perfecta, i reconèixer els defectes d'una persona farà que l'experiència sigui més fàcil tant per a tu com per a l'altra persona. [subpassos] Pensa per què aquests defectes et posen en marxa.\n",
      "Correct Ending: Fes una llista de les seves qualitats negatives per tornar-te a la realitat. [subpassos] Trobar aquests defectes probablement trigarà una mica.\n",
      "Is Correct: No\n",
      "Accuracy so far: 0.2948\n",
      "\n"
     ]
    },
    {
     "name": "stderr",
     "output_type": "stream",
     "text": [
      "9843it [56:08,  2.82it/s]"
     ]
    },
    {
     "name": "stdout",
     "output_type": "stream",
     "text": [
      "Context: [capçalera] Com desinfectar la teva màscara de pestanyes [títol] Aplica alcohol de fregat (70%) a un full de paper de cuina (també conegut com a paper de cuina). [pas] Les fibres del paper de cuina són fortes fins i tot quan estan saturades i suportaran ser fregades amb la vareta / la vareta de la màscara. .\n",
      "Predicted Ending: [subpassos] Els teixits no són adequats per a aquest mètode, ja que, una vegada saturats, el teixit es trencarà i les fibres soltes s'enganxaran a la vareta / la vareta de la màscara. La solució estàndard d'alcohol de fregat hauria de ser un 70% d'alcohol (isopropanol) en volum.\n",
      "Correct Ending: [subpassos] Els teixits no són adequats per a aquest mètode, ja que, una vegada saturats, el teixit es trencarà i les fibres soltes s'enganxaran a la vareta / la vareta de la màscara. La solució estàndard d'alcohol de fregat hauria de ser un 70% d'alcohol (isopropanol) en volum.\n",
      "Is Correct: Yes\n",
      "Accuracy so far: 0.2949\n",
      "\n"
     ]
    },
    {
     "name": "stderr",
     "output_type": "stream",
     "text": [
      "9844it [56:08,  2.99it/s]"
     ]
    },
    {
     "name": "stdout",
     "output_type": "stream",
     "text": [
      "Context: [capçalera] Com lligar una bufanda de seda [títol] Lliga-la a l'estil bandit. [pas] Aquest és un dels estils més clàssics per a una bufanda quadrada de seda. Col·loca la bufanda plana sobre una taula.\n",
      "Predicted Ending: Doblega-la per la meitat a la llargada, després enrotlla els extrems doblegats al costat de la bufanda. Pel·liceu els extrems doblegats de la bufanda junts.\n",
      "Correct Ending: Doblega dos dels cantonades per a que es trobin, creant un triangle. Col·loca la bufanda al coll amb el punt triangular ample sobre el pit apuntant cap avall.\n",
      "Is Correct: No\n",
      "Accuracy so far: 0.2948\n",
      "\n"
     ]
    },
    {
     "name": "stderr",
     "output_type": "stream",
     "text": [
      "9845it [56:08,  2.87it/s]"
     ]
    },
    {
     "name": "stdout",
     "output_type": "stream",
     "text": [
      "Context: [capçalera] Com ajustar les corretges del sostenidor [títol] Localitza el lliscador d'ajustament a les corretges. [pas] És un petit clip de metall o plàstic que pots lliscar amunt i avall al llarg de la corretja. Alguns lliscadors d'ajustament poden córrer al llarg de tota la corretja, mentre que altres només poden córrer a la meitat.\n",
      "Predicted Ending: [subpassos] En un sostenidor nou, probablement trobaràs el lliscador d'ajustament a la part posterior de la corretja del sostenidor, prop de la banda del sostenidor (la part que s'enganxa a l'esquena). Alguns sostenidors, com la majoria dels sostenidors esportius, estan fets d'una sola peça de tela i, per tant, no tenen corretges ajustables.\n",
      "Correct Ending: [subpassos] En un sostenidor nou, probablement trobaràs el lliscador d'ajustament a la part posterior de la corretja del sostenidor, prop de la banda del sostenidor (la part que s'enganxa a l'esquena). Alguns sostenidors, com la majoria dels sostenidors esportius, estan fets d'una sola peça de tela i, per tant, no tenen corretges ajustables.\n",
      "Is Correct: Yes\n",
      "Accuracy so far: 0.2949\n",
      "\n"
     ]
    },
    {
     "name": "stderr",
     "output_type": "stream",
     "text": [
      "9846it [56:09,  3.00it/s]"
     ]
    },
    {
     "name": "stdout",
     "output_type": "stream",
     "text": [
      "Context: [capçalera] Com ensenyar als nens a dir l'hora [títol] Practica a comptar fins a 60. [pas] Els nens han de ser capaços de comptar fins a 60 (en el ordre correcte) per dir l'hora. Feu que el vostre fill escrigui els números de l'1 al 60 en un tros de paper.\n",
      "Predicted Ending: A mesura que creixin, podran comptar fins a 60 en lloc d'això. No obstant això, sempre estaran comptant fins a 60.\n",
      "Correct Ending: Mentre escriuen cada número, feu que també el recitin. Poseu aquest tros de paper a la paret i feu que recitin els números regularment.\n",
      "Is Correct: No\n",
      "Accuracy so far: 0.2949\n",
      "\n"
     ]
    },
    {
     "name": "stderr",
     "output_type": "stream",
     "text": [
      "9847it [56:09,  2.92it/s]"
     ]
    },
    {
     "name": "stdout",
     "output_type": "stream",
     "text": [
      "Context: [capçalera] Com acollir un nen o una nena en acolliment familiar [títol] Presenta't amb el nom que vols que el nen o la nena t'anomeni. [pas] La teva acollida comença tan bon punt el treballador social entra a casa amb el nen o la nena en acolliment familiar. Saluda el treballador social i el nen o la nena amb una veu suau i amable.\n",
      "Predicted Ending: Presenta't amb el nom que vols que el nen o la nena t'anomeni quan es refereixin a tu. No insisteixis que el nen o la nena t'anomeni \"mama\" o \"papa\", ja que això els podria confondre.\n",
      "Correct Ending: Presenta't amb el nom que vols que el nen o la nena t'anomeni quan es refereixin a tu. No insisteixis que el nen o la nena t'anomeni \"mama\" o \"papa\", ja que això els podria confondre.\n",
      "Is Correct: Yes\n",
      "Accuracy so far: 0.2949\n",
      "\n"
     ]
    },
    {
     "name": "stderr",
     "output_type": "stream",
     "text": [
      "9848it [56:09,  2.91it/s]"
     ]
    },
    {
     "name": "stdout",
     "output_type": "stream",
     "text": [
      "Context: [capçalera] Com saber si hauries de treballar en atenció al client [títol] Determina si tens paciència. [pas] Potser un dels trets de personalitat més importants per als representants d'atenció al client és la paciència. La paciència, que es defineix com la capacitat de tractar amb retards i complicacions sense problemes, és crítica per als representants d'atenció al client.\n",
      "Predicted Ending: Això significa que hauries de treballar pacientment, prestant la teva atenció completa als teus clients i mantenint-te a la tasca quan els altres et necessitin. Quan estàs més involucrat en el treball dels teus representants d'atenció al client, ets més receptiu a l'ajuda i la guia que rebs.\n",
      "Correct Ending: La paciència és important per a diverses raons. Considera si podries manejar: [subpassos] Romandre al telèfon durant llargs períodes de temps.\n",
      "Is Correct: No\n",
      "Accuracy so far: 0.2949\n",
      "\n"
     ]
    },
    {
     "name": "stderr",
     "output_type": "stream",
     "text": [
      "9849it [56:10,  2.83it/s]"
     ]
    },
    {
     "name": "stdout",
     "output_type": "stream",
     "text": [
      "Context: [capçalera] Com viatjar com a vegetarià [títol] Trieu un destí favorable als vegetarians. [pas] Potser no sempre podreu triar els vostres destins de viatge, especialment si viatgeu per treball o amb altres persones. No obstant això, si teniu veu a dir on aneu, escolliu un lloc on la cuina sigui favorable als vegetarians.\n",
      "Predicted Ending: Per exemple, l'Índia, Tailàndia i Israel són coneguts com a destinacions favorables als vegetarians a causa de restriccions religioses, així com a un gran nombre de ciutadans vegetarians. [subpassos] Feu una mica de recerca en línia per descobrir quins llocs són favorables als vegetarians. \n",
      "Correct Ending: Per exemple, l'Índia, Tailàndia i Israel són coneguts com a destinacions favorables als vegetarians a causa de restriccions religioses, així com a un gran nombre de ciutadans vegetarians. [subpassos] Feu una mica de recerca en línia per descobrir quins llocs són favorables als vegetarians. \n",
      "Is Correct: Yes\n",
      "Accuracy so far: 0.2950\n",
      "\n"
     ]
    },
    {
     "name": "stderr",
     "output_type": "stream",
     "text": [
      "9850it [56:10,  2.81it/s]"
     ]
    },
    {
     "name": "stdout",
     "output_type": "stream",
     "text": [
      "Context: [capçalera] Com fer una diadema d'orelles de conill [títol] Trieu una diadema. [pas] Per fer una diadema d'orelles de conill, heu de començar amb la diadema adequada. Un estil de plàstic funcionarà bé, però una banda de metall és més robusta, de manera que no us heu de preocupar que es trenqui.\n",
      "Predicted Ending: Busqueu una diadema que tingui aproximadament d'1 a 2 polzades d'ample (2,5 a 5 cm). [subpassos] No importa el color de la diadema que utilitzeu.\n",
      "Correct Ending: Busqueu una diadema que tingui aproximadament d'1 a 2 polzades d'ample (2,5 a 5 cm). [subpassos] No importa el color de la diadema que utilitzeu.\n",
      "Is Correct: Yes\n",
      "Accuracy so far: 0.2951\n",
      "\n"
     ]
    },
    {
     "name": "stderr",
     "output_type": "stream",
     "text": [
      "9851it [56:10,  2.79it/s]"
     ]
    },
    {
     "name": "stdout",
     "output_type": "stream",
     "text": [
      "Context: [capçalera] Com evitar els sucres simples [títol] Llegeix l'etiqueta dels aliments. [pas] Als Estats Units, és obligatori que els fabricants d'aliments llistin la quantitat de sucre i els tipus de sucre en tots els aliments que tenen una etiqueta. Llegeix totes les etiquetes dels aliments i les llistes d'ingredients per estar al corrent del que conté exactament el teu menjar.\n",
      "Predicted Ending: Això ajudarà a prevenir l'ús de sucres simples per aromatitzar o nutrir els teus aliments. [títol] Deixa de menjar aliments que contenen additius artificials i alts nivells de calories.\n",
      "Correct Ending: [subpassos] Revisa l'etiqueta de l'aliment i busca \" sucre \". El trobaràs llistat sota l'etiqueta de \" carbohidrats totals \".\n",
      "Is Correct: No\n",
      "Accuracy so far: 0.2950\n",
      "\n"
     ]
    },
    {
     "name": "stderr",
     "output_type": "stream",
     "text": [
      "9852it [56:11,  2.66it/s]"
     ]
    },
    {
     "name": "stdout",
     "output_type": "stream",
     "text": [
      "Context: [capçalera] Com posar una ratlla de color al cabell [títol] Trieu un tipus d'extensió de cabell de color. [pas] Hi ha dos tipus principals d'extensió de cabell: sintètic i cabell natural. Les extensions sintètiques són més barates i es troben fàcilment a les botigues de subministraments de bellesa i a les botigues \"punk\", com ara Hot Topic o Clairs.\n",
      "Predicted Ending: Les extensions de cabell natural són més cares i es poden trobar a salons i botigues de subministraments de bellesa. A diferència de les extensions sintètiques, es poden allisar i arrissar.\n",
      "Correct Ending: Les extensions de cabell natural són més cares i es poden trobar a salons i botigues de subministraments de bellesa. A diferència de les extensions sintètiques, es poden allisar i arrissar.\n",
      "Is Correct: Yes\n",
      "Accuracy so far: 0.2951\n",
      "\n"
     ]
    },
    {
     "name": "stderr",
     "output_type": "stream",
     "text": [
      "9853it [56:11,  2.76it/s]"
     ]
    },
    {
     "name": "stdout",
     "output_type": "stream",
     "text": [
      "Context: [capçalera] Com fer moniato confitat [títol] Renteu els moniatos. [pas] Utilitzeu un raspall per a verdures per raspallar els moniatos per eliminar la brutícia i les arrels. Esbandiu els moniatos sota aigua freda corrent.\n",
      "Predicted Ending: Eixugueu-los amb un drap de cuina net. Deixeu els moniatos a part per a la vostra amanida si no els voleu coure.\n",
      "Correct Ending: No els peleu encara; ho fareu després de coure'ls. Per això, és important que els moniatos estiguin nets.\n",
      "Is Correct: No\n",
      "Accuracy so far: 0.2951\n",
      "\n"
     ]
    },
    {
     "name": "stderr",
     "output_type": "stream",
     "text": [
      "9854it [56:12,  2.73it/s]"
     ]
    },
    {
     "name": "stdout",
     "output_type": "stream",
     "text": [
      "Context: [capçalera] Com netejar les sabatilles Merrell [títol] Escombra les petites quantitats de brutícia amb regularitat. [pas] Com que les sabatilles Merrell s'utilitzen sovint per a activitats a l'aire lliure, són propenses a acumular brutícia i altres restes. Fes un hàbit de netejar les sabatilles Merrell després de cada ús.\n",
      "Predicted Ending: Cada vegada que arrenquis el vaixell, dedica uns moments a escombrar suaument la brutícia de les sabatilles. Un cop hagis acabat aquest fregat, deixa que les sabatilles s'assequin a l'aire mentre et vesteixes.\n",
      "Correct Ending: Després de portar les sabatilles, utilitza un raspall suau per escombrar suaument la brutícia o les restes. [subpassos] Si estàs vigilant amb l'escombrat de la brutícia amb regularitat, és menys probable que s'acumuli a les sabatilles.\n",
      "Is Correct: No\n",
      "Accuracy so far: 0.2950\n",
      "\n"
     ]
    },
    {
     "name": "stderr",
     "output_type": "stream",
     "text": [
      "9855it [56:12,  2.49it/s]"
     ]
    },
    {
     "name": "stdout",
     "output_type": "stream",
     "text": [
      "Context: [capçalera] Com vestir-se de manera informal per a l'oficina per a la dona de talla gran [títol] Definir informal per a l'oficina. [pas] La primera pregunta per a molta gent és: \"què és informal per a l'oficina?\" Sembla una contradicció i les definicions poden variar molt d'una persona a una altra. Una cosa és segura: informal per a l'oficina no són vestits ni jaquetes.\n",
      "Predicted Ending: Quan intentes crear un estil informal per a l'oficina, recorda que això és el que estàs fent. Estàs creant un estil informal per a l'oficina per a reflectir qui ets.\n",
      "Correct Ending: D'altra banda, no són texans i xancletes, sinó alguna cosa intermèdia. [subpassos] La millor manera de definir la interpretació de la teva empresa sobre la vestimenta informal per a l'oficina és mirar els teus companys de feina.\n",
      "Is Correct: No\n",
      "Accuracy so far: 0.2950\n",
      "\n"
     ]
    },
    {
     "name": "stderr",
     "output_type": "stream",
     "text": [
      "9856it [56:12,  2.60it/s]"
     ]
    },
    {
     "name": "stdout",
     "output_type": "stream",
     "text": [
      "Context: [capçalera] Com portar un fitbit [títol] Col·loca el fitbit al voltant del teu canell. [pas] Alinea el dispositiu de manera que la pantalla estigui a la part superior (o a la part posterior) del canell. Això et permetrà obtenir una visió clara de la lectura en qualsevol moment, tant si estàs corrent com si simplement estàs comprovant l'hora.\n",
      "Predicted Ending: Assegura't de posar el dispositiu a l'alçada del canell que acabes de configurar, o tindràs dificultats per a caminar al voltant del model. [títol] Porta el fitbit a través de la mà nua.\n",
      "Correct Ending: [subpassos] Assegura't que la pantalla estigui orientada en la direcció correcta perquè sigui visible cada vegada que baixis la vista. També és possible subjectar el fitbit a un turmell si necessites tenir les mans lliures, tot i que això pot distorsionar les teves estadístiques.\n",
      "Is Correct: No\n",
      "Accuracy so far: 0.2950\n",
      "\n"
     ]
    },
    {
     "name": "stderr",
     "output_type": "stream",
     "text": [
      "9857it [56:13,  2.74it/s]"
     ]
    },
    {
     "name": "stdout",
     "output_type": "stream",
     "text": [
      "Context: [capçalera] Com restablir el teu fitbit [títol] Connecta el cable de càrrega a l'ordinador. [pas] Utilitza els ports USB de l'ordinador per connectar el cable de càrrega del fitbit a l'ordinador. [títol] Connecta el teu fitbit tracker al cable de càrrega.\n",
      "Predicted Ending: [pas] El cable de càrrega és portàtil i es pot connectar a un ordinador connectant un adaptador al cable de càrrega. [subpassos] Connecta el carregador del fitbit a l'ordinador mitjançant el seu cable de càrrega.\n",
      "Correct Ending: [pas] El cable de càrrega està dissenyat específicament per connectar-se al teu fitbit tracker. [títol] Prem i mantingues premut el botó durant 12 segons.\n",
      "Is Correct: No\n",
      "Accuracy so far: 0.2950\n",
      "\n"
     ]
    },
    {
     "name": "stderr",
     "output_type": "stream",
     "text": [
      "9858it [56:13,  2.89it/s]"
     ]
    },
    {
     "name": "stdout",
     "output_type": "stream",
     "text": [
      "Context: [capçalera] Com netejar diversos cèntims alhora (mètode del ketchup) [títol] Agafa una mica de ketchup. [pas] Utilitzar condiments per netejar monedes pot semblar ridícul, però realment funciona. Agafa ketchup i escampa'l per tot un plat.\n",
      "Predicted Ending: [títol] Posar una bola de cotó o un paper de seda en una tassa de ketchup. [pas] Només cal trencar-los i llençar-los a la brossa.\n",
      "Correct Ending: Cobrir completament la zona si tens molts cèntims, o posar-los en capes si només en tens uns quants. [títol] Agrupa els teus cèntims en grups de 10.\n",
      "Is Correct: No\n",
      "Accuracy so far: 0.2949\n",
      "\n"
     ]
    },
    {
     "name": "stderr",
     "output_type": "stream",
     "text": [
      "9859it [56:13,  2.85it/s]"
     ]
    },
    {
     "name": "stdout",
     "output_type": "stream",
     "text": [
      "Context: [capçalera] Com fer un recipient per a bàlsam labial [títol] Talla la part superior d'una ampolla de plàstic. [pas] Fes servir unes tisores o un ganivet de precisió per a tallar una ampolla de plàstic per sota de la base del tap. Talla just al punt on el plàstic comença a expandir-se i fer-se més ample.\n",
      "Predicted Ending: [subpassos] Fes servir qualsevol ampolla que vulguis per a aquest projecte, ja sigui d'aigua, refresc, suc, llet o qualsevol altra beguda. Pots seleccionar una ampolla en funció del color del tap o de la seva grandària, depenent de com vulguis que sembli el teu recipient per a bàlsam labial.\n",
      "Correct Ending: [subpassos] Fes servir qualsevol ampolla que vulguis per a aquest projecte, ja sigui d'aigua, refresc, suc, llet o qualsevol altra beguda. Pots seleccionar una ampolla en funció del color del tap o de la seva grandària, depenent de com vulguis que sembli el teu recipient per a bàlsam labial.\n",
      "Is Correct: Yes\n",
      "Accuracy so far: 0.2950\n",
      "\n"
     ]
    },
    {
     "name": "stderr",
     "output_type": "stream",
     "text": [
      "9860it [56:14,  2.82it/s]"
     ]
    },
    {
     "name": "stdout",
     "output_type": "stream",
     "text": [
      "Context: [capçalera] Com triar el taulell d'oficina adequat [títol] Una làmpada no és simplement una font de llum a la teva taula de lectura. [pas] És més aviat un accessori funcional a una habitació. I igual que amb qualsevol altre accessori, hi ha moltes opcions o varietats de làmpades de sobretaula per triar.\n",
      "Predicted Ending: Aquí explorarem com seleccionar les làmpades de sobretaula adequades, així com quines consideracions s'han de tenir en compte abans del procés real. [títol] Factors a considerar a l'hora de seleccionar una làmpada de sobretaula [títol] Mida [títol] Aquí és on la majoria de la gent es equivoca, quan es tracta de seleccionar làmpades per als seus escriptoris.\n",
      "Correct Ending: Aquí explorarem com seleccionar les làmpades de sobretaula adequades, així com quines consideracions s'han de tenir en compte abans del procés real. [títol] Factors a considerar a l'hora de seleccionar una làmpada de sobretaula [títol] Mida [títol] Aquí és on la majoria de la gent es equivoca, quan es tracta de seleccionar làmpades per als seus escriptoris.\n",
      "Is Correct: Yes\n",
      "Accuracy so far: 0.2951\n",
      "\n"
     ]
    },
    {
     "name": "stderr",
     "output_type": "stream",
     "text": [
      "9861it [56:14,  2.81it/s]"
     ]
    },
    {
     "name": "stdout",
     "output_type": "stream",
     "text": [
      "Context: [capçalera] Com tancar Windows 8 [títol] Obriu la barra de Charms. [pas] Moveu el cursor a la cantonada inferior dreta o superior dreta de la pantalla fins que aparegui la barra de Charms lateral. Si utilitzeu un dispositiu tàctil, desplaceu el dit cap a l'esquerra des del costat dret de la pantalla.\n",
      "Predicted Ending: Desplaceu el dit cap a l'esquerra per tancar la barra de Charms i, a continuació, torneu a la barra de Charms. Si utilitzeu un dispositiu tàctil, assegureu-vos que la barra de Charms estigui orientada cap a vosaltres. \n",
      "Correct Ending: [títol] Seleccioneu l'opció de configuració a la part inferior dreta de la barra. [pas] Això obrirà una barra lateral de configuració més gran.\n",
      "Is Correct: No\n",
      "Accuracy so far: 0.2950\n",
      "\n"
     ]
    },
    {
     "name": "stderr",
     "output_type": "stream",
     "text": [
      "9862it [56:15,  2.64it/s]"
     ]
    },
    {
     "name": "stdout",
     "output_type": "stream",
     "text": [
      "Context: [capçalera] Com ressaltar els ulls verds [títol] Porta samarretes i jaquetes de qualsevol tonalitat verda. [pas] Qualsevol peça de roba que portis més a prop de les teves iris -la part verda dels teus ulls- ressaltarà el seu color. Com que moltes tonalitats de verd faran ressaltar els ulls verds, prova de portar samarretes i jaquetes de la teva tonalitat preferida.\n",
      "Predicted Ending: Simplement assegura't d'evitar tonalitats brillants com el verd fluorescent i el verd brillant, que en realitat poden fer que els teus ulls semblin apagats. [subpassos] Per exemple, posa't una camisa de botons de verd fosc o una samarreta verda.\n",
      "Correct Ending: Per exemple, prova de portar una samarreta de punt negra amb cordons. Mesclar i combinar un color sòlid i una tonalitat clara de verd pot canviar molt el teu aspecte.\n",
      "Is Correct: No\n",
      "Accuracy so far: 0.2950\n",
      "\n"
     ]
    },
    {
     "name": "stderr",
     "output_type": "stream",
     "text": [
      "9863it [56:15,  2.63it/s]"
     ]
    },
    {
     "name": "stdout",
     "output_type": "stream",
     "text": [
      "Context: [capçalera] Com fer el check-in a un hotel [títol] Mira-ho en línia. [pas] Abans de comprometre't amb una reserva, consulta l'hotel en línia, on pots veure les habitacions, la ubicació, les llistes de serveis i molt més. [subpassos] Si no pots utilitzar Internet, truca'ls i fes-los preguntes sobre la ubicació de l'hotel, el nivell de soroll, la distància a peu als restaurants, etc.\n",
      "Predicted Ending: [títol] Pren nota de la política de cancel·lació de l'hotel. [pas] De vegades passa l'inesperat, així que assegura't que estàs d'acord amb la política de cancel·lació de l'hotel i fes un seguiment del que costa.\n",
      "Correct Ending: [títol] Pren nota de la política de cancel·lació de l'hotel. [pas] De vegades passa l'inesperat, així que assegura't que estàs d'acord amb la política de cancel·lació de l'hotel i fes un seguiment del que costa.\n",
      "Is Correct: Yes\n",
      "Accuracy so far: 0.2951\n",
      "\n"
     ]
    },
    {
     "name": "stderr",
     "output_type": "stream",
     "text": [
      "9864it [56:15,  2.60it/s]"
     ]
    },
    {
     "name": "stdout",
     "output_type": "stream",
     "text": [
      "Context: [capçalera] Com curar la pell esquerdada [títol] Comproveu si hi ha infeccions. [pas] Comenceu per comprovar si hi ha signes d'infecció. Si la zona està inflada, allibera pus o sang, o és molt sensible i dolorosa, heu d'anar immediatament al metge o al centre de salut local.\n",
      "Predicted Ending: [subpassos] Els granets poden ser causats per diverses condicions: glàndules sebàcies, pell esquerdada, uveïtis, sagnat menstrual excessiu, coàguls de sang subcutanis o un trastorn immune que provoca el creixement de bacteris. Una àrea danyada evitarà que la sang passi pel porus.\n",
      "Correct Ending: Les esquerdes a la pell són molt propenses a la infecció i aquestes infeccions requereixen tractament professional. [subpassos] Si no teniu assegurança mèdica (i viviu als EUA), aneu a la llista oficial de clíniques per a persones de baixos ingressos.\n",
      "Is Correct: No\n",
      "Accuracy so far: 0.2950\n",
      "\n"
     ]
    },
    {
     "name": "stderr",
     "output_type": "stream",
     "text": [
      "9865it [56:16,  2.71it/s]"
     ]
    },
    {
     "name": "stdout",
     "output_type": "stream",
     "text": [
      "Context: [capçalera] Com evitar l'excés durant les vacances [títol] Posa't límits saludables. [pas] No és realista evitar completament els excessos durant les vacances. Les vacances són un moment especial i et mereixes afluixar les restriccions pel que fa als aliments de tant en tant.\n",
      "Predicted Ending: Abans d'excedir-te, assegura't que ets vegetarià i menja alguns àpats saludables diversos dies a la setmana. Evita incorporar la ingesta compulsiva a la teva dieta, a causa dels seus efectes secundaris adversos.\n",
      "Correct Ending: En lloc de decidir que no participaràs en absolut, estableix una sèrie de límits saludables i realistes per a tu mateix. [subpassos] Intenta establir límits diaris o setmanals.\n",
      "Is Correct: No\n",
      "Accuracy so far: 0.2950\n",
      "\n"
     ]
    },
    {
     "name": "stderr",
     "output_type": "stream",
     "text": [
      "9866it [56:16,  2.69it/s]"
     ]
    },
    {
     "name": "stdout",
     "output_type": "stream",
     "text": [
      "Context: [capçalera] Com fer que les diademes no facin mal [títol] Entra a la secció de roba o cura del cabell de la teva botiga preferida i busca una secció que contingui accessoris. [pas] També pots anar a una botiga normal, com Walmart, i mirar la selecció que hi ha. Però fes atenció, algunes de les diademes que hi ha allà no tenen una qualitat molt bona.\n",
      "Predicted Ending: Assegura't de comprovar que entre tots els accessoris que hi hagi tens una selecció decent de diademes. Però no animis els teus amics a llençar-les. \n",
      "Correct Ending: [títol] Evita les diademes amb pals o punxes petits a l'interior. [pas] Aquests poden enredar-se al cabell, i pot ser extremadament difícil treure'ls sense molt de dolor.\n",
      "Is Correct: No\n",
      "Accuracy so far: 0.2950\n",
      "\n"
     ]
    },
    {
     "name": "stderr",
     "output_type": "stream",
     "text": [
      "9867it [56:16,  2.77it/s]"
     ]
    },
    {
     "name": "stdout",
     "output_type": "stream",
     "text": [
      "Context: [capçalera] Com cuidar del teu marit [títol] Aconseguir que el teu marit s'obri. [pas] Alguns homes estan socialment condicionats a evitar parlar dels seus sentiments. Això pot ser perjudicial per a la relació, ja que deixa molts sentiments importants sense expressar.\n",
      "Predicted Ending: Si el teu marit té dificultats per obrir-se, potser hauràs de treballar més per aprendre com es sent i què necessita en la relació. [subpassos] Fes saber al teu marit que t'agradaria saber com es sent. \n",
      "Correct Ending: Si el teu marit té dificultats per obrir-se, potser hauràs de treballar més per aprendre com es sent i què necessita en la relació. [subpassos] Fes saber al teu marit que t'agradaria saber com es sent. \n",
      "Is Correct: Yes\n",
      "Accuracy so far: 0.2951\n",
      "\n"
     ]
    },
    {
     "name": "stderr",
     "output_type": "stream",
     "text": [
      "9868it [56:17,  2.81it/s]"
     ]
    },
    {
     "name": "stdout",
     "output_type": "stream",
     "text": [
      "Context: [capçalera] Com fer que les ungles falses semblin reals [títol] Trieu un kit d'ungles artificials. [pas] Hi ha tres tipus principals de kits casolans per a ungles artificials: gel, acrílic i adhesius. Cadascun té els seus propis avantatges i desavantatges a tenir en compte quan s'intenta aconseguir ungles artificials d'aspecte natural.\n",
      "Predicted Ending: [subpassos] Gel: les manicures de gel s'assemblen més a la teva ungla natural i són menys perjudicials per a la placa ungueal. Les manicures de gel duren almenys dues setmanes, depenent del manteniment.\n",
      "Correct Ending: [subpassos] Gel: les manicures de gel s'assemblen més a la teva ungla natural i són menys perjudicials per a la placa ungueal. Les manicures de gel duren almenys dues setmanes, depenent del manteniment.\n",
      "Is Correct: Yes\n",
      "Accuracy so far: 0.2951\n",
      "\n"
     ]
    },
    {
     "name": "stderr",
     "output_type": "stream",
     "text": [
      "9869it [56:17,  2.85it/s]"
     ]
    },
    {
     "name": "stdout",
     "output_type": "stream",
     "text": [
      "Context: [capçalera] Com fer pesto de fulles de pastanaga [títol] Talla i mesura les fulles de pastanaga. [pas] Agafa uns quants rams de pastanagues fresques amb fulles verdes brillants. Renta les pastanagues i les fulles a consciència.\n",
      "Predicted Ending: Talla les fulles per la part superior i asseca-les completament amb un drap de cuina o en una centrifugadora per a amanides. Talla les fulles a trossos grans per obtenir 2 tasses (50 g) de fulles de pastanaga.\n",
      "Correct Ending: Talla les fulles per la part superior i asseca-les completament amb un drap de cuina o en una centrifugadora per a amanides. Talla les fulles a trossos grans per obtenir 2 tasses (50 g) de fulles de pastanaga.\n",
      "Is Correct: Yes\n",
      "Accuracy so far: 0.2952\n",
      "\n"
     ]
    },
    {
     "name": "stderr",
     "output_type": "stream",
     "text": [
      "9870it [56:17,  2.76it/s]"
     ]
    },
    {
     "name": "stdout",
     "output_type": "stream",
     "text": [
      "Context: [capçalera] Com comprar un Volvo clàssic [títol] Sabrieu quin tipus de vehicle Volvo busqueu i quines característiques s'adapten al vostre estil. [subpassos] Els Volvos estan disponibles en vagons d'estació, models de sedan, SUV i sedans compactes, així com coupés. Els vehicles Volvo tenen alts estàndards de seguretat i, en general, obtenen un bon consum de combustible.\n",
      "Predicted Ending: Els Volvos més antics van sortir de la línia de muntatge el 1927, i el model s'anomena Volvo V 4. Com que Volvo Group va ser un dels fabricants de vehicles comercials més grans del món abans de ser comprat per Ford el 1998, els Volvos es poden trobar a tot el món.\n",
      "Correct Ending: Els Volvos més antics van sortir de la línia de muntatge el 1927, i el model s'anomena Volvo V 4. Com que Volvo Group va ser un dels fabricants de vehicles comercials més grans del món abans de ser comprat per Ford el 1998, els Volvos es poden trobar a tot el món.\n",
      "Is Correct: Yes\n",
      "Accuracy so far: 0.2953\n",
      "\n"
     ]
    },
    {
     "name": "stderr",
     "output_type": "stream",
     "text": [
      "9871it [56:18,  2.81it/s]"
     ]
    },
    {
     "name": "stdout",
     "output_type": "stream",
     "text": [
      "Context: [capçalera] Com entretenir un nen petit [títol] Proveu-vos d'una banyera de plàstic prou gran perquè el vostre nen petit s'hi pugui asseure. [títol] Ompliu-la amb una petita quantitat d'aigua tèbia i oferiu-li gots i culleres de plàstic. [pas] Mostreu al nen com omplir el got amb la cullera.\n",
      "Predicted Ending: Digueu-li que posi el got a l'aigua perquè ho vegi. És molt més fàcil assegurar-vos que el seu got o la seva cullera es omplin completament amb l'aigua sense que salti del got. \n",
      "Correct Ending: [Títol] Ompliu un bol net amb sabó i poseu-hi el dit, netejant qualsevol sabó granulat o sec a la cullera. [pas] Suavitzeu qualsevol residu de sabó a la cullera passant-hi suaument el dit.\n",
      "Is Correct: No\n",
      "Accuracy so far: 0.2952\n",
      "\n"
     ]
    },
    {
     "name": "stderr",
     "output_type": "stream",
     "text": [
      "9872it [56:18,  2.82it/s]"
     ]
    },
    {
     "name": "stdout",
     "output_type": "stream",
     "text": [
      "Context: [capçal] Com identificar un abcés ungular en cavalls [títol] Observeu si el vostre cavall pot posar pes a la ungla afectada. [pas] Els abcessos ungulars es produeixen quan les bactèries queden atrapades a la ungla. Després s'acumula pus, el que augmenta la pressió a la ungla perquè no hi ha gaire espai perquè la ungla s'infli.\n",
      "Predicted Ending: Aquesta pressió esdevé extremadament dolorosa per a un cavall, provocant coixesa. Si el vostre cavall té un abcés ungular, pot ser que no pugui posar pes a la ungla afectada.\n",
      "Correct Ending: Aquesta pressió esdevé extremadament dolorosa per a un cavall, provocant coixesa. Si el vostre cavall té un abcés ungular, pot ser que no pugui posar pes a la ungla afectada.\n",
      "Is Correct: Yes\n",
      "Accuracy so far: 0.2953\n",
      "\n"
     ]
    },
    {
     "name": "stderr",
     "output_type": "stream",
     "text": [
      "9873it [56:19,  2.77it/s]"
     ]
    },
    {
     "name": "stdout",
     "output_type": "stream",
     "text": [
      "Context: [capçalera] Com canviar les dates dels fitxers [títol] Descarregueu bulkfilechanger si encara no teniu una còpia al vostre sistema. [pas] Aquest programa utilitari us permet crear llistes de fitxers de Windows i canviar-ne els atributs. [títol] Executeu bulkfilechanger.\n",
      "Predicted Ending: [pas] Tan bon punt el vostre ordinador s'actualitzi, se us demanarà que obriu bulkfilechanger prement i mantenint premuda la tecla de comandament a la part superior esquerra del vostre escriptori. [títol] Creeu un fitxer nou anomenat bulkfilechanger.\n",
      "Correct Ending: [pas] Quan aparegui el menú principal, feu clic a fitxer i, a continuació, afegiu fitxers. [títol] Seleccioneu el fitxer (o la carpeta) on voleu canviar l'atribut de data/hora. \n",
      "Is Correct: No\n",
      "Accuracy so far: 0.2953\n",
      "\n"
     ]
    },
    {
     "name": "stderr",
     "output_type": "stream",
     "text": [
      "9874it [56:19,  2.85it/s]"
     ]
    },
    {
     "name": "stdout",
     "output_type": "stream",
     "text": [
      "Context: [capçalera] Com netejar els taulells de granit [títol] Prepareu els taulells per a una neteja adequada. [pas] Abans de començar a netejar realment el taulell, elimineu la brutícia en excés i traieu els electrodomèstics o articles perquè pugueu arribar a totes les zones. [subpassos] Netegeu qualsevol vessament o residu enganxós al taulell.\n",
      "Predicted Ending: Netegeu qualsevol vessament amb una esponja o un drap humit de cuina. Utilitzeu una mànega de jardí per allunyar els productes de neteja del taulell. \n",
      "Correct Ending: La millor manera d'evitar que el taulell es taqui és eliminar immediatament els líquids o les salses del taulell. Si el líquid s'ha assecat, utilitzeu un drap humit calent per afluixar i treure la brutícia enganxada.\n",
      "Is Correct: No\n",
      "Accuracy so far: 0.2953\n",
      "\n"
     ]
    },
    {
     "name": "stderr",
     "output_type": "stream",
     "text": [
      "9875it [56:19,  2.92it/s]"
     ]
    },
    {
     "name": "stdout",
     "output_type": "stream",
     "text": [
      "Context: [capçalera] Com convèncer-te a tallar-te els cabells més curts [títol] Consulta amb un estilista o un barber. [pas] Programa una cita de consulta. Aquesta és una reunió de 30 minuts entre tu i el teu estilista.\n",
      "Predicted Ending: Et poden demanar que identifiquis les millors seccions dels teus cabells en aquest moment i que els facis saber la teva raó per voler-los tallar més curts. Per sol·licitar un tall de cabell, l'estilista o el barber t'informarà sobre els diferents talls apropiats per al teu tipus de cabell.\n",
      "Correct Ending: Parlareu de les opcions d'estil sense tallar-vos els cabells. Això alleujarà part de la pressió sobre tu, alhora que et donarà l'oportunitat de discutir els teus temors.\n",
      "Is Correct: No\n",
      "Accuracy so far: 0.2952\n",
      "\n"
     ]
    },
    {
     "name": "stderr",
     "output_type": "stream",
     "text": [
      "9876it [56:20,  2.99it/s]"
     ]
    },
    {
     "name": "stdout",
     "output_type": "stream",
     "text": [
      "Context: [capçalera] Com eliminar les etiquetes de vi per a col·leccionar [títol] Remulla la botella en aigua calenta durant 15 minuts. [pas] Si ho desitges, pots comprar sabó clorat en una botiga que ven equips de vinificació i afegir-ne una mica seguint les instruccions. Això ajudarà a dissoldre la cola.\n",
      "Predicted Ending: [títol] Retira la botella de l'aigua calenta. [pas] Desenganxa suaument l'etiqueta de la botella.\n",
      "Correct Ending: [títol] Retira la botella de l'aigua calenta. [pas] Desenganxa suaument l'etiqueta de la botella.\n",
      "Is Correct: Yes\n",
      "Accuracy so far: 0.2953\n",
      "\n"
     ]
    },
    {
     "name": "stderr",
     "output_type": "stream",
     "text": [
      "9877it [56:20,  2.99it/s]"
     ]
    },
    {
     "name": "stdout",
     "output_type": "stream",
     "text": [
      "Context: [capçalera] Com utilitzar compresses de Tucks per a les hemorroides [títol] Prepara un bany. [pas] Abans d'utilitzar una compressió de Tucks , hauràs d'assegurar-te que la zona anal està neta. La millor manera de netejar la zona anal és prendre un bany de seient calent.\n",
      "Predicted Ending: En un bany de seient, col·loca una tovallola suau al voltant de la zona i recolza la compressió a l'aigua amb unes gotes d'oli de llimona o menta. Posar la compressió al bany mentre l'aigua entra, la relaxa lentament. \n",
      "Correct Ending: Els banys de seient només requereixen uns quants centímetres d'aigua per submergir l'anus, però pots prendre un bany complet si ho prefereixes. Si prefereixes el bany de seient tradicional, només cal omplir la banyera amb uns quants centímetres d'aigua.\n",
      "Is Correct: No\n",
      "Accuracy so far: 0.2953\n",
      "\n"
     ]
    },
    {
     "name": "stderr",
     "output_type": "stream",
     "text": [
      "9878it [56:20,  3.05it/s]"
     ]
    },
    {
     "name": "stdout",
     "output_type": "stream",
     "text": [
      "Context: [capçalera] Com arreglar l'arròs xop [títol] Deixeu que l'aigua s'evapori si queda aigua al cassó. [pas] Traieu la tapa del cassó per deixar que s'escapi el vapor. Baixeu el foc i continueu cuinant l'arròs durant uns 5 minuts.\n",
      "Predicted Ending: [subpassos] També podeu afegir 3-5 gotes d'oli d'arbre de te o oli d'arròs a la cassola en aquest moment per ajudar l'arròs a cuinar més ràpid. Assegureu-vos d'afegir prou oli per cobrir el fons de la cassola.\n",
      "Correct Ending: L'aigua hauria de quedar cuita al final. [títol] Escorreu l'aigua sobrant amb un colador de malla fina o un colador.\n",
      "Is Correct: No\n",
      "Accuracy so far: 0.2952\n",
      "\n"
     ]
    },
    {
     "name": "stderr",
     "output_type": "stream",
     "text": [
      "9879it [56:20,  3.03it/s]"
     ]
    },
    {
     "name": "stdout",
     "output_type": "stream",
     "text": [
      "Context:  [capçalera] Com fer canvis a la teva vida personal i laboral [títol] Superar la por al fracàs. [pas] La resistència al canvi pot estar profundament arrelada en la por. Tendim a aferrar-nos al passat, que és més segur i previsible.\n",
      "Predicted Ending:  Si alguna cosa ens ha funcionat bé en el passat, podem tenir por de no aconseguir tant en el futur. [títol] Canvia els teus mals hàbits de la falta de voluntat d'aprendre.\n",
      "Correct Ending:  Si alguna cosa ens ha funcionat bé en el passat, podem tenir por de no aconseguir tant en el futur. [títol] Canvia els teus mals hàbits de la falta de voluntat d'aprendre.\n",
      "Is Correct: Yes\n",
      "Accuracy so far: 0.2953\n",
      "\n"
     ]
    },
    {
     "name": "stderr",
     "output_type": "stream",
     "text": [
      "9880it [56:21,  3.09it/s]"
     ]
    },
    {
     "name": "stdout",
     "output_type": "stream",
     "text": [
      "Context: [capçalera] Com crear un art de manicura d'ales de papallona [títol] Prepara les teves ungles. [pas] Neteja, retalla i lima les teves ungles. Empeny els teus cutícules cap enrere i aplica una mica d'oli per a cutícules.\n",
      "Predicted Ending: [títol] Trieu un color que coincideixi amb el to de la vostra pell. [pas] Decidiu si voleu que el color de la vostra ungla sigui apagat o intens.\n",
      "Correct Ending: Finalment, neteja les teves ungles amb una mica d'alcohol de fregament o removedor d'esmalt. Això eliminarà qualsevol oli que pugui impedir que l'esmalt s'enganxi.\n",
      "Is Correct: No\n",
      "Accuracy so far: 0.2953\n",
      "\n"
     ]
    },
    {
     "name": "stderr",
     "output_type": "stream",
     "text": [
      "9881it [56:21,  3.03it/s]"
     ]
    },
    {
     "name": "stdout",
     "output_type": "stream",
     "text": [
      "Context: [capçalera] Com aconseguir un bon bronzejat [títol] Considera simplement estirar-te a la llum solar directa. [pas] El bronzejat natural és més segur que les cambres de bronzejat, i et donarà els resultats més naturals. [títol] Troba una manera de passar el temps.\n",
      "Predicted Ending: [pas] Dorm en qualsevol posició que et faci feliç, i tira suaument del cap cap amunt per rentar-te la cara. Una samarreta amb els teus personatges de dibuixos animats preferits és la millor, però les cambres de bronzejat també poden ajudar-te a despertar-te poc després d'estar al sol.\n",
      "Correct Ending: [pas] Dormir és bo perquè fa que el temps passi més ràpid, mentre que llegir un llibre bloqueja una mica la llum del sol mentre estàs d'esquena. Programa amb cura una migdiada, diguem d'una hora a una hora i mitja, i posa una alarma per despertar-te després que hagi passat aquest temps. \n",
      "Is Correct: No\n",
      "Accuracy so far: 0.2952\n",
      "\n"
     ]
    },
    {
     "name": "stderr",
     "output_type": "stream",
     "text": [
      "9882it [56:22,  2.96it/s]"
     ]
    },
    {
     "name": "stdout",
     "output_type": "stream",
     "text": [
      "Context: [capçalera] Com fer un fulletó de viatges [títol] Trieu el destí dels vostres clients potencials. [pas] Si sou un professional que treballa per a una agència de viatges, el destí que trieu serà aquell pel qual treballeu. Si sou estudiant i esteu creant un fulletó de viatges de ficció, voldreu triar un lloc desitjable, exòtic i interessant.\n",
      "Predicted Ending: Això variarà d'un lloc a un altre, per tant, s'assegurarà que el lloc on treballeu estigui ben planificat i lliure de distraccions importants. [subpassos] El vostre destí podria estar en un centre comercial d'Amazon, una cambra de comerç local, una cadena més gran o fins i tot l'estat.\n",
      "Correct Ending: [subpassos] Un professional ja hauria de saber quin destí està representant o intentant anunciar. Utilitzeu aquest pas per conèixer les característiques clau del vostre lloc: muntanyes, llacs, cabanes, museus, parcs, etc.\n",
      "Is Correct: No\n",
      "Accuracy so far: 0.2952\n",
      "\n"
     ]
    },
    {
     "name": "stderr",
     "output_type": "stream",
     "text": [
      "9883it [56:22,  3.03it/s]"
     ]
    },
    {
     "name": "stdout",
     "output_type": "stream",
     "text": [
      "Context: [capçalera] Com cuidar la roba de ball dels nens [títol] Mantenir les sabatilles de ball seques. [pas] Les sabatilles tenen tendència a desfer-se, especialment les de satí. Per evitar que les sabatilles es desfaci, evita que s'humitegin.\n",
      "Predicted Ending: Assegura't que els teus fills no caminin amb les seves sabatilles mentre plou. Evita deixar les teves sabatilles en un lloc on es puguin mullar accidentalment, com ara a prop de la porta davantera. \n",
      "Correct Ending: Assegura't que els teus fills no caminin amb les seves sabatilles mentre plou. Evita deixar les teves sabatilles en un lloc on es puguin mullar accidentalment, com ara a prop de la porta davantera. \n",
      "Is Correct: Yes\n",
      "Accuracy so far: 0.2953\n",
      "\n"
     ]
    },
    {
     "name": "stderr",
     "output_type": "stream",
     "text": [
      "9884it [56:22,  2.98it/s]"
     ]
    },
    {
     "name": "stdout",
     "output_type": "stream",
     "text": [
      "Context: [capçalera] Com trobar ajuda per a un possible trastorn alimentari [títol] Familiaritzeu-vos amb el que és un trastorn alimentari. [pas] Un trastorn alimentari és una condició greu que provoca pertorbacions greus en els hàbits alimentaris. Podeu passar per cicles de menjar massa o massa poc, a més de tenir una preocupació extrema pel vostre cos o pes.\n",
      "Predicted Ending: Els trastorns alimentaris més comuns són l'anorèxia nerviosa, la bulímia nerviosa i el trastorn per menjar compulsiu. [subpassos] Els investigadors creuen que les arrels d'un trastorn alimentari impliquen una barreja intricate de factors genètics, biològics, psicològics, socials i conductuals.\n",
      "Correct Ending: Els trastorns alimentaris més comuns són l'anorèxia nerviosa, la bulímia nerviosa i el trastorn per menjar compulsiu. [subpassos] Els investigadors creuen que les arrels d'un trastorn alimentari impliquen una barreja intricate de factors genètics, biològics, psicològics, socials i conductuals.\n",
      "Is Correct: Yes\n",
      "Accuracy so far: 0.2954\n",
      "\n"
     ]
    },
    {
     "name": "stderr",
     "output_type": "stream",
     "text": [
      "9885it [56:22,  2.99it/s]"
     ]
    },
    {
     "name": "stdout",
     "output_type": "stream",
     "text": [
      "Context: [capçalera] Com evitar que altres comprin coses amb el teu Amazon Echo [títol] Obre l'aplicació. [pas] Fes clic a l'aplicació al teu telèfon intel·ligent o tauleta per obrir-la. Un cop estigui oberta, busca la pestanya \" menú \" a la cantonada superior esquerra.\n",
      "Predicted Ending: Des d'aquí pots afegir i mostrar la informació de contacte. [subpassos] També pots triar com vols compartir la informació, com ara el teu nom d'usuari, la teva adreça de correu electrònic i la teva contrasenya. \n",
      "Correct Ending: Toca la pestanya \" menú \" per obrir les opcions. [títol] Toca \" configuració \" a la pestanya \" menú \".\n",
      "Is Correct: No\n",
      "Accuracy so far: 0.2953\n",
      "\n"
     ]
    },
    {
     "name": "stderr",
     "output_type": "stream",
     "text": [
      "9886it [56:23,  2.86it/s]"
     ]
    },
    {
     "name": "stdout",
     "output_type": "stream",
     "text": [
      "Context: [capçalera] Com fer que el pèl de les aixelles sigui menys notable [títol] Compra un producte per blanquejar el pèl dissenyat específicament per a tu per utilitzar-lo al cos, com ara un blanquejador per a la cara o el pèl dels braços. [subpassos] Potser vulguis parlar amb un metge o un dermatòleg per obtenir recomanacions de productes. [títol] Retira qualsevol peça de roba que no vulguis que es malmeti si entra en contacte amb el blanquejador.\n",
      "Predicted Ending: [títol] Renta't les aixelles amb aigua tèbia i sabó. [títol] Prepara el blanquejador segons les instruccions del paquet.\n",
      "Correct Ending: [títol] Renta't les aixelles amb aigua tèbia i sabó. [títol] Prepara el blanquejador segons les instruccions del paquet.\n",
      "Is Correct: Yes\n",
      "Accuracy so far: 0.2954\n",
      "\n"
     ]
    },
    {
     "name": "stderr",
     "output_type": "stream",
     "text": [
      "9887it [56:23,  2.86it/s]"
     ]
    },
    {
     "name": "stdout",
     "output_type": "stream",
     "text": [
      "Context: [capçalera] Com triar un multivitamínic per a dones [títol] Demaneu al vostre metge si teniu deficiències vitamíniques. [pas] Moltes persones pensen que no tenen deficiències vitamíniques, quan en realitat, poden tenir una o diverses. Les anàlisis de sang tradicionals i rutinàries no comproven totes les vitamines.\n",
      "Predicted Ending: Per poder utilitzar un multivitamínic, parleu-ne amb el vostre metge. [subpassos] El vostre metge pot fer una prova molt més general o simplement referir-vos a un dietista per obtenir més informació.\n",
      "Correct Ending: Potser ni tan sols comprovi la vitamina D. Heu de demanar que es facin aquestes proves per assegurar-vos que es fan. \n",
      "Is Correct: No\n",
      "Accuracy so far: 0.2954\n",
      "\n"
     ]
    },
    {
     "name": "stderr",
     "output_type": "stream",
     "text": [
      "9888it [56:24,  2.83it/s]"
     ]
    },
    {
     "name": "stdout",
     "output_type": "stream",
     "text": [
      "Context: [capçalera] Com arreglar el maquillatge si t'has adormit amb ell posat [títol] Fes servir papers absorbents per absorbir l'excés d'oli. [pas] En despertar-te, pots notar que la teva cara sembla llisa i brillant, especialment a la zona T (front, nas i barbeta). Abans de arreglar el maquillatge, és important desfer-se'n.\n",
      "Predicted Ending: Agafa una mica de papers absorbents i absorbeix l'excés d'oli amb els dits o amb un mocador. [subpassos] Si la teva cara és grassa a la zona T, absorbeix l'excés d'oli amb un drap de cuina.\n",
      "Correct Ending: Aplicar una capa fresca de maquillatge sobre ella pot conduir a porus obstruïts, pell danyada i erupcions greus. Els papers absorbents poden absorbir l'oli ràpidament i fàcilment, i el millor de tot, deixaran el maquillatge intact. \n",
      "Is Correct: No\n",
      "Accuracy so far: 0.2953\n",
      "\n"
     ]
    },
    {
     "name": "stderr",
     "output_type": "stream",
     "text": [
      "9889it [56:24,  2.94it/s]"
     ]
    },
    {
     "name": "stdout",
     "output_type": "stream",
     "text": [
      "Context: [capçalera] Com tenir un bon aspecte en despertar-se [títol] Renta't la cara abans d'anar a dormir. [pas] Esbandiu-vos la cara amb aigua calenta. Això obrirà els porus i prepararà la pell per a una neteja profunda.\n",
      "Predicted Ending: Assegureu-vos que no esteu massa bruts abans d'anar a dormir. Per a donar-vos un aspecte més suau i humit al matí, obriu els porus massatjant suaument un netejador d'acne i/o una crema hidratant a la cara amb el drap.\n",
      "Correct Ending: Utilitzant la punta dels dits índex i mig, apliqueu sabó facial a la cara en cercles, fregant a fons. [subpassos] Utilitzeu un exfoliant facial per eliminar les cèl·lules mortes de la pell per a un aspecte més saludable i brillant al matí.\n",
      "Is Correct: No\n",
      "Accuracy so far: 0.2953\n",
      "\n"
     ]
    },
    {
     "name": "stderr",
     "output_type": "stream",
     "text": [
      "9890it [56:24,  2.93it/s]"
     ]
    },
    {
     "name": "stdout",
     "output_type": "stream",
     "text": [
      "Context: [capçalera] Com introduir el futbol a un nen [títol] Compra-li una pilota de futbol. [pas] Compra una pilota de mida petita al principi (mides 2 o 3). Tenir la seva pròpia pilota de futbol proporcionarà un gran incentiu per utilitzar-la i jugar amb ella a casa, encoratjant així la pràctica.\n",
      "Predicted Ending: [títol] Regala-li la pilota de futbol al teu fill en un dia especial, potser el seu aniversari. [pas] Això ajudarà el teu fill a associar-la a una ocasió divertida, veient-la com un regal i una oportunitat d'aprendre alguna cosa nova.\n",
      "Correct Ending: [títol] Regala-li la pilota de futbol al teu fill en un dia especial, potser el seu aniversari. [pas] Això ajudarà el teu fill a associar-la a una ocasió divertida, veient-la com un regal i una oportunitat d'aprendre alguna cosa nova.\n",
      "Is Correct: Yes\n",
      "Accuracy so far: 0.2954\n",
      "\n"
     ]
    },
    {
     "name": "stderr",
     "output_type": "stream",
     "text": [
      "9891it [56:25,  2.96it/s]"
     ]
    },
    {
     "name": "stdout",
     "output_type": "stream",
     "text": [
      "Context: [capçalera] Com fer l'optimització de la botiga d'aplicacions [títol] Inverteix en un icone d'aplicació d'alta qualitat. [pas] El primer que veuran els teus usuaris és el teu icone d'aplicació. Ha de ser net, informatiu i memorable.\n",
      "Predicted Ending: Si vols que els possibles usuaris sàpiguen que ets un usuari reputat, has de proporcionar-lo, no anunciar-lo per ràdio. Per tant, compra un icone d'aplicació de qualitat que es recordarà durant molt de temps.\n",
      "Correct Ending: Evita usar text; alguna cosa relacionada amb la teva aplicació/joc és una opció molt millor. Recorda que l'icona és el primer que notarà un usuari potencial, així que mantingues-la neta i simple.\n",
      "Is Correct: No\n",
      "Accuracy so far: 0.2954\n",
      "\n"
     ]
    },
    {
     "name": "stderr",
     "output_type": "stream",
     "text": [
      "9892it [56:25,  2.97it/s]"
     ]
    },
    {
     "name": "stdout",
     "output_type": "stream",
     "text": [
      "Context: [capçalera] Com fer ombra d'ulls de color bronze [títol] Si no vols la molèstia i no vols provar-ho tu mateix, sempre pots buscar el teu color perfecte. [títol] Ves a les botigues. [pas] Sovint són més barats a les botigues que en línia, i la majoria d'ells són de molt bona qualitat.\n",
      "Predicted Ending: [títol] Si busques per les botigues, porta tovalloletes de maquillatge. [pas] No proveu tons a la mà, proveu-los als ulls, perquè el to 'perfecte' pot adaptar-se a la vostra pell, però no als ulls.\n",
      "Correct Ending: [títol] Si busques per les botigues, porta tovalloletes de maquillatge. [pas] No proveu tons a la mà, proveu-los als ulls, perquè el to 'perfecte' pot adaptar-se a la vostra pell, però no als ulls.\n",
      "Is Correct: Yes\n",
      "Accuracy so far: 0.2954\n",
      "\n"
     ]
    },
    {
     "name": "stderr",
     "output_type": "stream",
     "text": [
      "9893it [56:25,  3.06it/s]"
     ]
    },
    {
     "name": "stdout",
     "output_type": "stream",
     "text": [
      "Context: [capçalera] Com redactar una garantia [títol] Formata el teu document. [pas] Vols que la gent pugui llegir la teva garantia, així que assegura't que la mida de la font no sigui massa petita. En general, qualsevol cosa per sota de 10 punts de tipus és difícil de llegir per a la gent.\n",
      "Predicted Ending: [subpassos] Configura la mida de la font tan ampla com el document pugui acomodar. Si pots, utilitza un estil de font tradicional com Times New Roman o Arial. \n",
      "Correct Ending: [subpassos] En lloc d'això, utilitza 12 punts de tipus o més gran.\n",
      "Is Correct: No\n",
      "Accuracy so far: 0.2954\n",
      "\n"
     ]
    },
    {
     "name": "stderr",
     "output_type": "stream",
     "text": [
      "9894it [56:26,  3.01it/s]"
     ]
    },
    {
     "name": "stdout",
     "output_type": "stream",
     "text": [
      "Context: [capçalera] Com desfer-se de la cel·lulitis a la part posterior de les cuixes [títol] Masatja la teva cel·lulitis. [pas] Teòricament, massatjant la part posterior de les cuixes, pots millorar la circulació en aquesta part de la cama. Una millor circulació pot disminuir l'aspecte amb banyes, avergonyent, de la cel·lulitis.\n",
      "Predicted Ending: Si no ho has provat abans, fes-ho passar a una mida més raonable. Massatjant la teva cel·lulitis, pots ajudar-la a tenir un aspecte més suau.\n",
      "Correct Ending: [subpassos] Pots massatjar la zona amb els dits si no hi ha res més disponible. Fregueu la part posterior de les cuixes amb moviments circulars ferms durant 5 a 10 minuts diaris.\n",
      "Is Correct: No\n",
      "Accuracy so far: 0.2954\n",
      "\n"
     ]
    },
    {
     "name": "stderr",
     "output_type": "stream",
     "text": [
      "9895it [56:26,  2.97it/s]"
     ]
    },
    {
     "name": "stdout",
     "output_type": "stream",
     "text": [
      "Context: [capçalera] Com fer Cheetos recoberts de caramel [títol] Fon el mantega al microones durant 20 segons. [títol] Combina la mantega, el sucre moreno, el xarop de blat de moro i la sal en la teva olla de 3 quarts. [títol] Posa la barreja de caramel agitada al fogó, remenant constantment fins que faci bombolles.\n",
      "Predicted Ending: [títol] Cuina-ho durant uns 20 segons, o fins que les bombolles s'aturin. [títol] Quan la barreja bulli, treu un molinet de cafè i ves al congelador. \n",
      "Correct Ending: [pas] Deixa-ho al foc durant 2 minuts. [títol] Un cop el caramel estigui fet, afegeix el bicarbonat de sodi, la crema de tàrtar i la vainilla.\n",
      "Is Correct: No\n",
      "Accuracy so far: 0.2953\n",
      "\n"
     ]
    },
    {
     "name": "stderr",
     "output_type": "stream",
     "text": [
      "9896it [56:26,  3.09it/s]"
     ]
    },
    {
     "name": "stdout",
     "output_type": "stream",
     "text": [
      "Context: [capçalera] Com preparar-se per a un baby shower [títol] Regala-li un regal. [pas] Regala un regal a la futura mare. De vegades trien coses i les posen en un registre, així que pregunta a la persona si en té un.\n",
      "Predicted Ending: Si no en té, demaneu-li una idea del que vol. Si està una mica insegura, intenteu pensar en alguna cosa que pugui necessitar.\n",
      "Correct Ending: Si no en té, demaneu-li una idea del que vol. Si està una mica insegura, intenteu pensar en alguna cosa que pugui necessitar.\n",
      "Is Correct: Yes\n",
      "Accuracy so far: 0.2954\n",
      "\n"
     ]
    },
    {
     "name": "stderr",
     "output_type": "stream",
     "text": [
      "9897it [56:27,  3.06it/s]"
     ]
    },
    {
     "name": "stdout",
     "output_type": "stream",
     "text": [
      "Context: [capçalera] Com convèncer els teus pares perquè et deixin usar tampons [títol] Tingues coratge. [pas] Potser estàs una mica nerviosa demanant permís al teu tutor per usar tampons. Especialment si et van dir directament que hauries d'esperar fins que siguis més gran.\n",
      "Predicted Ending: Però no hi ha cap pressa. Espera i fes el que se senti natural per a tu. \n",
      "Correct Ending: Trau el tema quan siguis l'única a la cuina, al cotxe, a la sala d'estar, al bany, etc. Prova de dir coses com: \"Hola, mama, estaries d'acord que usi tampons sempre que em poguessis explicar com? Probablement necessitaré ajuda, però crec que estic preparada\".\n",
      "Is Correct: No\n",
      "Accuracy so far: 0.2954\n",
      "\n"
     ]
    },
    {
     "name": "stderr",
     "output_type": "stream",
     "text": [
      "9898it [56:27,  3.03it/s]"
     ]
    },
    {
     "name": "stdout",
     "output_type": "stream",
     "text": [
      "Context: [capçalera] Com afaitar-se en sec [títol] Compra una maquineta elèctrica. [pas] Les maquines elèctriques són o bé maquines rotatives o bé amb fulles de làmina. Les maquines rotatives tenen diverses fulles giratòries que solen ser pivotades de manera que poden ajustar-se a diversos angles de la pell.\n",
      "Predicted Ending: Les maquines amb làmina són les més efectives per a assecar el cabell perquè la punta allibera un cop d'aire que pot ajudar a hidratar i suavitzar el cabell. [subpassos] Pots triar maquines basades en raigs ultraviolats per al teu cabell.\n",
      "Correct Ending: Les fulles de làmina tenen fulles lineals que es mouen cap endavant i cap enrere sota una coberta plana de metall perforada. [subpassos] Els models es fabriquen per a homes i dones, dissenyats per a funcionar de manera òptima per a aplicacions específiques de gènere.\n",
      "Is Correct: No\n",
      "Accuracy so far: 0.2953\n",
      "\n"
     ]
    },
    {
     "name": "stderr",
     "output_type": "stream",
     "text": [
      "9899it [56:27,  2.99it/s]"
     ]
    },
    {
     "name": "stdout",
     "output_type": "stream",
     "text": [
      "Context: [capçalera] Com aconseguir que el cabell brilli quan s'asseca a l'aire [títol] No us salteu el condicionador. [pas] Usar xampú cada vegada que us dutxeu pot assecar el cabell, però heu de posar-vos condicionador cada vegada. Això suavitzarà el cabell, l'hidratarà i ajudarà a suavitzar la cutícula per crear brillantor.\n",
      "Predicted Ending: [títol] Condiciona el teu cabell cada dia amb una fórmula simple. [pas] Tant el xampú com el condicionador faran que el teu cabell brilli.\n",
      "Correct Ending: Busca condicionadors fets per al teu tipus de cabell i assegura't que l'apliques correctament. [subpassos] Si tens el cabell fi, evita aplicar condicionador a les arrels. \n",
      "Is Correct: No\n",
      "Accuracy so far: 0.2953\n",
      "\n"
     ]
    },
    {
     "name": "stderr",
     "output_type": "stream",
     "text": [
      "9900it [56:28,  2.84it/s]"
     ]
    },
    {
     "name": "stdout",
     "output_type": "stream",
     "text": [
      "Context: [capçalera] Com trobar el teu estil de moda [títol] Porta roba que afavoreixi la teva figura. [pas] El primer que has de fer per semblar elegant sense esforç és assegurar-te que portes roba que sigui bona per al teu tipus de cos. Com que l'estil sense esforç se suposa que ha de ser subtil, necessitaràs que la teva roba quedi bé per obtenir l'aspecte elegant i car de la teva roba.\n",
      "Predicted Ending: [subpassos] Per exemple, si ets petita, la teva roba hauria de caure just per sota del pit i arribar fins a la cintura. Si ets més alta, fes que la teva roba estigui feta a mida a la teva alçada i nivell de maduresa.\n",
      "Correct Ending: Vols roba que et faci semblar més prima i de l'alçada perfecta, amb tot en proporció. [títol] Troba els teus colors i juga amb ells.\n",
      "Is Correct: No\n",
      "Accuracy so far: 0.2953\n",
      "\n"
     ]
    },
    {
     "name": "stderr",
     "output_type": "stream",
     "text": [
      "9901it [56:28,  2.86it/s]"
     ]
    },
    {
     "name": "stdout",
     "output_type": "stream",
     "text": [
      "Context: [capçalera] Com preparar tater tots casolans [títol] Pela les patates. [pas] Renta i frega les 2 lliures (908 grams) de patates, després utilitza un pelador de patates per pelar-les completament. Desfés-te de les pells i col·loca les patates en una olla gran.\n",
      "Predicted Ending: [títol] Cuina les patates a foc mitjà-alt. [pas] Omple l'olla de patates amb aigua freda fins que l'aigua cobreixi les patates uns 2,54 cm (1 polzada).\n",
      "Correct Ending: [títol] Cuina les patates a foc mitjà-alt. [pas] Omple l'olla de patates amb aigua freda fins que l'aigua cobreixi les patates uns 2,54 cm (1 polzada).\n",
      "Is Correct: Yes\n",
      "Accuracy so far: 0.2954\n",
      "\n"
     ]
    },
    {
     "name": "stderr",
     "output_type": "stream",
     "text": [
      "9902it [56:28,  2.92it/s]"
     ]
    },
    {
     "name": "stdout",
     "output_type": "stream",
     "text": [
      "Context: [capçalera] Com tractar l'acne a la barbeta [títol] Examina el teu estil de vida. [pas] Una varietat de factors poden contribuir al desenvolupament de l'acne al voltant de la barbeta. Examina el teu propi estil de vida per buscar el culpable dels teus brots.\n",
      "Predicted Ending: [subpassos] Els sentiments crònics d'incompetència sovint es manifesten com a pressió excessiva al temple, que pot intensificar els brots a la línia del cabell. Si continues sentint-te inadequat, potser tinguis un problema amb el fet que el teu cos tingui un conducte lacrimal bloquejat.\n",
      "Correct Ending: Si es poden identificar certs hàbits com a causa, es poden modificar o eliminar per reduir la gravetat dels brots. [subpassos] Ets una usuària de maquillatge pesat? El maquillatge greixós o aplicat amb molta quantitat pot obstruir els porus i s'ha demostrat que causa brots. \n",
      "Is Correct: No\n",
      "Accuracy so far: 0.2953\n",
      "\n"
     ]
    },
    {
     "name": "stderr",
     "output_type": "stream",
     "text": [
      "9903it [56:29,  2.94it/s]"
     ]
    },
    {
     "name": "stdout",
     "output_type": "stream",
     "text": [
      "Context: [capçalera] Com venjar-se [títol] Mantingues la calma per ara. [pas] A vegades, venjar-se és una manera d'alliberar emocions negatives com la ira, que pot ser perjudicial per a la salut. No mostri la seva mà, ni la seva ira de seguida i digui que es venjarà.\n",
      "Predicted Ending: En lloc d'això, reaccioni amb honestedat i faci que el seu objectiu pensi que ha guanyat. D'aquesta manera, serà menys probable que esperi una represàlia. \n",
      "Correct Ending: En lloc d'això, reaccioni amb honestedat i faci que el seu objectiu pensi que ha guanyat. D'aquesta manera, serà menys probable que esperi una represàlia. \n",
      "Is Correct: Yes\n",
      "Accuracy so far: 0.2954\n",
      "\n"
     ]
    },
    {
     "name": "stderr",
     "output_type": "stream",
     "text": [
      "9904it [56:29,  2.99it/s]"
     ]
    },
    {
     "name": "stdout",
     "output_type": "stream",
     "text": [
      "Context: [capçalera] Com evitar que el teu fill petit mossegui [títol] Sap que mossegar és normal. [pas] El teu fill petit està mossegant per comunicar-se amb tu. Has d'aprendre el que el teu fill petit està intentant dir i després fer ajustaments.\n",
      "Predicted Ending: [subpassos] Utilitza un reforç positiu per animar el teu fill petit a mossegar. No golpegis el teu fill petit, no el golpegis, no li estiris la cua, ni li prenguis el pèl o t'aclaparis de la seva conducta.\n",
      "Correct Ending: Tot i que mossegar és normal, encara no és acceptable. Les raons típiques per mossegar inclouen: [subpassos] Expressar una necessitat o un sentiment com ara la ràbia, la frustració, l'alegria o l'emoció que es troba desbordat pel seu entorn cansat de la dentició experimentant copiant altres nens buscant atenció [títol] Determina per què el teu fill mossega.\n",
      "Is Correct: No\n",
      "Accuracy so far: 0.2954\n",
      "\n"
     ]
    },
    {
     "name": "stderr",
     "output_type": "stream",
     "text": [
      "9905it [56:29,  2.89it/s]"
     ]
    },
    {
     "name": "stdout",
     "output_type": "stream",
     "text": [
      "Context: [capçalera] Com aconseguir un piercing de labret [títol] Obteniu un piercing vertical per un aspecte atrevit. [pas] Un piercing de labret vertical implica un piercing just per sota del llavi i un altre prop del centre del llavi. Un piercing de labret vertical normalment utilitza joies de barra, de manera que apareix a la cara com a dues perles: una sota el llavi i una altra al llavi.\n",
      "Predicted Ending: [títol] Prova alguna cosa no convencional amb un piercing de mossegada de serp. [pas] Un piercing de mossegada de serp és un tipus de piercing de labret que sembla una mossegada de serp.\n",
      "Correct Ending: [títol] Prova alguna cosa no convencional amb un piercing de mossegada de serp. [pas] Un piercing de mossegada de serp és un tipus de piercing de labret que sembla una mossegada de serp.\n",
      "Is Correct: Yes\n",
      "Accuracy so far: 0.2954\n",
      "\n"
     ]
    },
    {
     "name": "stderr",
     "output_type": "stream",
     "text": [
      "9906it [56:30,  2.96it/s]"
     ]
    },
    {
     "name": "stdout",
     "output_type": "stream",
     "text": [
      "Context: [capçalera] Com llogar una limusina [títol] Decideix quan vols llogar la limusina. [pas] El començament de l'estiu és el pic de la temporada per llogar limusines. Probablement podràs aconseguir un millor preu si llogues una limusina fora dels mesos de maig i juny.\n",
      "Predicted Ending: [subpassos] Moltes empreses de lloguer de limusines ofereixen grans paquets de limusines a preus més baixos. Tanmateix, el conductor que lloga una limusina per al funeral pot no ser la primera limusina que llogues.\n",
      "Correct Ending: També és probable que obtinguis una tarifa millor els dies de setmana. [subpassos] De diumenge a dijous solen ser els dies menys cars, mentre que els divendres són un 20% menys que els dissabtes.\n",
      "Is Correct: No\n",
      "Accuracy so far: 0.2954\n",
      "\n"
     ]
    },
    {
     "name": "stderr",
     "output_type": "stream",
     "text": [
      "9907it [56:30,  2.93it/s]"
     ]
    },
    {
     "name": "stdout",
     "output_type": "stream",
     "text": [
      "Context: [capçalera] Com mantenir un diari d'alimentació per a la vida [títol] Comprar un bloc de notes. [pas] També podeu comprar una funda per al bloc de notes que tingui butxaques, però això és opcional. Usar un programa de processament de text com el Microsoft Word és una excel·lent manera d'organitzar electrònicament el vostre diari d'alimentació.\n",
      "Predicted Ending: Utilitzar un PC és realment la manera més ràpida, professional i senzilla de fer un seguiment del vostre diari d'alimentació. [títol] Separeu el vostre diari d'aliments del vostre diari de menjars.\n",
      "Correct Ending: Deseu la vostra feina per mes i any en carpetes separades al vostre disc dur. [títol] Feu un calendari a la primera pàgina del bloc, començant amb el diumenge a la primera línia, després el dilluns a la segona línia, el dimarts a la tercera línia, etc.\n",
      "Is Correct: No\n",
      "Accuracy so far: 0.2954\n",
      "\n"
     ]
    },
    {
     "name": "stderr",
     "output_type": "stream",
     "text": [
      "9908it [56:30,  2.91it/s]"
     ]
    },
    {
     "name": "stdout",
     "output_type": "stream",
     "text": [
      "Context: [capçalera] Com preparar els nens per a un nou germà [títol] Feu que el vostre fill/fills s'asseguin amb vosaltres en un lloc tranquil on sigui improbable que us molestin. [títol] Pregunteu-los què pensarien d'un nou germà petit. [pas] La majoria dels nens estarien emocionats per la perspectiva, però alguns poden estar una mica confosos.\n",
      "Predicted Ending: [títol] Doneu-los un llibre i llegiu-los-el. [pas] Parleu amb ells i ajudeu-los a posar les pàgines de cada llibre a la seva ment.\n",
      "Correct Ending: [títol] Expliqueu que vosaltres/la mare aneu a tenir un bebè. [pas] Això pot ser incòmode si és amb un padrastre, o un xicot.\n",
      "Is Correct: No\n",
      "Accuracy so far: 0.2954\n",
      "\n"
     ]
    },
    {
     "name": "stderr",
     "output_type": "stream",
     "text": [
      "9909it [56:31,  2.83it/s]"
     ]
    },
    {
     "name": "stdout",
     "output_type": "stream",
     "text": [
      "Context: [capçalera] Com portar sabates blanques [títol] Trie sabates esportives blanques baixes en lloc d'altes per a la versatilitat. [pas] Les baixes queden bé amb una àmplia gamma de vestits, de manera que en treuràs el màxim profit. La seva versatilitat les fa més apropiades que les altes en moltes situacions i entorns.\n",
      "Predicted Ending: Aquí teniu algunes tendències a tenir en compte a l'hora d'escollir sabates esportives blanques baixes: [subpassos] Si estàs caminant pel poble, prova unes sandàlies altes de turmell desfetes. Les altes són les que tenen corretges petites a cada costat i s'obren als extrems.\n",
      "Correct Ending: Tampoc hauràs de lidiar amb els pantalons agrupant-se als turmells quan portis baixes. [subpassos] Agafa un parell de sabates esportives clàssiques si portes sovint texans i samarretes.\n",
      "Is Correct: No\n",
      "Accuracy so far: 0.2953\n",
      "\n"
     ]
    },
    {
     "name": "stderr",
     "output_type": "stream",
     "text": [
      "9910it [56:31,  2.80it/s]"
     ]
    },
    {
     "name": "stdout",
     "output_type": "stream",
     "text": [
      "Context: [capçalera] Com espessir la salsa [títol] Trieu el vostre midó. [pas] La maizena és la més comuna per a espessir, però també podeu utilitzar midó de patata, fècula d'arròs, farina de tapioca o farina d'arròs. Quan es combinen amb líquids i es escalfen, aquests midons s'inflen i formen un gel espès.\n",
      "Predicted Ending: Quan els barregeu amb aigua simple, la maizena s'enganxarà a la calor i s'expandirà per alimentar el vostre grill. [títol] Col·loqueu l'aigua al fogó a foc lent i escalfeu-la.\n",
      "Correct Ending: [subpassos] La farina no es recomana per a aquest mètode perquè té un sabor fort i no té la mateixa potència espessiment que els altres midons. De manera similar, la farina instantània es pot batre directament a les salses sense haver de barrejar-se amb aigua primer, però no es recomana. \n",
      "Is Correct: No\n",
      "Accuracy so far: 0.2953\n",
      "\n"
     ]
    },
    {
     "name": "stderr",
     "output_type": "stream",
     "text": [
      "9911it [56:31,  2.77it/s]"
     ]
    },
    {
     "name": "stdout",
     "output_type": "stream",
     "text": [
      "Context: [capçalera] Com convertir-se en un etòleg [títol] Apreneu sobre ser un etòleg. [pas] Els etòlegs investiguen les causes, les funcions, el desenvolupament i l'evolució dels comportaments d'un animal específic o de grups d'animals. Si t'agrada treballar amb animals, aquesta pot ser una carrera professional gratificant per a tu.\n",
      "Predicted Ending: Tot i que potser no sempre sigui correcte per a tu treballar amb animals, ser un etòleg pot proporcionar-te una base sòlida sobre la qual començar la teva carrera com a etòleg. [subpassos] Tenir un treball en un camp pel qual t'agrada treballar és especialment útil durant les primeres etapes de la teva carrera com a etòleg. \n",
      "Correct Ending: [subpassos] Investiga els diferents tipus de treball que podries fer. Aquests inclouen agències governamentals o altres institucions públiques i privades com universitats o museus, o fins i tot amb mascotes.\n",
      "Is Correct: No\n",
      "Accuracy so far: 0.2953\n",
      "\n"
     ]
    },
    {
     "name": "stderr",
     "output_type": "stream",
     "text": [
      "9912it [56:32,  2.65it/s]"
     ]
    },
    {
     "name": "stdout",
     "output_type": "stream",
     "text": [
      "Context: [capçalera] Com convertir-se en pare o mare d'acollida a Nova York [títol] Informeu-vos sobre les responsabilitats. [pas] Un pare o mare d'acollida proporciona atenció afectuosa i un hogar estable per a nens que actualment no poden viure amb els seus pares naturals. Generalment, els nens són retirats a causa d'abusos o negligència.\n",
      "Predicted Ending: Com que el nen probablement pateix trauma a causa de la separació del seu hogar, un pare o mare d'acollida ha de proporcionar paciència, amor i afecte a més d'aliment, refugi i roba. [subpassos] També haureu d'assegurar-vos que els nens rebin l'atenció mèdica i psicològica que necessiten.\n",
      "Correct Ending: Com que el nen probablement pateix trauma a causa de la separació del seu hogar, un pare o mare d'acollida ha de proporcionar paciència, amor i afecte a més d'aliment, refugi i roba. [subpassos] També haureu d'assegurar-vos que els nens rebin l'atenció mèdica i psicològica que necessiten.\n",
      "Is Correct: Yes\n",
      "Accuracy so far: 0.2953\n",
      "\n"
     ]
    },
    {
     "name": "stderr",
     "output_type": "stream",
     "text": [
      "9913it [56:32,  2.62it/s]"
     ]
    },
    {
     "name": "stdout",
     "output_type": "stream",
     "text": [
      "Context: [capçalera] Com netejar sabates de vestir [títol] Escombra o neteja la brutícia i la pols de la superfície. [pas] Utilitza el raspall de crin de cavall que ve amb molts kits de neteja de sabates, o un altre raspall de cerdes suaus. Com a alternativa, pots utilitzar un tros de tela neta, suau i sense pelusa, com una tira d'una samarreta vella.\n",
      "Predicted Ending: Escombra totes les seccions de la sabata fins que hagis desempolvat la sabata amb un aspirador o un raspall de cerdes suaus. [títol] Renta tota la sabata amb aigua sabonosa.\n",
      "Correct Ending: [subpassos] Com més sovint facis aquesta neteja bàsica de la superfície - per exemple, cada vegada que et treus les sabates - més fàcil serà per a tu i la resta del procés de neteja. Guarda les teves samarretes velles per netejar i polir sabates.\n",
      "Is Correct: No\n",
      "Accuracy so far: 0.2953\n",
      "\n"
     ]
    },
    {
     "name": "stderr",
     "output_type": "stream",
     "text": [
      "9914it [56:33,  2.68it/s]"
     ]
    },
    {
     "name": "stdout",
     "output_type": "stream",
     "text": [
      "Context: [capçalera] Com portar un entrenador de cintura [títol] Trie un disseny. [pas] La majoria dels entrenadors de cintura tenen diverses files de ganxos i ulls. Alguns tenen una cremallera extra, que pot ajustar el teu entrenador encara més.\n",
      "Predicted Ending: [títol] Busca seda o franel·la. [pas] La seda és un teixit transpirable i absorbeix la suor, mantenint-te càlid mentre fas exercici tant en climes càlids com freds.\n",
      "Correct Ending: Si ho prefereixes, també pots aconseguir una banda més petita que només vagi al voltant de la cintura i s'enganxi amb velcro. Pots trobar aquests estils a botigues que venen diverses marques, com ara Hourglass Angels. \n",
      "Is Correct: No\n",
      "Accuracy so far: 0.2953\n",
      "\n"
     ]
    },
    {
     "name": "stderr",
     "output_type": "stream",
     "text": [
      "9915it [56:33,  2.75it/s]"
     ]
    },
    {
     "name": "stdout",
     "output_type": "stream",
     "text": [
      "Context: [capçalera] Com crear un recollit enrotllat [títol] Assecar el cabell. [pas] Abans de crear un recollit enrotllat, has de rentar i assecar el cabell. Si tens el cabell gruixut, hauràs de separar-lo en seccions.\n",
      "Predicted Ending: Assegura't que el cabell estigui sec abans d'intentar assecar-lo. [subpassos] Si tens el cabell molt gruixut o aspre, hauràs de dividir-lo per la meitat abans d'enrotllar-lo.\n",
      "Correct Ending: Després, amb un assecador, comença a les arrels i assecar el cabell. Apunta la boquilla cap a les puntes del cabell i mou l'assecador cap endavant i cap enrere lleugerament. \n",
      "Is Correct: No\n",
      "Accuracy so far: 0.2952\n",
      "\n"
     ]
    },
    {
     "name": "stderr",
     "output_type": "stream",
     "text": [
      "9916it [56:33,  2.82it/s]"
     ]
    },
    {
     "name": "stdout",
     "output_type": "stream",
     "text": [
      "Context: [capçalera] Com comprar un peridot [títol] Mira una varietat de pedres. [pas] Espera que el peridot vingui en diversos tons de verd. Visita un joier respectable per veure una sèrie de mostres, totes alhora.\n",
      "Predicted Ending: Volràs observar diverses de les pedres precioses, en particular les esmeralds, abans de fer la teva selecció final. [títol] Porta un parell de sabates que no siguin de peridot.\n",
      "Correct Ending: Familiaritza't amb els diferents tons en què es presenta, des de l'oliva fins al verd ric i una mica groguenc. [subpassos] El contingut de ferro de cada gemma determina el seu color.\n",
      "Is Correct: No\n",
      "Accuracy so far: 0.2952\n",
      "\n"
     ]
    },
    {
     "name": "stderr",
     "output_type": "stream",
     "text": [
      "9917it [56:34,  2.70it/s]"
     ]
    },
    {
     "name": "stdout",
     "output_type": "stream",
     "text": [
      "Context: [capçalera] Com explicar a un fill sobre un pare absent [títol] Sigues honest sobre un pare que mai s'ha involucrat. [pas] Si el teu fill mai ha conegut l'altre pare o si el pare ha estat absent durant molt de temps, prepara't per a moltes preguntes. El teu fill probablement voldrà saber qui és el pare, on és i per què no està involucrat.\n",
      "Predicted Ending: Per tant, mantingues les teves respostes simples i honestes. [subpassos] Per exemple, si el pare mai ha treballat fins tard o no ha estat a casa en absolut, prepara't per a moltes preguntes.\n",
      "Correct Ending: Les preguntes sobre un pare absent, amb més probabilitat, començaran quan el teu fill comenci l'escola i comenci a aprendre més sobre les famílies dels seus companys de classe. [subpassos] Respon a les preguntes bàsiques sobre qui és el pare absent i considera compartir una fotografia si en tens una.\n",
      "Is Correct: No\n",
      "Accuracy so far: 0.2952\n",
      "\n"
     ]
    },
    {
     "name": "stderr",
     "output_type": "stream",
     "text": [
      "9918it [56:34,  2.68it/s]"
     ]
    },
    {
     "name": "stdout",
     "output_type": "stream",
     "text": [
      "Context: [capçalera] Com saber si el vostre adolescent està patint abús [títol] Presteu atenció a la manera com s'vesteix el vostre adolescent. [pas] Si sospiteu que el vostre adolescent està sent colpejat per algú de la seva vida, haureu de prestar molta atenció al seu codi d'vestimenta. Tot i que tots els adolescents tenen estils i preferències diferents, esteu atents a qualsevol vestimenta que estigui fora de la norma per al vostre fill.\n",
      "Predicted Ending: Intenteu descobrir per què s'estan vestint de manera que no està ben vista. [títol] Compreneu per què el vostre fill actua de manera diferent.\n",
      "Correct Ending: [subpassos] Per exemple, el vostre adolescent pot intentar amagar les senyals d'abús (p. ex., rascades, cremades, contusions, marques de mossegada, ossos trencats, etc.\n",
      "Is Correct: No\n",
      "Accuracy so far: 0.2952\n",
      "\n"
     ]
    },
    {
     "name": "stderr",
     "output_type": "stream",
     "text": [
      "9919it [56:34,  3.00it/s]"
     ]
    },
    {
     "name": "stdout",
     "output_type": "stream",
     "text": [
      "Context: Una dona negra es mostra en una habitació amb un mocador negre al cap. Després, es fa un zoom sobre les taques negres de la cara i comença a aplicar-hi alguna cosa. a continuació\n",
      "Predicted Ending: , agafa un esprai i li fa la pell extremadament grassa i continua parlant fins que acaba el vídeo.\n",
      "Correct Ending: , agafa un esprai i li fa la pell extremadament grassa i continua parlant fins que acaba el vídeo.\n",
      "Is Correct: Yes\n",
      "Accuracy so far: 0.2952\n",
      "\n"
     ]
    },
    {
     "name": "stderr",
     "output_type": "stream",
     "text": [
      "9921it [56:35,  3.66it/s]"
     ]
    },
    {
     "name": "stdout",
     "output_type": "stream",
     "text": [
      "Context: Es veuen dos nens asseguts en una banyera fregant-se la cara i les mans d'una altra persona interactuant. el noi\n",
      "Predicted Ending: surten del bany rient a la càmera i la nena es posa de peu per esbandir-se la cara.\n",
      "Correct Ending: continua fregant-se aigua per tota la cara i jugant amb joguines i somriu al càmera.\n",
      "Is Correct: No\n",
      "Accuracy so far: 0.2952\n",
      "\n",
      "Context: Un home es veu parlant a la càmera i comença a polir una sabata negra amb un raspall. ell\n",
      "Predicted Ending: apunta al voltant de la sabata i gira la sabata amb les mans.\n",
      "Correct Ending: apunta al voltant de la sabata i gira la sabata amb les mans.\n",
      "Is Correct: Yes\n",
      "Accuracy so far: 0.2953\n",
      "\n"
     ]
    },
    {
     "name": "stderr",
     "output_type": "stream",
     "text": [
      "9922it [56:35,  4.03it/s]"
     ]
    },
    {
     "name": "stdout",
     "output_type": "stream",
     "text": [
      "Context: Una dona parla dins d'una oficina. Se la mostra fent un tractament facial a una dona gran. ella\n",
      "Predicted Ending: utilitza una navalla per afaitar el cap de la dona.\n",
      "Correct Ending: s'esborra la cara amb substàncies i locions.\n",
      "Is Correct: No\n",
      "Accuracy so far: 0.2952\n",
      "\n"
     ]
    },
    {
     "name": "stderr",
     "output_type": "stream",
     "text": [
      "9923it [56:35,  4.05it/s]"
     ]
    },
    {
     "name": "stdout",
     "output_type": "stream",
     "text": [
      "Context: Dues dones estan en un estand una enfront de l'altra a una taula començant a lluitar de braços. Hi ha un petit retard abans de començar, perquè la posició dels seus polzes no és precisa. un cop \n",
      "Predicted Ending: s'han donat la mà, sostenen el signe de no després de la victòria inicial de l'altre.\n",
      "Correct Ending: finalment comencen, la noia de l'esquerra guanya però ràpidament se la detenen i han de tornar a començar i la mateixa noia guanya de nou.\n",
      "Is Correct: No\n",
      "Accuracy so far: 0.2952\n",
      "\n"
     ]
    },
    {
     "name": "stderr",
     "output_type": "stream",
     "text": [
      "9924it [56:35,  4.25it/s]"
     ]
    },
    {
     "name": "stdout",
     "output_type": "stream",
     "text": [
      "Context: Dues joves apareixen al bany, una amb una diadema verda al front i l'altra amb pintura a la cara. les dues noies\n",
      "Predicted Ending: estan rient i fent bromes l'una amb l'altra fins que comencen a rentar-se la cara i netejar-la amb draps verds.\n",
      "Correct Ending: estan rient i fent bromes l'una amb l'altra fins que comencen a rentar-se la cara i netejar-la amb draps verds.\n",
      "Is Correct: Yes\n",
      "Accuracy so far: 0.2953\n",
      "\n"
     ]
    },
    {
     "name": "stderr",
     "output_type": "stream",
     "text": [
      "9926it [56:36,  4.41it/s]"
     ]
    },
    {
     "name": "stdout",
     "output_type": "stream",
     "text": [
      "Context: L'home torna a estar al taulell gran de color gris clar i, en un moviment accelerat, se'l mostra amb diversos subministraments diferents mentre munt un pastís de camió molt gran que s'havia mostrat anteriorment. quan el pastís\n",
      "Predicted Ending: està complet, el xef col·loca una làmina blava sobre la zona del pastís i col·loca un tros de pastís d'un peu de llarg que sembla que tingui cinta adhesiva.\n",
      "Correct Ending: està tot fet, la càmera panoràmica tot el pastís perquè es puguin veure els detalls i una vegada més veiem el pastís més petit i el joguet.\n",
      "Is Correct: No\n",
      "Accuracy so far: 0.2953\n",
      "\n",
      "Context: Un home està bussejant en aigües profundes amb una mena de màquina com si estigués buscant alguna cosa. enmig\n",
      "Predicted Ending: , comença a jugar amb un peixet abans de continuar la seva recerca.\n",
      "Correct Ending: , comença a jugar amb un peixet abans de continuar la seva recerca.\n",
      "Is Correct: Yes\n",
      "Accuracy so far: 0.2953\n",
      "\n"
     ]
    },
    {
     "name": "stderr",
     "output_type": "stream",
     "text": [
      "9927it [56:36,  4.16it/s]"
     ]
    },
    {
     "name": "stdout",
     "output_type": "stream",
     "text": [
      "Context: L'enfocament passa a un home que parla, que es diu Trevor Brazile, i es veu un muntatge entre ell parlant i després amb clips d'ell muntant a cavall en diferents arenes mentre també lluita amb una vedella petita. un altre home que es diu Stran Smith\n",
      "Predicted Ending: ara parla i es veuen clips seus muntant a cavall en diferents arenes mentre també lluita amb un vedell.\n",
      "Correct Ending: ara parla i es veuen clips seus muntant a cavall en diferents arenes mentre també lluita amb un vedell.\n",
      "Is Correct: Yes\n",
      "Accuracy so far: 0.2954\n",
      "\n"
     ]
    },
    {
     "name": "stderr",
     "output_type": "stream",
     "text": [
      "9928it [56:36,  4.21it/s]"
     ]
    },
    {
     "name": "stdout",
     "output_type": "stream",
     "text": [
      "Context: Una nena petita s'està eixugant tota la cara amb aigua. Mira la càmera i somriu mentre continua rentant-se la cara. ella\n",
      "Predicted Ending: guarda la botella i sosté una caixa transparent amb un llaç blanc a sobre amb un llaç vermell a sobre.\n",
      "Correct Ending: saca la llengua lleugerament a la càmera.\n",
      "Is Correct: No\n",
      "Accuracy so far: 0.2954\n",
      "\n"
     ]
    },
    {
     "name": "stderr",
     "output_type": "stream",
     "text": [
      "9930it [56:37,  4.47it/s]"
     ]
    },
    {
     "name": "stdout",
     "output_type": "stream",
     "text": [
      "Context: Es veu un petit grup de persones nedant en una piscina i porta a diversos clips de nens aprenent a nedar. Un home els ajuda a practicar a l'aigua i també a saltar d'un trampolí. més imatges\n",
      "Predicted Ending: es mostren nens nedant i porten a una nena agafant objectes sota l'aigua i nedant amb una altra.\n",
      "Correct Ending: es mostren nens nedant i porten a una nena agafant objectes sota l'aigua i nedant amb una altra.\n",
      "Is Correct: Yes\n",
      "Accuracy so far: 0.2954\n",
      "\n",
      "Context: Es veu una persona eixugant la cara d'un nadó amb un drap mentre el nadó li treu la llengua. la dona\n",
      "Predicted Ending: continua enguixant al voltant de la cara del nadó i el nadó li treu la llengua.\n",
      "Correct Ending: continua netejant el nadó i se la mostra somrient a la càmera i saludant.\n",
      "Is Correct: No\n",
      "Accuracy so far: 0.2954\n",
      "\n"
     ]
    },
    {
     "name": "stderr",
     "output_type": "stream",
     "text": [
      "9932it [56:37,  4.75it/s]"
     ]
    },
    {
     "name": "stdout",
     "output_type": "stream",
     "text": [
      "Context: Una dona i un nen petit apareixen somrient i rentant-se les mans al lavabo quan la dona comença a rentar-li la cara. el nen\n",
      "Predicted Ending: després eixuga la cara del nen amb una tovallola.\n",
      "Correct Ending: somriu amb la dona que li renta la cara i la dona li eixuga la cara amb una tovallola de paper.\n",
      "Is Correct: No\n",
      "Accuracy so far: 0.2954\n",
      "\n",
      "Context: Es veu una dona parlant a la càmera i porta a la seva mà un pot de mel. ella\n",
      "Predicted Ending: després obre el pot i aboca la mel al voltant de la paella mentre és a sobre.\n",
      "Correct Ending: continua parlant i porta a ella fregant-se mel a la cara.\n",
      "Is Correct: No\n",
      "Accuracy so far: 0.2953\n",
      "\n"
     ]
    },
    {
     "name": "stderr",
     "output_type": "stream",
     "text": [
      "9933it [56:37,  4.74it/s]"
     ]
    },
    {
     "name": "stdout",
     "output_type": "stream",
     "text": [
      "Context: Una jove parla i dues noies apareixen uns segons esquitxant aigua a la cara, després ella continua parlant. la noia\n",
      "Predicted Ending: està davant d'un lavabo i es posa sabó a la cara, després es recorda de les dues noies esquitxant-li aigua a la cara.\n",
      "Correct Ending: està davant d'un lavabo i es posa sabó a la cara, després es recorda de les dues noies esquitxant-li aigua a la cara.\n",
      "Is Correct: Yes\n",
      "Accuracy so far: 0.2954\n",
      "\n"
     ]
    },
    {
     "name": "stderr",
     "output_type": "stream",
     "text": [
      "9935it [56:38,  4.55it/s]"
     ]
    },
    {
     "name": "stdout",
     "output_type": "stream",
     "text": [
      "Context: Les noies parlen a la platja, després les noies es ruixen protector solar a l'esquena de les dones, també una dona amb una bata blanca parla i mostra productes. Un home es ruixa protector solar a l'esquena, i després es ruixa protector solar a l'esquena d'una dona. després\n",
      "Predicted Ending: , un home es rocia protector solar al braç i a l'esquena, altra gent es rocia protector solar a les cames.\n",
      "Correct Ending: , un home es rocia protector solar al braç i a l'esquena, altra gent es rocia protector solar a les cames.\n",
      "Is Correct: Yes\n",
      "Accuracy so far: 0.2955\n",
      "\n",
      "Context: La dona comença a emular les accions de l'home, movent els braços i capbussant el cap sota l'aigua. l'home\n",
      "Predicted Ending: es llepa els llavis mentre la dona es mou sota l'aigua de la mateixa manera.\n",
      "Correct Ending: li mostra com nedar cap enfora fent-ho ell mateix.\n",
      "Is Correct: No\n",
      "Accuracy so far: 0.2955\n",
      "\n"
     ]
    },
    {
     "name": "stderr",
     "output_type": "stream",
     "text": [
      "9936it [56:38,  4.48it/s]"
     ]
    },
    {
     "name": "stdout",
     "output_type": "stream",
     "text": [
      "Context: Una dona es veu de peu davant d'una càmera i comença a posar-se loció a les mans i fregant-se-la al voltant de la cara. la dona\n",
      "Predicted Ending: després passa per la càmera i comença a somriu a la càmera.\n",
      "Correct Ending: continua fregant-se tota la cara amb loció i acaba mirant a la càmera.\n",
      "Is Correct: No\n",
      "Accuracy so far: 0.2954\n",
      "\n"
     ]
    },
    {
     "name": "stderr",
     "output_type": "stream",
     "text": [
      "9937it [56:38,  4.30it/s]"
     ]
    },
    {
     "name": "stdout",
     "output_type": "stream",
     "text": [
      "Context: Homes joves juguen a bàsquet en un camp cobert i \"com fer un moviment de gir en bàsquet\" s'afegeix al vídeo. \"driblatge amb força\n",
      "Predicted Ending: driblar d'anada i tornada, després driblar amb la mà esquerra per fer clic quan la pilota s'hagi mogut per anar al costat esquerra fins que es pressioni una ratlla i el porter estigui perplex.\n",
      "Correct Ending: \" superposa el vídeo dels jugadors demostrant els passos per fer-ho.\n",
      "Is Correct: No\n",
      "Accuracy so far: 0.2954\n",
      "\n"
     ]
    },
    {
     "name": "stderr",
     "output_type": "stream",
     "text": [
      "9939it [56:39,  4.53it/s]"
     ]
    },
    {
     "name": "stdout",
     "output_type": "stream",
     "text": [
      "Context: Un home amb un vestit de halterofília està davant d'un petit grup de persones i aixeca una barra de pes molt pesat des d'una plataforma elevada, per sobre del cap. un home amb un vestit de cos\n",
      "Predicted Ending: entra en escena, salta la barra a l'aire i fa un handstand, es gira per a posar-se dret, després deixa caure la barra i fa sonar les peses a l'aire, creant una manera elegant.\n",
      "Correct Ending: es doblega davant d'una barra amb les mans sobre la barra.\n",
      "Is Correct: No\n",
      "Accuracy so far: 0.2954\n",
      "\n",
      "Context: Un nen petit es veu assegut al costat d'una banyera i inclinant-se per sobre del costat. una persona\n",
      "Predicted Ending: després aboca aigua a la banyera fent-la semblar neta i una dona s'està al costat de la banyera.\n",
      "Correct Ending: li parla al costat mentre ella mira cap a la càmera.\n",
      "Is Correct: No\n",
      "Accuracy so far: 0.2953\n",
      "\n"
     ]
    },
    {
     "name": "stderr",
     "output_type": "stream",
     "text": [
      "9941it [56:39,  4.86it/s]"
     ]
    },
    {
     "name": "stdout",
     "output_type": "stream",
     "text": [
      "Context: Un noi petit es veu parlant a la càmera i finalment mostra les mans movent objectes. Col·loca els objectes junts i comença a rasurar els costats amb un ganivet afilat. ell\n",
      "Predicted Ending: després baixa les mans, raspant-la i després de rasurar-se l'esquena.\n",
      "Correct Ending: continua afilant l'objecte i mostra el ganivet corrent per la seva pell nua.\n",
      "Is Correct: No\n",
      "Accuracy so far: 0.2953\n",
      "\n",
      "Context: Una jove està agafant un sac de punxades negre i plata entre les cames. una vegada que ella\n",
      "Predicted Ending: s'ha assegurat sobre el sac, comença a fer una sèrie de flexions tirant-se cap amunt.\n",
      "Correct Ending: s'ha assegurat sobre el sac, comença a fer una sèrie de flexions tirant-se cap amunt.\n",
      "Is Correct: Yes\n",
      "Accuracy so far: 0.2954\n",
      "\n"
     ]
    },
    {
     "name": "stderr",
     "output_type": "stream",
     "text": [
      "9942it [56:39,  4.93it/s]"
     ]
    },
    {
     "name": "stdout",
     "output_type": "stream",
     "text": [
      "Context: Es mostren clips d'homes penjant de edificis rentant finestres mentre un altre home parla a la càmera. els homes\n",
      "Predicted Ending: renten finestres al llarg d'un edifici i s'aturen per fumar cigarrets i parlar entre ells.\n",
      "Correct Ending: renten finestres al llarg d'un edifici i s'aturen per fumar cigarrets i parlar entre ells.\n",
      "Is Correct: Yes\n",
      "Accuracy so far: 0.2954\n",
      "\n"
     ]
    },
    {
     "name": "stderr",
     "output_type": "stream",
     "text": [
      "9943it [56:40,  4.91it/s]"
     ]
    },
    {
     "name": "stdout",
     "output_type": "stream",
     "text": [
      "Context: Després es mostren diverses noies submergides a l'aigua fent un moviment de ximí i després fent esquena a la piscina. una femella\n",
      "Predicted Ending: ara està submergida sota l'aigua i l'aigua surt a raig de la boca.\n",
      "Correct Ending: després comença a fer braça, saluda a la càmera i després surt.\n",
      "Is Correct: No\n",
      "Accuracy so far: 0.2954\n",
      "\n"
     ]
    },
    {
     "name": "stderr",
     "output_type": "stream",
     "text": [
      "9944it [56:40,  4.91it/s]"
     ]
    },
    {
     "name": "stdout",
     "output_type": "stream",
     "text": [
      "Context: Es veu una dona parlant a la càmera i porta a ella sostenint un col·liri i després esbandir-se amb la boca. ella\n",
      "Predicted Ending: després es posa el col·liri a la boca i després obre l'aixeta causant que l'aigua sigui calenta.\n",
      "Correct Ending: continua esbandir-se mentre tanca la tapa i després l'escup i somriu a la càmera.\n",
      "Is Correct: No\n",
      "Accuracy so far: 0.2954\n",
      "\n"
     ]
    },
    {
     "name": "stderr",
     "output_type": "stream",
     "text": [
      "9945it [56:40,  4.43it/s]"
     ]
    },
    {
     "name": "stdout",
     "output_type": "stream",
     "text": [
      "Context: Una introducció inicial a un vídeo que mostra el nom de l'empresa. Apareix una pantalla de títol amb el tema de l'afilament de ganivets amb una pedra de banc. dos homes\n",
      "Predicted Ending: un vestit com un mocador blau i l'altre vestit amb una camisa blau fosc afilen els ganivets a un taulell de fusta.\n",
      "Correct Ending: són en una habitació i l'home amb camisa blaua treu una pedra de banc i amb una mica de lubricant a la pedra agafa un ganivet i explica com afilar-lo.\n",
      "Is Correct: No\n",
      "Accuracy so far: 0.2954\n",
      "\n"
     ]
    },
    {
     "name": "stderr",
     "output_type": "stream",
     "text": [
      "9946it [56:40,  4.47it/s]"
     ]
    },
    {
     "name": "stdout",
     "output_type": "stream",
     "text": [
      "Context: Pren un glop de col·liri de la tassa i se'l manté a la boca durant uns segons mentre el seu germà gran la graba amb vídeo. una altra nena petita\n",
      "Predicted Ending: camina darrere d'ella i mira com esbandir-se.\n",
      "Correct Ending: camina darrere d'ella i mira com esbandir-se.\n",
      "Is Correct: Yes\n",
      "Accuracy so far: 0.2954\n",
      "\n"
     ]
    },
    {
     "name": "stderr",
     "output_type": "stream",
     "text": [
      "9947it [56:41,  4.33it/s]"
     ]
    },
    {
     "name": "stdout",
     "output_type": "stream",
     "text": [
      "Context: Ella pren un glop de listerine colutori bucal del seu got i se'l manté a la boca durant diversos segons mentre el seu germà gran la grava. Una altra nena petita camina darrere d'ella i mira com es renta. ella\n",
      "Predicted Ending: pren un altre glop del seu listerine colutori bucal i baixa el got.\n",
      "Correct Ending: manté el colutori bucal a la boca durant molt de temps i després l'escup a la pica.\n",
      "Is Correct: No\n",
      "Accuracy so far: 0.2954\n",
      "\n"
     ]
    },
    {
     "name": "stderr",
     "output_type": "stream",
     "text": [
      "9949it [56:41,  4.71it/s]"
     ]
    },
    {
     "name": "stdout",
     "output_type": "stream",
     "text": [
      "Context: Es mostra un paper d'embolcall de caramels rosa brillant francès cancan. Es mostren els materials, les eines i com fer-ho pas a pas. després\n",
      "Predicted Ending: , s'afegeixen ingredients com ara bicarbonat de sodi.\n",
      "Correct Ending: s'utilitza el lligat de la cinta per lligar els extrems i es fan volants a cada extrem.\n",
      "Is Correct: No\n",
      "Accuracy so far: 0.2954\n",
      "\n",
      "Context: Uns nois són a una habitació rient i jugant. Alguns dels nois aixequen un dels nois a l'aire. quan ells\n",
      "Predicted Ending: el porten a l'aire, el deixen anar i el noi somriu a la càmera.\n",
      "Correct Ending: el porten a l'aire, el deixen anar i el noi somriu a la càmera.\n",
      "Is Correct: Yes\n",
      "Accuracy so far: 0.2954\n",
      "\n"
     ]
    },
    {
     "name": "stderr",
     "output_type": "stream",
     "text": [
      "9950it [56:41,  4.76it/s]"
     ]
    },
    {
     "name": "stdout",
     "output_type": "stream",
     "text": [
      "Context: Es veu una dona agafant una cullerada de gelat i mossegant-la amb un nadó davant d'ella. la dona\n",
      "Predicted Ending: , continua esprémer llet a la seva cullera i li torna el nadó a la dona, després de la qual cosa mossega el seu gelat de la mateixa manera que va fer al nadó.\n",
      "Correct Ending: continua provocant el nadó amb el gelat donant-li petits mossegades aquí i allà, així com mossegades per ella mateixa i rient.\n",
      "Is Correct: No\n",
      "Accuracy so far: 0.2954\n",
      "\n"
     ]
    },
    {
     "name": "stderr",
     "output_type": "stream",
     "text": [
      "9951it [56:41,  4.10it/s]"
     ]
    },
    {
     "name": "stdout",
     "output_type": "stream",
     "text": [
      "Context: [capçalera] Com escriure una bibliografia de pel·lícules [títol] Llista de pel·lícules pel seu títol. [pas] Escriu el títol en cursiva i posa'l en la seva pròpia frase. Després del títol, escriu el nom del director després de l'abreviatura \" dir.\n",
      "Predicted Ending: \" d'aquesta manera, pots ser més específic i incloure el que funcioni per a tu, sempre que no siguis massa específic. [subpassos] Per exemple, si estàs fent una pel·lícula que involucra un milió de persones, escriuràs \" una pel·lícula sobre un milió de persones.\n",
      "Correct Ending: \" després, llista l'estudi cinematogràfic o el distribuïdor, i l'any de llançament, cadascun en una frase separada. Encapçala la llista amb l'abreviatura \" perf.\n",
      "Is Correct: No\n",
      "Accuracy so far: 0.2954\n",
      "\n"
     ]
    },
    {
     "name": "stderr",
     "output_type": "stream",
     "text": [
      "9952it [56:42,  3.77it/s]"
     ]
    },
    {
     "name": "stdout",
     "output_type": "stream",
     "text": [
      "Context: [capçalera] Com entrenar els cavallers rei Carles spaniels [títol] Començar a entrenar immediatament. [pas] No esperis per entrenar la casa del teu cavaller. Hauríeu de començar a entrenar-lo al bany tan bon punt el porteu a casa.\n",
      "Predicted Ending: Porta'l al lloc on vols que vagi al bany i deixa'l a terra o a terra. [subpassos] Trieu un lloc per anar al bany abans de portar el vostre gos a casa i sigues consistent.\n",
      "Correct Ending: Porta'l al lloc on vols que vagi al bany i deixa'l a terra o a terra. [subpassos] Trieu un lloc per anar al bany abans de portar el vostre gos a casa i sigues consistent.\n",
      "Is Correct: Yes\n",
      "Accuracy so far: 0.2955\n",
      "\n"
     ]
    },
    {
     "name": "stderr",
     "output_type": "stream",
     "text": [
      "9953it [56:42,  3.47it/s]"
     ]
    },
    {
     "name": "stdout",
     "output_type": "stream",
     "text": [
      "Context: [capçalera] Com regalar roses a un valentí [títol] Compra de cinc a deu roses reals i una rosa artificial. [pas] Agafa les roses d'una floristeria de qualitat i el dia que se les presentaràs al teu valentí. Això afegeix frescor i aroma a les teves roses.\n",
      "Predicted Ending: [títol] Vesteix les roses la nit abans que es presentin. [pas] Treu les flors falses a la llum de la lluna.\n",
      "Correct Ending: [títol] Escriu les paraules següents en un tros de paper: [pas] \" t'estimaré fins que la última rosa es panseixi...\" experimenta amb diferents tipografies i colors pel millor efecte. Assegura't que la peça de paper és de la mateixa mida que un post-it.\n",
      "Is Correct: No\n",
      "Accuracy so far: 0.2954\n",
      "\n"
     ]
    },
    {
     "name": "stderr",
     "output_type": "stream",
     "text": [
      "9954it [56:42,  3.32it/s]"
     ]
    },
    {
     "name": "stdout",
     "output_type": "stream",
     "text": [
      "Context: [capçalera] Com ser un marit romàntic [títol] Digueu a la vostra parella com d'afortunat esteu de ser junts. [pas] Hi ha un munt de maneres de fer-ho, i el diàleg que compartiu amb la vostra parella probablement dicti els detalls. Dit això, hi ha algunes coses que podeu dir que tenen una potència especialment romàntica.\n",
      "Predicted Ending: La manera més directa de dir el que sents és ser específic. Ser específic és la manera més suau d'expressar el teu amor\n",
      "Correct Ending: [subpassos] Digueu-li a la vostra parella que l'estimeu cada dia. Afegiu al vostre \"t'estimo\" alguna cosa com, \"estic tan content que ens vam casar l'un amb l'altre\n",
      "Is Correct: No\n",
      "Accuracy so far: 0.2954\n",
      "\n"
     ]
    },
    {
     "name": "stderr",
     "output_type": "stream",
     "text": [
      "9955it [56:43,  3.14it/s]"
     ]
    },
    {
     "name": "stdout",
     "output_type": "stream",
     "text": [
      "Context: [capçalera] Com saber si hi ha un delinqüent sexual registrat al teu barri [títol] Ves a la pàgina web pública nacional de delinqüents sexuals del Departament de Justícia dels EUA. [pas] Pots trobar el lloc web a www.nsopw.gov/en-us. Tot delinqüent sexual ha de registrar-se al Departament de Justícia dels EUA, i aquest lloc web és una base de dades de tots els delinqüents sexuals registrats als EUA.\n",
      "Predicted Ending: Cada estat o país té el seu propi lloc web amb informació sobre tots els delinqüents sexuals registrats al món. [subpassos] Visita https // default.gov/en-us/ per accedir a una barra lateral sobre com buscar.\n",
      "Correct Ending: [títol] Localitza la caixa de cerca ràpida de delinqüents sexuals nacionals i fes clic a \" cerca per ubicació. [pas] \" Veuràs l'enllaç a la columna dreta del lloc web.\n",
      "Is Correct: No\n",
      "Accuracy so far: 0.2954\n",
      "\n"
     ]
    },
    {
     "name": "stderr",
     "output_type": "stream",
     "text": [
      "9956it [56:43,  3.18it/s]"
     ]
    },
    {
     "name": "stdout",
     "output_type": "stream",
     "text": [
      "Context: [capçalera] Com aconseguir que tothom faci les seves tasques [títol] Discutiu i dividiu les tasques. [pas] Cada llar té certes tasques que cal fer. El primer pas per assegurar-se que totes es compleixen de manera regular és identificar-les totes.\n",
      "Predicted Ending: Des d'aquí, pots construïr una jerarquia per cada una de les tasques que s'ha de delegar a través de la família. Deixa que els nens actuïn com a líders, amb el qual se senten còmodes.\n",
      "Correct Ending: Asseu-te amb tots els membres de la teva família que són suficientment grans per fer tasques i resoleu-ho. Deixar que tothom tingui algo a dir en les seves tasques i que es posin d'acord en les seves tasqeues t'ajudarà a que tothom les faci.\n",
      "Is Correct: No\n",
      "Accuracy so far: 0.2953\n",
      "\n"
     ]
    },
    {
     "name": "stderr",
     "output_type": "stream",
     "text": [
      "9957it [56:43,  3.02it/s]"
     ]
    },
    {
     "name": "stdout",
     "output_type": "stream",
     "text": [
      "Context: [capçalera] Com fer un desfile de moda a casa [títol] Fes una llista de persones per convidar (pots fer videollamades amb FaceTime o Skype) i demana'ls que s'apareguin amb roba de moda. [pas] Pots demanar-los que portin/s'apuntin roba addicional, abrics, accessoris i sabates per al desfile de moda. Només cal que facis com si portessin la roba que has fet tu.\n",
      "Predicted Ending: [títol] Fes que la imatge del \"desfile de moda\" aparegui a la pàgina. [pas] Pots afegir tants estils com vulguis.\n",
      "Correct Ending: [títol] Prepara la teva llar per acollir el desfile de moda decidint la disposició de la festa. [pas] Trieu una zona per crear un fons.\n",
      "Is Correct: No\n",
      "Accuracy so far: 0.2953\n",
      "\n"
     ]
    },
    {
     "name": "stderr",
     "output_type": "stream",
     "text": [
      "9958it [56:44,  2.90it/s]"
     ]
    },
    {
     "name": "stdout",
     "output_type": "stream",
     "text": [
      "Context: [capçalera] Com convertir-se en infermer/a psiquiàtric/a de pràctica [títol] Mantenir una nota mitjana alta a l'institut. [pas] Per convertir-se en infermer/a, cal obtenir un títol universitari. Prepareu-vos per a la universitat mantenint la nota mitjana més alta possible a l'institut.\n",
      "Predicted Ending: Continuar amb els estudis d'institut i completar els cursos ajudarà a mantenir les notes altes i a estar en forma, la qual cosa us ajudarà a fer bona figura com a infermer/a. Si la vostra nota mitjana a l'institut baixa per sota de la nota mitjana desitjada, contacteu amb el vostre professor o el seu equip d'administració per informar-los dels vostres nivells de nota mitjana alta.\n",
      "Correct Ending: Feu cursos de matemàtiques i ciències d'alt nivell i feu classes avançades quan pugueu. [subpassos] Completeu biologia, química i matemàtiques de 12è grau.\n",
      "Is Correct: No\n",
      "Accuracy so far: 0.2953\n",
      "\n"
     ]
    },
    {
     "name": "stderr",
     "output_type": "stream",
     "text": [
      "9959it [56:44,  2.90it/s]"
     ]
    },
    {
     "name": "stdout",
     "output_type": "stream",
     "text": [
      "Context: [capçalera] Com desfer-se d'una ressaca [títol] Beu molta aigua. [pas] La deshidratació causada pel consum d'alcohol s'ha d'abordar si voleu desfer-vos de la ressaca. La manera més directa de rehidratar-se és simplement beure molta aigua quan us desperteu.\n",
      "Predicted Ending: La majoria de les persones experimenten deshidratació en algun moment del dia. [subpassos] La deshidratació normal sol ser deguda a la inflamació del fetge, que generalment dura uns quants dies.\n",
      "Correct Ending: Beure líquids suaus que siguin fàcils per al teu sistema digestiu t'ajudarà a reemplaçar el líquid perdut sense irritar l'estómac. [subpassos] Beure una pinta d'aigua abans d'anar a dormir t'ajudarà a reduir els nivells de deshidratació abans de despertar-te.\n",
      "Is Correct: No\n",
      "Accuracy so far: 0.2952\n",
      "\n"
     ]
    },
    {
     "name": "stderr",
     "output_type": "stream",
     "text": [
      "9960it [56:45,  2.88it/s]"
     ]
    },
    {
     "name": "stdout",
     "output_type": "stream",
     "text": [
      "Context: [capçalera] Com fer galetes sense farina [títol] Utilitzeu fruits secs o civada en lloc de farina. [pas] La farina actua com a aglutinant per mantenir les vostres galetes juntes. Per substituir la farina com a agent aglutinant, substituïu la farina a la vostra recepta per fruits secs picats (com ara nous pecanes, nous de macadamia o nous) o civada en flocs.\n",
      "Predicted Ending: També podeu substituir els fruits secs per mantega quan utilitzeu mantega per ajudar a transferir la farina dels aliments a la vostra massa de galeta. [subpassos] Si no utilitzeu cap civada real a la vostra barreja de massa, utilitzeu-la en lloc de farina.\n",
      "Correct Ending: Aquests aglutinaran els vostres altres ingredients i ajudaran les galetes a mantenir la seva forma mentre es couen. [subpassos] Proveu una galeta de xocolata i civada sense coure o les tradicionals galetes d'ametlla sense farina.\n",
      "Is Correct: No\n",
      "Accuracy so far: 0.2952\n",
      "\n"
     ]
    },
    {
     "name": "stderr",
     "output_type": "stream",
     "text": [
      "9961it [56:45,  2.89it/s]"
     ]
    },
    {
     "name": "stdout",
     "output_type": "stream",
     "text": [
      "Context: [capçalera] Com rentar les pantufles [títol] Considera rentar-les a màquina. [pas] El cotó és un dels materials més comuns per a les pantufles. Igual que la roba de cotó, totes les pantufles de cotó es poden rentar a màquina.\n",
      "Predicted Ending: Però també has d'utilitzar una jaqueta o davantal vell quan rentes les pantufles. Deixa que la rentadora faci un rentat tèrmic i després seca les pantufles amb una tovallola.\n",
      "Correct Ending: [subpassos] Utilitza aigua tèbia (no calenta) per assegurar-te que no encongeixen les pantufles. Utilitza un cicle suau que no les desfigure. \n",
      "Is Correct: No\n",
      "Accuracy so far: 0.2952\n",
      "\n"
     ]
    },
    {
     "name": "stderr",
     "output_type": "stream",
     "text": [
      "9962it [56:45,  2.88it/s]"
     ]
    },
    {
     "name": "stdout",
     "output_type": "stream",
     "text": [
      "Context: [capçalera] Com saber si el teu nadó té còlics [títol] Prepara't per a episodis intensos de plor. [pas] Un nadó amb còlics plora amb força, i els plors sovint comencen sense avisar i vénen en onades. Probablement descobriràs que no pots consolar el teu nadó durant aquests raigs de plor.\n",
      "Predicted Ending: A mesura que t'aproximes a l'enriquiment del teu nadó per primera vegada, probablement t'incomodarà que estigui malalt o ferit. Si ignores els intents del nadó per calmar-te, podries fer-li mal involuntàriament.\n",
      "Correct Ending: [títol] Observa el llenguatge corporal del teu nadó. [pas] Molts nadons que pateixen còlics estiren les cames o s'estiren els peus cap al cos, com si intentessin alleujar un ramp.\n",
      "Is Correct: No\n",
      "Accuracy so far: 0.2952\n",
      "\n"
     ]
    },
    {
     "name": "stderr",
     "output_type": "stream",
     "text": [
      "9963it [56:46,  2.90it/s]"
     ]
    },
    {
     "name": "stdout",
     "output_type": "stream",
     "text": [
      "Context: [capçalera] Com cultivar i processar tabac [títol] Ompliu una safata de cel·les amb terra per a testos. [pas] Compreu una safata de cel·les a qualsevol botiga de jardineria. Una safata amb forats de drenatge a la part inferior de cada cel·la funcionarà millor perquè les llavors no s'enfonsin mentre creixen.\n",
      "Predicted Ending: [títol] Col·loqueu les llavors al centre de la cel·la. [pas] Col·loqueu una llavor a sobre de l'altra, sostenint el terra per sobre de l'espai a l'esquerra de cada cel·la.\n",
      "Correct Ending: Ompliu les cel·les fins a dalt amb terra per a testos rica en nutrients. [subpassos] Si la safata de cel·les no té forats per a drenatge, utilitzeu un ganivet per a tallar petites escletxes a la part inferior de la cel·la perquè l'aigua pugui sortir.\n",
      "Is Correct: No\n",
      "Accuracy so far: 0.2951\n",
      "\n"
     ]
    },
    {
     "name": "stderr",
     "output_type": "stream",
     "text": [
      "9964it [56:46,  2.99it/s]"
     ]
    },
    {
     "name": "stdout",
     "output_type": "stream",
     "text": [
      "Context: [capçalera] Com molestar els teus germans [títol] Segueix el teu germà a tot arreu on vagi. [pas] Si et pregunten què estàs fent, simplement ignora'ls o digues: 'res'. Si surten de casa, segueix-los fora.\n",
      "Predicted Ending: Si es tanquen en una habitació, espera fora de la porta i recorda'ls que estàs allà. Cada pocs minuts, digues alguna cosa com 'ei, encara sóc aquí'.\n",
      "Correct Ending: Si es tanquen en una habitació, espera fora de la porta i recorda'ls que estàs allà. Cada pocs minuts, digues alguna cosa com 'ei, encara sóc aquí'.\n",
      "Is Correct: Yes\n",
      "Accuracy so far: 0.2952\n",
      "\n"
     ]
    },
    {
     "name": "stderr",
     "output_type": "stream",
     "text": [
      "9965it [56:46,  3.06it/s]"
     ]
    },
    {
     "name": "stdout",
     "output_type": "stream",
     "text": [
      "Context: [capçalera] Com enviar un snapchat a una noia [títol] Afegeix-la al snapchat. [pas] Obre snapchat i toca la icona fantasma a la part superior de la pantalla. Al menú resultant, selecciona \"afegeix amics\".\n",
      "Predicted Ending: \" Després d'això, podràs afegir-la amb el seu nom d'usuari, a través dels contactes del teu telèfon (encara que hauràs de tenir el seu número), o amb un codi especial de snapchat. [subpassos] Si no tens el seu nom d'usuari, el seu número o el seu codi de snapchat, sempre pots afegir-la trobant-la a la llista d'amics d'un amic mutu.\n",
      "Correct Ending: \" Després d'això, podràs afegir-la amb el seu nom d'usuari, a través dels contactes del teu telèfon (encara que hauràs de tenir el seu número), o amb un codi especial de snapchat. [subpassos] Si no tens el seu nom d'usuari, el seu número o el seu codi de snapchat, sempre pots afegir-la trobant-la a la llista d'amics d'un amic mutu.\n",
      "Is Correct: Yes\n",
      "Accuracy so far: 0.2953\n",
      "\n"
     ]
    },
    {
     "name": "stderr",
     "output_type": "stream",
     "text": [
      "9966it [56:47,  3.07it/s]"
     ]
    },
    {
     "name": "stdout",
     "output_type": "stream",
     "text": [
      "Context: [capçalera] Com convertir-se en advocat JAG [títol] Considera els teus objectius professionals. [pas] El cos de l'advocat general del jutge (JAG) dels cinc braços militars és tan competitiu i exigent com qualsevol carrera militar. A més de completar els requisits educatius i de llicència de la professió legal, també has de ser capaç de complir els mateixos estàndards que qualsevol oficial potencial.\n",
      "Predicted Ending: La teva educació ha de ser una prioritat alta per a tu com a advocat JAG. [subpassos] Per optar a beneficis de servei públic (CEP), has de tenir almenys 21 anys o més.\n",
      "Correct Ending: [subpassos] Els candidats han de ser ciutadans dels Estats Units. Els candidats a JAG han de poder aprovar una autorització de seguretat.\n",
      "Is Correct: No\n",
      "Accuracy so far: 0.2952\n",
      "\n"
     ]
    },
    {
     "name": "stderr",
     "output_type": "stream",
     "text": [
      "9967it [56:47,  3.09it/s]"
     ]
    },
    {
     "name": "stdout",
     "output_type": "stream",
     "text": [
      "Context: [capçalera] Com convertir arracades perforades en arracades de clip [títol] Compra convertidors d'arracades. [pas] Pots comprar convertidors d'arracades en línia o a la teva botiga d'artesania local. Els convertidors solen estar ubicats a la zona de fabricació de joies.\n",
      "Predicted Ending: Consulta les cadenes de botigues i les botigues en línia per a convertidors d'arracades. [subpassos] Si no els trobes en línia, pots trobar-los a les botigues de costura o a les botigues en línia que venen subministraments de joieria.\n",
      "Correct Ending: Busca un convertidor que tingui un petit tub/barril a la part posterior. [subpassos] La majoria dels posts entraran al barril del convertidor, però comprova la mida dels teus posts només per estar segur.\n",
      "Is Correct: No\n",
      "Accuracy so far: 0.2952\n",
      "\n"
     ]
    },
    {
     "name": "stderr",
     "output_type": "stream",
     "text": [
      "9968it [56:47,  2.90it/s]"
     ]
    },
    {
     "name": "stdout",
     "output_type": "stream",
     "text": [
      "Context: [capçalera] Com convertir-se en un cuidador de cases [títol] Comença el teu currículum amb un títol fort. [pas] El títol ha de ser únic i cridaner (però professional) i ha de destacar el que creus que són els teus actius més forts. Per exemple, un bon títol podria dir alguna cosa com \"Amant dels animals compulsivament net que busca una oportunitat per cuidar cases a Santa Barbara.\n",
      "Predicted Ending: \" [títol] Explica per què vols ser un cuidador de cases. [pas] Descriu breument què t'atrau de la idea de cuidar cases, així com quines qualitats tens que et fan pensar que seria un bon candidat per a la feina.\n",
      "Correct Ending: \" [títol] Explica per què vols ser un cuidador de cases. [pas] Descriu breument què t'atrau de la idea de cuidar cases, així com quines qualitats tens que et fan pensar que seria un bon candidat per a la feina.\n",
      "Is Correct: Yes\n",
      "Accuracy so far: 0.2953\n",
      "\n"
     ]
    },
    {
     "name": "stderr",
     "output_type": "stream",
     "text": [
      "9969it [56:48,  2.80it/s]"
     ]
    },
    {
     "name": "stdout",
     "output_type": "stream",
     "text": [
      "Context: [capçalera] Com eliminar la pell seca dels peus amb sal d'Epsom [títol] Compra sal d'Epsom. [pas] La sal d'Epsom està disponible a la majoria de farmàcies. Probablement la trobareu a la mateixa secció que els analgèsics (aspirina, ibuprofèn, etc.\n",
      "Predicted Ending: ), que poden ajudar a eliminar la pell seca dels peus. [subpassos] Agita la sal vigorosament abans d'aplicar-la als peus amb picor.\n",
      "Correct Ending: ) i benes, ja que sovint s'utilitza per als dolors musculars. Assegura't que l'embalatge de la teva sal d'Epsom especifica que són aptes per a ús humà (als EUA, el paquet mostraria una designació USP).\n",
      "Is Correct: No\n",
      "Accuracy so far: 0.2953\n",
      "\n"
     ]
    },
    {
     "name": "stderr",
     "output_type": "stream",
     "text": [
      "9970it [56:48,  2.69it/s]"
     ]
    },
    {
     "name": "stdout",
     "output_type": "stream",
     "text": [
      "Context: [capçalera] Com donar suport al programari heretat a Windows Vista (Assistent de compatibilitat de programes) [títol] Obre la funció : [subpassos] Clica \" Botó d'inici. \" prem \" panell de control. \" clica \" programes.\n",
      "Predicted Ending: \" (figura I.1) selecciona \"utilitza un programa més antic amb aquesta versió de Windows\" sota l'encapçalament \"programes i funcions\". (figura I.2) en aquest moment, s'obre la finestra \"iniciar l'aplicació en mode de compatibilitat\" amb l' \"Assistent de compatibilitat de programes\" a l'interior [títol] Hi ha 2 opcions disponibles : [subpassos] Clica \" next \" botó per iniciar l'assistent.\n",
      "Correct Ending: \" (figura I.1) selecciona \"utilitza un programa més antic amb aquesta versió de Windows\" sota l'encapçalament \"programes i funcions\". (figura I.2) en aquest moment, s'obre la finestra \"iniciar l'aplicació en mode de compatibilitat\" amb l' \"Assistent de compatibilitat de programes\" a l'interior [títol] Hi ha 2 opcions disponibles : [subpassos] Clica \" next \" botó per iniciar l'assistent.\n",
      "Is Correct: Yes\n",
      "Accuracy so far: 0.2953\n",
      "\n"
     ]
    },
    {
     "name": "stderr",
     "output_type": "stream",
     "text": [
      "9971it [56:48,  2.62it/s]"
     ]
    },
    {
     "name": "stdout",
     "output_type": "stream",
     "text": [
      "Context: [capçalera] Com obtenir una llicència de servei de lliurament d'alcohol [títol] Contacta amb el teu consell de llicències estatal. [pas] Els estats que permeten el lliurament de begudes alcohòliques a domicilis privats regulen les llicències de lliurament a través del mateix consell de llicències que regula la venda d'alcohol en general. [subpassos] Primer has de descobrir si el consell de llicències estatal permet el lliurament a domicili al teu estat.\n",
      "Predicted Ending: En alguns comtats, permetre l'entrada a la residència és una opció, però no és necessària. Per determinar si el teu consell de llicències estatal accepta llicències de lliurament a domicili, hauràs de descobrir si el teu estat requereix un servei de lliurament gratuït.\n",
      "Correct Ending: Alguns estats han aprovat lleis específicament que ho permeten. A altres estats, el lliurament a domicili no està prohibit per llei ni explícitament permès per llei.\n",
      "Is Correct: No\n",
      "Accuracy so far: 0.2953\n",
      "\n"
     ]
    },
    {
     "name": "stderr",
     "output_type": "stream",
     "text": [
      "9972it [56:49,  2.75it/s]"
     ]
    },
    {
     "name": "stdout",
     "output_type": "stream",
     "text": [
      "Context: [capçalera] Com millorar l'equilibri mentre es cavalca un cavall [títol] Seieu profundament. [pas] Un cop muntat, podeu començar a trobar el vostre equilibri. Seieu a la part més baixa de la sella.\n",
      "Predicted Ending: Això s'anomena el cedeix del cavall. Poseu-vos dret i poseu la mà esquerra a la sella a l'exterior del coll del cavall a la part frontal.\n",
      "Correct Ending: No us inclineu massa cap endavant o cap enrere o el vostre equilibri podria desequilibrarse. Si el cavall no es queda quiet, podeu demanar a una altra persona que agafés les regnes mentre us muntau i trobeu el vostre equilibri.\n",
      "Is Correct: No\n",
      "Accuracy so far: 0.2953\n",
      "\n"
     ]
    },
    {
     "name": "stderr",
     "output_type": "stream",
     "text": [
      "9973it [56:49,  2.75it/s]"
     ]
    },
    {
     "name": "stdout",
     "output_type": "stream",
     "text": [
      "Context: [capçalera] Com parlar més sovint quan ets tranquil·la/tranquil [títol] Fes preguntes. [pas] Quan parles amb una altra persona, considera què t'agradaria saber realment sobre ella. Escolta-la atentament i observa els moments en què podria ampliar el que està dient.\n",
      "Predicted Ending: Llavors, pots preguntar-li més sobre la seva vida. Potser realment tingui por de parlar sobre la seva pròpia vida.\n",
      "Correct Ending: Dona-li aquesta oportunitat fent-li una pregunta, com ara, \"estàs involucrada/involcrat encara en el treball de caritat?\" [subpassos] Aconseguir que una altra persona parli una mica més també t'alleuja una mica la pressió. Et permet continuar contribuint sense revelar massa sobre tu mateixa/mateix de seguida.\n",
      "Is Correct: No\n",
      "Accuracy so far: 0.2952\n",
      "\n"
     ]
    },
    {
     "name": "stderr",
     "output_type": "stream",
     "text": [
      "9974it [56:49,  2.83it/s]"
     ]
    },
    {
     "name": "stdout",
     "output_type": "stream",
     "text": [
      "Context: [capçalera] Com escriure per a revistes de dones [títol] Pluja d'idees. [pas] Pensa en totes les possibilitats sobre les quals podries escriure. Què tens a oferir de manera particular? Què t'interessa? Prova l'escriptura lliure (on escrius sense parar i sense preocupar-te per la gramàtica, el contingut, etc.\n",
      "Predicted Ending: , durant un període curt de temps, de 2 a 3 minuts, potser). Pots fer una llista si t'ajuda.\n",
      "Correct Ending: , durant un període curt de temps, de 2 a 3 minuts, potser). Pots fer una llista si t'ajuda.\n",
      "Is Correct: Yes\n",
      "Accuracy so far: 0.2953\n",
      "\n"
     ]
    },
    {
     "name": "stderr",
     "output_type": "stream",
     "text": [
      "9975it [56:50,  2.63it/s]"
     ]
    },
    {
     "name": "stdout",
     "output_type": "stream",
     "text": [
      "Context: [capçalera] Com canviar el nom d'una unitat [títol] Accedir a la funció de gestió de discos de Windows. [pas] Obre el panell de control des del menú d'inici i, si cal, canvia a la vista per defecte fent clic a \"inici del panell de control\" a la cantonada superior esquerra. [subpassos] Selecciona l'opció \"rendiment i manteniment\" i fes clic a l'enllaç a les \"eines administratives\".\n",
      "Predicted Ending: \" [títol] Accedir a la finestra de resum del perfil d'usuari i explorar el perfil d'usuari o el perfil. [pas] Abans de suprimir el perfil d'usuari o el perfil, navega per la secció de perfils d'usuari o perfils a la part superior de la finestra.\n",
      "Correct Ending: \" fes doble clic a la icona \"opció de gestió de l'ordinador\" i selecciona \"gestió de discos\" de les opcions que s'indiquen al panell de l'esquerra. [títol] Localitza el volum, la unitat o la partició que s'ha de canviar de nom de la llista d'opcions disponibles.\n",
      "Is Correct: No\n",
      "Accuracy so far: 0.2953\n",
      "\n"
     ]
    },
    {
     "name": "stderr",
     "output_type": "stream",
     "text": [
      "9976it [56:50,  2.68it/s]"
     ]
    },
    {
     "name": "stdout",
     "output_type": "stream",
     "text": [
      "Context: [capçalera] Com fer créixer els cabells llargs com a home [títol] Dóna't un massatge amb oli calent. [pas] El creixement del cabell comença des de les arrels, el que significa que cuidar el cuir cabellut i les arrels del cabell pot estimular el creixement. L'oli, que condiciona el cabell, escalfat i massatjat al cuir cabellut ajudarà a estimular el creixement del cabell.\n",
      "Predicted Ending: Escalfa una mica d'oli d'oliva, coco o argània fins que estigui calent al tacte. Frot-lo suaument al cuir cabellut durant 5-10 minuts i deixa que l'oli s'absorbeixi al cabell durant 30 minuts més.\n",
      "Correct Ending: Escalfa una mica d'oli d'oliva, coco o argània fins que estigui calent al tacte. Frot-lo suaument al cuir cabellut durant 5-10 minuts i deixa que l'oli s'absorbeixi al cabell durant 30 minuts més.\n",
      "Is Correct: Yes\n",
      "Accuracy so far: 0.2953\n",
      "\n"
     ]
    },
    {
     "name": "stderr",
     "output_type": "stream",
     "text": [
      "9977it [56:51,  2.87it/s]"
     ]
    },
    {
     "name": "stdout",
     "output_type": "stream",
     "text": [
      "Context: [capçalera] Com fer pa de plàtan al microones [títol] Barreja els ingredients secs en un bol. [pas] Aboca la farina en un bol per barrejar, després afegeix el sucre i el llevat en pols. Barreja-ho tot fins que estigui ben combinat.\n",
      "Predicted Ending: [títol] Barreja els ingredients humits en un bol apte per a microones. [pas] Aboca la llet, l'oli i l'extracte de vainilla en un bol apte per a microones.\n",
      "Correct Ending: [títol] Barreja els ingredients humits en un bol apte per a microones. [pas] Aboca la llet, l'oli i l'extracte de vainilla en un bol apte per a microones.\n",
      "Is Correct: Yes\n",
      "Accuracy so far: 0.2954\n",
      "\n"
     ]
    },
    {
     "name": "stderr",
     "output_type": "stream",
     "text": [
      "9978it [56:51,  2.76it/s]"
     ]
    },
    {
     "name": "stdout",
     "output_type": "stream",
     "text": [
      "Context: [capçalera] Com aplicar gel per alleujar el dolor d'esquena [títol] Prepara una bossa de gel. [pas] Si pateixes dolor d'esquena i vols utilitzar una bossa de gel per alleujar-lo, pots fer-ne una o comprar-ne una. Des de bosses comercials fins a bosses de verdures congelades, qualsevol opció que triïs pot ajudar-te a alleujar la molèstia i reduir la inflamació.\n",
      "Predicted Ending: [subpassos] Pots comprar paquest de gel específicament dissenyats per l'esquena a moltes farmàcies i botigues de suplements mèdics. Fes una bossa de gel mig desfet tirant tres tasses (710 ml) d'aigua una tassa (237 ml) d'alcohol desnaturalitzat en una gran bossa de congelador.\n",
      "Correct Ending: [subpassos] Pots comprar paquest de gel específicament dissenyats per l'esquena a moltes farmàcies i botigues de suplements mèdics. Fes una bossa de gel mig desfet tirant tres tasses (710 ml) d'aigua una tassa (237 ml) d'alcohol desnaturalitzat en una gran bossa de congelador.\n",
      "Is Correct: Yes\n",
      "Accuracy so far: 0.2955\n",
      "\n"
     ]
    },
    {
     "name": "stderr",
     "output_type": "stream",
     "text": [
      "9979it [56:51,  2.82it/s]"
     ]
    },
    {
     "name": "stdout",
     "output_type": "stream",
     "text": [
      "Context: [capçalera] Com fer que un vestit senzill sembli impressionant [títol] Fes una mica de recerca. [pas] Compra, pren en préstec o consulta revistes i llocs web de moda. La majoria de celebritats tenen estilistes que sempre estan al dia amb els últims estils, així que aprofita els seus esforços per dirigir la teva atenció al que està de moda.\n",
      "Predicted Ending: [subpassos] Quins articles t'agraden? Quins no t'agraden? és important treballar el que t'agrada i el que no t'agrada de les tendències de la moda, per tal de poder concentrar-te només en el que t'agrada. [títol] Considera què ja funciona del teu propi armari.\n",
      "Correct Ending: [subpassos] Quins articles t'agraden? Quins no t'agraden? és important treballar el que t'agrada i el que no t'agrada de les tendències de la moda, per tal de poder concentrar-te només en el que t'agrada. [títol] Considera què ja funciona del teu propi armari.\n",
      "Is Correct: Yes\n",
      "Accuracy so far: 0.2956\n",
      "\n"
     ]
    },
    {
     "name": "stderr",
     "output_type": "stream",
     "text": [
      "9980it [56:52,  2.86it/s]"
     ]
    },
    {
     "name": "stdout",
     "output_type": "stream",
     "text": [
      "Context: [capçalera] Com signar digitalment documents PDF [títol] Descarrega la utilitat PDF del blocspot de \"codes for us\" de Messies. [títol] Desa l'arxiu \"jar\" a algun lloc del teu ordinador. [pas] (no cal instal·lació.\n",
      "Predicted Ending: ) [títol] Feu doble clic a l'arxiu \"jar\" per obrir el programari. [títol] Al panell de la dreta, hi ha un botó per al gestor de signatures.\n",
      "Correct Ending: ) [títol] Feu doble clic a l'arxiu \"jar\" per obrir el programari. [títol] Al panell de la dreta, hi ha un botó per al gestor de signatures.\n",
      "Is Correct: Yes\n",
      "Accuracy so far: 0.2956\n",
      "\n"
     ]
    },
    {
     "name": "stderr",
     "output_type": "stream",
     "text": [
      "9981it [56:52,  2.87it/s]"
     ]
    },
    {
     "name": "stdout",
     "output_type": "stream",
     "text": [
      "Context: [capçalera] Com reduir l'estigma del TEPT [títol] Educa't a tu mateix. [pas] El primer pas per reduir l'estigma social al voltant del TEPT és educar-se a si mateix. Un cop hagis après el màxim possible i hagis desafiat les teves pròpies creences, pots començar a educar els altres i canviar les seves actituds.\n",
      "Predicted Ending: [subpassos] Fes-te preguntes com ara \" com canvio aquest estigma sobre el transtorn hàptic social? \" i \" puc canviar aquest estigma sobre l'estatus social? \" [títol] Identifica els teus desencadenants. [pas] Quan coneguis més sobre tu mateix, treballa en identificar els teus desencadenants.\n",
      "Correct Ending: [subpassos] Aprèn tan com puguis sobre el tept. Intenta entendre com aquesta condició i el seu estigma social afecten als individus, així com a la seva família i amics.\n",
      "Is Correct: No\n",
      "Accuracy so far: 0.2956\n",
      "\n"
     ]
    },
    {
     "name": "stderr",
     "output_type": "stream",
     "text": [
      "9982it [56:52,  2.92it/s]"
     ]
    },
    {
     "name": "stdout",
     "output_type": "stream",
     "text": [
      "Context: [capçalera] Com netejar les rodes d'un monopatí [títol] Traieu les rodes del tauler. [pas] Gireu el monopatí cap per avall de manera que estigui recolzat al tauler, amb les rodes cap amunt. Utilitzeu una clau de vaso de ½ polzada o 13 mm per girar i treure els cargols de l'eix a la part exterior de les rodes del monopatí.\n",
      "Predicted Ending: Llisca els cargols laterals de l'eix fora del suport del monopatí també. Algunes persones prefereixen utilitzar alicates per treure les rodes de la roda.\n",
      "Correct Ending: Mantingueu tots els materials de la roda (cargols, arandeles, etc.) junts en un sol lloc perquè els pugueu trobar i connectar fàcilment més tard.\n",
      "Is Correct: No\n",
      "Accuracy so far: 0.2956\n",
      "\n"
     ]
    },
    {
     "name": "stderr",
     "output_type": "stream",
     "text": [
      "9983it [56:53,  2.89it/s]"
     ]
    },
    {
     "name": "stdout",
     "output_type": "stream",
     "text": [
      "Context: [capçalera] Com obtenir drets de revenda d'ebooks de forma econòmica [títol] Comprendre els drets de revenda regulars. [pas] Quan algú crea un producte o escriu algun material, té dret a controlar què passa amb la seva creació. Una de les seves opcions és donar o vendre \" drets de revenda.\n",
      "Predicted Ending: \" això significa que l'editor pot voler vendre el producte o publicar-ne còpies. No podràs compartir l'obra o publicar-ne una còpia fins després de la revenda de manera oportuna.\n",
      "Correct Ending: \" (les paraules \" revenda \" i \" revenda \" s'utilitzen indistintament, però \" revenda \" és la paraula més utilitzada. ) en aquest cas, estem parlant d'ebooks.\n",
      "Is Correct: No\n",
      "Accuracy so far: 0.2955\n",
      "\n"
     ]
    },
    {
     "name": "stderr",
     "output_type": "stream",
     "text": [
      "9984it [56:53,  2.78it/s]"
     ]
    },
    {
     "name": "stdout",
     "output_type": "stream",
     "text": [
      "Context: [capçalera] Com alleujar la por a l'aigua d'un nen [títol] Parla amb el teu fill sobre per què té por. [pas] Entendre la por del teu fill és essencial per ajudar-lo a superar-la. Pregunta-li al teu fill què li fa por en particular de l'aigua.\n",
      "Predicted Ending: Quins llocs o persones els fan sentir por? Quins esdeveniments els fan sentir por? Quins tipus de sorolls nous fan que l'aigua es mori? No tots els nens tenen por de l'aigua. Algunes persones poden tenir por de l'aigua com a condició purament psicològica.\n",
      "Correct Ending: Tenen por a enfonsar-se? Se'ls fa incòmode veure l'aigua de bany baixar pel desguàs? [subpassos] Molts nens desenvolupen por a l'aigua després de tenir una mala experiència, com per exemple que els pugi aigua pel nas. Un cop saps d'on prové la por del teu nen, pots buscar maneres d'ajudar-los afrontar la situació particular que els fa por.\n",
      "Is Correct: No\n",
      "Accuracy so far: 0.2955\n",
      "\n"
     ]
    },
    {
     "name": "stderr",
     "output_type": "stream",
     "text": [
      "9985it [56:53,  2.78it/s]"
     ]
    },
    {
     "name": "stdout",
     "output_type": "stream",
     "text": [
      "Context: [capçalera] Com prevenir l'abús infantil [títol] Primer, ensenya als teus fills les bases de la seguretat. [pas] Això significa cobrir no només la forma de creuar el carrer amb seguretat i vigilar el trànsit, sinó també fer jocs de rol que imitin els tipus de coses que els possibles depredadors podrien fer o dir per captar l'atenció d'un nen. Intenta adaptar aquesta activitat a l'edat i el nivell de maduresa del teu fill.\n",
      "Predicted Ending: Pots utilitzar nines o altres joguines per fer-ho menys intimidant pel teu fill. [títol] Parla amb amics o familiars siguin casats o solters, i pregunta'ls per què o per què no van decidir casar-se.\n",
      "Correct Ending: Pots utilitzar nines o altres joguines per fer-ho menys intimidant pel teu fill. [títol] Parla amb amics o familiars siguin casats o solters, i pregunta'ls per què o per què no van decidir casar-se.\n",
      "Is Correct: Yes\n",
      "Accuracy so far: 0.2956\n",
      "\n"
     ]
    },
    {
     "name": "stderr",
     "output_type": "stream",
     "text": [
      "9986it [56:54,  2.77it/s]"
     ]
    },
    {
     "name": "stdout",
     "output_type": "stream",
     "text": [
      "Context: [capçalera] Com parlar de sexe amb el teu fill [títol] Comença d'hora. [pas] Si obtens un indici que el teu fill està sent exposat a informació sexual, llavors és hora de començar a parlar amb ells tu mateix. Fins i tot els nadons tenen curiositat pels seus cossos, i a l'edat preescolar poden mostrar una curiositat intel·lectual pel que fa als cossos dels altres, així com al seu propi.\n",
      "Predicted Ending: [títol] Descobreix què vol parlar el teu fill. [pas] Si el teu fill sembla interessat en el sexe, parla de certes coses que pots fer per fomentar la seva curiositat.\n",
      "Correct Ending: Als vuit anys, molts nens estan preparats per tenir alguna forma de conversa sexual amb tu. Recorda que la conversa ha de ser adequada a la seva edat.\n",
      "Is Correct: No\n",
      "Accuracy so far: 0.2956\n",
      "\n"
     ]
    },
    {
     "name": "stderr",
     "output_type": "stream",
     "text": [
      "9987it [56:54,  2.77it/s]"
     ]
    },
    {
     "name": "stdout",
     "output_type": "stream",
     "text": [
      "Context: [capçalera] Com triar un anell de compromís no convencional [títol] Determina els colors que prefereixen. [pas] Les pedres de compromís vénen en una varietat de colors diferents. Pregunteu-los o fixeu-vos en els seus colors preferits i trieu un anell que ho reflecteixi.\n",
      "Predicted Ending: Per exemple, un anell que sigui blanc o blau sempre serà blanc, mentre que un anell amb un aspecte intel·ligent o un tema únic sempre serà marró (or) o vermell. [títol] Prova un anell no convencional : [pas] Un anell de casament clàssic tindrà tots els mateixos colors.\n",
      "Correct Ending: Adona't del color de les seves joies actuals i basa la teva decisió en allò. Els anells convencionals solen ser transparents, o sigui que considera un color diferent per al teu anell.\n",
      "Is Correct: No\n",
      "Accuracy so far: 0.2955\n",
      "\n"
     ]
    },
    {
     "name": "stderr",
     "output_type": "stream",
     "text": [
      "9988it [56:54,  2.68it/s]"
     ]
    },
    {
     "name": "stdout",
     "output_type": "stream",
     "text": [
      "Context: [capçalera] Com començar un registre per al nadó [títol] Treballa al teu registre per al nadó mentre estàs embarassada. [pas] Crear un registre per al nadó pot ser un procés enganyosament llarg i pot requerir algunes revisions, per tant, és millor començar d'hora. [subpassos] La majoria de les mares expectants comencen cap a les dotze setmanes i afegeixen al seu registre a mesura que descobreixen el sexe del nadó.\n",
      "Predicted Ending: La majoria de les mares expectants inclouen diferents o més d'un sexe de nadó en particular al seu registre. Mai dupliquis un sexe de nadó abans de començar el procés de registre.\n",
      "Correct Ending: Aspira a tenir el teu registre complet en el moment en què estiguis embarassada de sis mesos. Tingues en compte quan se celebra la teva dutxa de bebè i dóna als convidats una bona oportunitat d'accedir al teu registre amb antelació.\n",
      "Is Correct: No\n",
      "Accuracy so far: 0.2955\n",
      "\n"
     ]
    },
    {
     "name": "stderr",
     "output_type": "stream",
     "text": [
      "9989it [56:55,  2.66it/s]"
     ]
    },
    {
     "name": "stdout",
     "output_type": "stream",
     "text": [
      "Context: [capçalera] Com netejar el denim cru [títol] Evita rentar el teu denim el màxim de temps possible. [pas] El denim cru no s'ha rentat prèviament. En lloc d'això, el trenques i el suavitzes amb el desgast.\n",
      "Predicted Ending: [subpassos] El rentat previ no treu les taques del teu denim. En lloc d'això, renta el denim fins que estigui sec.\n",
      "Correct Ending: Si rentes el denim cru, el tint d'índigo es desfà i pot alterar l'ajust perfecte que has trencat. En lloc d'això, porta els teus texans el màxim de temps possible sense rentar-los.\n",
      "Is Correct: No\n",
      "Accuracy so far: 0.2955\n",
      "\n"
     ]
    },
    {
     "name": "stderr",
     "output_type": "stream",
     "text": [
      "9990it [56:55,  2.72it/s]"
     ]
    },
    {
     "name": "stdout",
     "output_type": "stream",
     "text": [
      "Context:  [capçalera] Com deixar de sentir-te penedit després d'una ruptura [títol] Reconèixer el dolor. [pas] Tant si ets tu qui trenca la relació com si ets tu a qui la trenquen, la pèrdua de la teva relació normalment farà mal. Passa temps molest (trist, enrabiat, ansios, etc.\n",
      "Predicted Ending: ) i permet que la teva ment i el teu cos processin la teva ruptura. Per donar-te l'espai per fer-ho, passa una estona a soles i permet que sentis les teves emocions.\n",
      "Correct Ending: ) i permet que la teva ment i el teu cos processin la teva ruptura. Per donar-te l'espai per fer-ho, passa una estona a soles i permet que sentis les teves emocions.\n",
      "Is Correct: Yes\n",
      "Accuracy so far: 0.2955\n",
      "\n"
     ]
    },
    {
     "name": "stderr",
     "output_type": "stream",
     "text": [
      "9991it [56:56,  2.84it/s]"
     ]
    },
    {
     "name": "stdout",
     "output_type": "stream",
     "text": [
      "Context: [capçalera] Com ajudar una amiga adolescent embarassada [títol] Explora les seves opcions. [pas] Parla amb ella sobre les opcions que té i els seus sentiments sobre cadascuna d'elles. Parla sobre cada opció sense jutjar-la ni pressionar-la sobre què hauria de triar.\n",
      "Predicted Ending: Si creus que hi haurà alternatives a la seva elecció, porta-la a la teva conversa. [subpassos] Dona-li algunes suggeriments sobre quines opcions creus que podrien tenir més èxit per a ella.\n",
      "Correct Ending: Aquest és el seu cos, el seu embaràs, i serà ella qui haurà de fer front a les conseqüències, no tu. [subpassos] Podria decidir avortar.\n",
      "Is Correct: No\n",
      "Accuracy so far: 0.2955\n",
      "\n"
     ]
    },
    {
     "name": "stderr",
     "output_type": "stream",
     "text": [
      "9992it [56:56,  2.95it/s]"
     ]
    },
    {
     "name": "stdout",
     "output_type": "stream",
     "text": [
      "Context: [capçalera] Com visualitzar el teu nou estil [títol] Primer, inspira't. [pas] Llegeix algunes revistes, mira els teus programes favorits i llegeix blogs inspiradors. Hi ha persones que t'inspirin? (companys de classe, famosos, etc.)\n",
      "Predicted Ending: ) aquestes són les teves idees i pots compartir-les amb aquestes persones. A més, inspirar-se és reconèixer, apreciar i compartir el teu estil.\n",
      "Correct Ending: ) hi ha un període de temps específic que t'agradi? (anys 80, gòtic victorià, etc.) hi ha algun estil que t'influenci ara? (preppy, punk, etc.\n",
      "Is Correct: No\n",
      "Accuracy so far: 0.2955\n",
      "\n"
     ]
    },
    {
     "name": "stderr",
     "output_type": "stream",
     "text": [
      "9993it [56:56,  2.92it/s]"
     ]
    },
    {
     "name": "stdout",
     "output_type": "stream",
     "text": [
      "Context: [capçalera] Com fer un punt lliscat [títol] Sabreu si heu de lliscar el punt a del dret o del revés. [pas] Podeu lliscar un punt del dret o del revés. (Si no s'indica cap mètode, assumeix que és del revés.\n",
      "Predicted Ending: ) [subpassos] Per lliscar un punt del dret, insereix l'agulla dreta en la següent puntada d'esquerra a dreta, com si anésssis a teixir. No posis el fil sobre la teva agulla, però; simplement mou la puntada de l'agulla esquerra a l'agulla dreta.\n",
      "Correct Ending: ) [subpassos] Per lliscar un punt del dret, insereix l'agulla dreta en la següent puntada d'esquerra a dreta, com si anésssis a teixir. No posis el fil sobre la teva agulla, però; simplement mou la puntada de l'agulla esquerra a l'agulla dreta.\n",
      "Is Correct: Yes\n",
      "Accuracy so far: 0.2955\n",
      "\n"
     ]
    },
    {
     "name": "stderr",
     "output_type": "stream",
     "text": [
      "9994it [56:57,  2.96it/s]"
     ]
    },
    {
     "name": "stdout",
     "output_type": "stream",
     "text": [
      "Context: [capçalera] Com afegir columnes a InDesign [títol] Afegeix columnes a un document nou. [pas] Pots canviar el nombre de columnes d'un document nou per facilitar-ne la feina. [subpassos] Crea el document anant a \" fitxer \" i seleccionant \" nou.\n",
      "Predicted Ending: \" [títol] Afegeix columnes fent clic amb el botó esquerre sobre elles. [pas] Això obrirà una finestra nova amb columnes que ja s'han carregat al document.\n",
      "Correct Ending: \" tria una pàgina nova del menú \" pàgina \". Ves al menú \" document nou \".\n",
      "Is Correct: No\n",
      "Accuracy so far: 0.2955\n",
      "\n"
     ]
    },
    {
     "name": "stderr",
     "output_type": "stream",
     "text": [
      "9995it [56:57,  2.90it/s]"
     ]
    },
    {
     "name": "stdout",
     "output_type": "stream",
     "text": [
      "Context: [capçalera] Com citar les xarxes socials utilitzant mla i apa [títol] Citar un 'tuit'. [pas] Per a un tuit a Twitter, comença amb el cognom de l'autor, seguit del seu nom i el nom d'usuari entre parèntesis. A continuació, inclou el tuit complet entre cometes, la data en què es va publicar, l'hora en què es va publicar i la paraula \"tuit\".\n",
      "Predicted Ending: \" Després, afegeix 2-3 paràgrafs molt curts que descriguin per què es va publicar al lloc web de Twitter. A continuació, afegeix 2-3 paràgrafs.\n",
      "Correct Ending: \" hauria de tenir aquest aspecte: [subpasssos] \" cavaller, joe (cakesforlife). ' tamisa sempre la farina abans d'afegir-la al pastís.\n",
      "Is Correct: No\n",
      "Accuracy so far: 0.2955\n",
      "\n"
     ]
    },
    {
     "name": "stderr",
     "output_type": "stream",
     "text": [
      "9996it [56:57,  2.68it/s]"
     ]
    },
    {
     "name": "stdout",
     "output_type": "stream",
     "text": [
      "Context: [capçalera] Com fer escuma de cappuccino [títol] Aboca l'espresso bullit a la teva tassa de cappuccino. [pas] Tot i que els detalls dependran del tipus de cappuccino i de la persona que el faci, els cappuccinos són aproximadament una quarta part d'espresso i tres quarts de llet vaporitzada. Aboca la quantitat d'espresso bullit que vulguis en una tassa gran de cappuccino abans de vaporitzar la llet.\n",
      "Predicted Ending: [subpassos] En lloc de cappuccino, afegeix llet sencera. L'espresso es pot gelar posteriorment, i la majoria de les empreses de cappuccino recomanen gelar-lo després de la cocció per a endolcir la llet.\n",
      "Correct Ending: D'aquesta manera, ho tindràs tot a punt per a abocar la llet vaporitzada mentre encara estigui molt calenta. [títol] Omple un pichet de vapor amb llet freda.\n",
      "Is Correct: No\n",
      "Accuracy so far: 0.2955\n",
      "\n"
     ]
    },
    {
     "name": "stderr",
     "output_type": "stream",
     "text": [
      "9997it [56:58,  2.67it/s]"
     ]
    },
    {
     "name": "stdout",
     "output_type": "stream",
     "text": [
      "Context: [capçalera] Com plantar esqueixos [títol] Posar els esqueixos en quarantena durant 3-5 dies. [pas] Si has obtingut els esqueixos de plantes d'una font externa, assegura't de posar-los en quarantena abans de plantar-los. Col·loca'ls en una habitació separada de la resta de les teves plantes durant 3-5 dies.\n",
      "Predicted Ending: Aquests períodes de quarantena haurien de ser més llargs per a la majoria dels esqueixos que el període de quarantena habitual de sis setmanes. Alguns esqueixos, també, són més fàcils de plantar que algunes varietats.\n",
      "Correct Ending: Durant aquest temps, examina les plantes per detectar fongs o plagues que podrien propagar-se a les teves altres plantes. [subpassos] Les fulles retorçades, amb butllofes i d'aspecte humit són una indicació d'àcars amples o àcars marrons.\n",
      "Is Correct: No\n",
      "Accuracy so far: 0.2954\n",
      "\n"
     ]
    },
    {
     "name": "stderr",
     "output_type": "stream",
     "text": [
      "9998it [56:58,  2.67it/s]"
     ]
    },
    {
     "name": "stdout",
     "output_type": "stream",
     "text": [
      "Context: [capçalera] Com netejar el motlle de la pell [títol] Apliqueu una capa de vaselina. [pas] Proveu l'efecte de la vaselina en una petita àrea que no sigui visible. Apliqueu la vaselina a les zones amb motlle creant només una capa fina.\n",
      "Predicted Ending: També podeu utilitzar un netejador de pell de camussa, però llegiu l'etiqueta del producte de neteja per assegurar-vos que funciona amb motlle i floridura. [subpassos] El nubuck pot canviar de color fàcilment, així que assegureu-vos que el producte de neteja que utilitzeu s'ha provat abans d'aplicar-lo.\n",
      "Correct Ending: També podeu utilitzar un netejador de pell de camussa, però llegiu l'etiqueta del producte de neteja per assegurar-vos que funciona amb motlle i floridura. [subpassos] El nubuck pot canviar de color fàcilment, així que assegureu-vos que el producte de neteja que utilitzeu s'ha provat abans d'aplicar-lo.\n",
      "Is Correct: Yes\n",
      "Accuracy so far: 0.2955\n",
      "\n"
     ]
    },
    {
     "name": "stderr",
     "output_type": "stream",
     "text": [
      "9999it [56:59,  2.54it/s]"
     ]
    },
    {
     "name": "stdout",
     "output_type": "stream",
     "text": [
      "Context: [capçalera] Com tractar una sobredosi de cafeïna [títol] Truqueu al centre de control de verins. [pas] Això és especialment important si us adoneu que heu pres un medicament amb un alt contingut de cafeïna o heu menjat o begut alguna cosa amb un alt contingut de cafeïna. Els aliments que contenen un alt contingut de cafeïna inclouen coses com el xocolata, i les begudes com el te i el cafè també tendeixen a tenir un alt contingut de cafeïna.\n",
      "Predicted Ending: [subpassos] Assegureu-vos de fer una trucada al centre de control de verins per internet per tal d'accedir a tota la informació el més ràpid possible. També vigileu la creença que evitar la cafeïna de la vostra dieta pot desencadenar una sobredosi.\n",
      "Correct Ending: Si teniu símptomes com dificultat per respirar, truqueu immediatament al centre de control de verins per saber com tractar el problema. [subpassos] El centre nacional de control de verins (1-800-222-1222) als Estats Units es pot contactar a qualsevol hora del dia.\n",
      "Is Correct: No\n",
      "Accuracy so far: 0.2955\n",
      "\n"
     ]
    },
    {
     "name": "stderr",
     "output_type": "stream",
     "text": [
      "10000it [56:59,  2.63it/s]"
     ]
    },
    {
     "name": "stdout",
     "output_type": "stream",
     "text": [
      "Context: [capçalera] Com calmar un nadó que té còlics [títol] Embolcalleu el vostre nadó. [pas] Potser no els agrada el procés, però els resultats poden ser increïbles. Es creu que embolicar recrea la comoditat de l'úter i pot augmentar l'impacte calmant d'altres passos calmant.\n",
      "Predicted Ending: [subpassos] Assegureu-vos d'embolicar el vostre nadó a llarg termini. Les mantes es dispensen fàcilment i els nadons no necessiten tantes coses per calmar-se.\n",
      "Correct Ending: [subpassos] Un cop embolicat, gireu el nadó de costat i sacseu-lo suaument. Xiuxiueu-li amb força, assegureu-vos que us pot sentir per sobre dels seus propis crits.\n",
      "Is Correct: No\n",
      "Accuracy so far: 0.2954\n",
      "\n"
     ]
    },
    {
     "name": "stderr",
     "output_type": "stream",
     "text": [
      "10001it [56:59,  2.54it/s]"
     ]
    },
    {
     "name": "stdout",
     "output_type": "stream",
     "text": [
      "Context: [capçalera] Com mantenir-se casat amb un advocat [títol] Demana a la teva parella que desactivi el mode advocat. [pas] Un bon advocat està entrenat per a amagar les emocions, mai admetre que està equivocat i atacar qualsevol buit en l'argument de l'oposició. Si alguna d'aquestes coses sona a el que la teva parella fa durant una discussió domèstica o una conversa durant el sopar, està tenint problemes per a deixar aquest entrenament a la feina o a la facultat de dret.\n",
      "Predicted Ending: [títol] Persuadeix la teva parella per mantenir una opinió imparcial. [pas] Pots evitar la temptació de ser autoritari i aturar la conversa amb una opinció si et sents d'aquella manera.\n",
      "Correct Ending: Escull un moment en què tots dos estiguin tranquils i parla amb ella sobre això. Aquí tens algunes maneres educades de plantejar els problemes: [subpassos] \" quan estàs estressat a la feina, tornes en mode advocat.\n",
      "Is Correct: No\n",
      "Accuracy so far: 0.2954\n",
      "\n"
     ]
    },
    {
     "name": "stderr",
     "output_type": "stream",
     "text": [
      "10002it [57:00,  2.58it/s]"
     ]
    },
    {
     "name": "stdout",
     "output_type": "stream",
     "text": [
      "Context: [capçalera] Com netejar talls [títol] Renta't les mans. [pas] Abans d'intentar netejar un tall, ja sigui a tu mateix o a una altra persona, és clau que les teves pròpies mans estiguin netes. D'aquesta manera, no introduiràs cap germen o substància estranya al tall que posteriorment podria provocar la seva infecció.\n",
      "Predicted Ending: Has de rentar-te les mans a fons després de tocar qualsevol part de la teva pell que hagi estat tocada. [subpassos] Per a netejar els teus talls, renta'ls a fons amb aigua tèbia i sabó abans i després de tocar els teus talls.\n",
      "Correct Ending: [subpassos] Si estan disponibles, posa't uns guants d'un sol ús després de rentar-te les mans per a més protecció [títol] Detenir el sagnat. [pas] Abans de netejar el tall, també és clau detenir el sagnat.\n",
      "Is Correct: No\n",
      "Accuracy so far: 0.2954\n",
      "\n"
     ]
    },
    {
     "name": "stderr",
     "output_type": "stream",
     "text": [
      "10003it [57:00,  2.72it/s]"
     ]
    },
    {
     "name": "stdout",
     "output_type": "stream",
     "text": [
      "Context: [capçalera] Com entendre per què va trencar amb tu [títol] Contacta amb el teu ex. [pas] Donar-li un parell de setmanes després de la ruptura. Si parles amb ell massa aviat, la conversa podria resultar massa emocional per a ell.\n",
      "Predicted Ending: Fes-li saber al teu ex que creus que s'ha acabat. [subpassos] Pots provar trucar-lo i preguntar-li per què va trencar amb tu.\n",
      "Correct Ending: Després d'un temps per processar-ho, demana-li al teu ex de quedar per parlar-ho. [subpassos] Deixa clar que tan sols vols una mica de tancament.\n",
      "Is Correct: No\n",
      "Accuracy so far: 0.2953\n",
      "\n"
     ]
    },
    {
     "name": "stderr",
     "output_type": "stream",
     "text": [
      "10004it [57:00,  2.88it/s]"
     ]
    },
    {
     "name": "stdout",
     "output_type": "stream",
     "text": [
      "Context: [capçalera] Com diferenciar el sexe de les tortugues [títol] Agafa la tortuga. [pas] Agafa la tortuga amb les dues mans, amb cura de no deixar-la caure. Mantén la tortuga prou alta per poder veure per sota.\n",
      "Predicted Ending: Mantén la tortuga a prop del cos perquè no se senti obligada a pressionar-te. Tanca els braços al voltant del seu coll i pressiona-la contra el pit.\n",
      "Correct Ending: No donis la volta a la tortuga a l'esquena. Això és molt estressant per a l'animal.\n",
      "Is Correct: No\n",
      "Accuracy so far: 0.2953\n",
      "\n"
     ]
    },
    {
     "name": "stderr",
     "output_type": "stream",
     "text": [
      "10005it [57:01,  2.82it/s]"
     ]
    },
    {
     "name": "stdout",
     "output_type": "stream",
     "text": [
      "Context: [capçalera] Com trucar a Alemanya des del Canadà [títol] Compra una targeta telefònica que permeti trucar a llarga distància. [pas] Es poden trobar a la teva botiga de queviures local o centre comercial. Pots escollir una específica d'Alemanya o una targeta general de tot el món.\n",
      "Predicted Ending: [títol] Determina si vols trucar a Alemanya des d'un telèfon mòbil o una línia fixa. [pas] Les línies telefòniques principals s'utilitzen per a trucades internacionals.\n",
      "Correct Ending: [subpassos] Comprova que pots trucar a Alemanya amb la targeta que compres. També mira les tarifes; vols assegurar-te que estàs obtenint tants minuts com s'anuncia.\n",
      "Is Correct: No\n",
      "Accuracy so far: 0.2953\n",
      "\n"
     ]
    },
    {
     "name": "stderr",
     "output_type": "stream",
     "text": [
      "10006it [57:01,  2.76it/s]"
     ]
    },
    {
     "name": "stdout",
     "output_type": "stream",
     "text": [
      "Context: [capçalera] Com ensenyar alfabetització financera [títol] Explica com estimar amb precisió els ingressos i les despeses. [pas] Crea una full de càlcul o escriu un pressupost mensual de mostra amb un bolígraf i paper. Enumera el total d'ingressos i divideix les despeses en categories, com ara pagaments de cotxes, assegurances, una factura de telèfon mòbil i entreteniment.\n",
      "Predicted Ending: [subpassos] Esmenta que els ingressos i les despeses poden fluctuar de mes a mes, per la qual cosa és important fer-ne un seguiment al llarg del temps. [títol] Fes que el pressupost de mostra sigui rellevant per al teu estudiant o fill.\n",
      "Correct Ending: [subpassos] Esmenta que els ingressos i les despeses poden fluctuar de mes a mes, per la qual cosa és important fer-ne un seguiment al llarg del temps. [títol] Fes que el pressupost de mostra sigui rellevant per al teu estudiant o fill.\n",
      "Is Correct: Yes\n",
      "Accuracy so far: 0.2954\n",
      "\n"
     ]
    },
    {
     "name": "stderr",
     "output_type": "stream",
     "text": [
      "10007it [57:01,  2.66it/s]"
     ]
    },
    {
     "name": "stdout",
     "output_type": "stream",
     "text": [
      "Context: [capçalera] Com portar un estol de pell [títol] Trieu un estol de pell autèntica per a una opció luxosa. [pas] Els estols de pell autèntica poden ser cars, especialment si estan fets amb pells rares com el visó, la guineu i la xinchilla. Podeu pagar uns quants centenars de dòlars per un estol de pell autèntica, o més si la pell és d'alta qualitat o rara.\n",
      "Predicted Ending: Els estols de pell sintètica són més cars, però segueixen sent opcions de moda. [subpassos] Busqueu un estol de pell sintètica en una penjada de filferro en una botiga departamental.\n",
      "Correct Ending: Si teniu previst portar l'estol de pell amb freqüència o us agrada invertir en la vostra roba, un estol de pell autèntica pot ser la millor opció. [subpassos] També pot preferir la sensació de la pell autèntica, especialment si teniu previst portar l'estol de pell amb freqüència.\n",
      "Is Correct: No\n",
      "Accuracy so far: 0.2953\n",
      "\n"
     ]
    },
    {
     "name": "stderr",
     "output_type": "stream",
     "text": [
      "10008it [57:02,  2.65it/s]"
     ]
    },
    {
     "name": "stdout",
     "output_type": "stream",
     "text": [
      "Context: [capçalera] Com cancel·lar Starz a Amazon [títol] Inicia sessió al teu compte d'Amazon. [pas] Escriu \" www.amazon.com \" a la barra d'adreça del teu navegador per accedir a la pàgina principal d'Amazon. Des d'allà, ves a la cantonada superior dreta de la pantalla i fes clic a \" iniciar sessió\".\n",
      "Predicted Ending: \" Apareixerà una finestra emergent de confirmació informant-te que les extensions que has de fer servir ja s'han eliminat. Fes clic a la marca de verificació a la finestra emergent de confirmació per confirmar que vols eliminar les extensions.\n",
      "Correct Ending: \" afegeix el teu nom d'usuari i contrasenya als quadres corresponents per accedir al teu compte. [subpassos] Si vas afegir la teva subscripció fa molt temps i no recordes la contrasenya, fes clic a \" has oblidat la contrasenya? \" a la pàgina d'inici de sessió per recuperar-la.\n",
      "Is Correct: No\n",
      "Accuracy so far: 0.2953\n",
      "\n"
     ]
    },
    {
     "name": "stderr",
     "output_type": "stream",
     "text": [
      "10009it [57:02,  2.70it/s]"
     ]
    },
    {
     "name": "stdout",
     "output_type": "stream",
     "text": [
      "Context: [capçalera] Com vestir-se com a convidat a un casament d'hivern [títol] Considera el codi de vestimenta. [pas] Abans de decidir com la temporada afectarà les teves opcions de vestimenta, has d'assegurar-te que entens el codi de vestimenta del casament. Consulta la invitació, que normalment deixarà clar com s'espera que es vestin els convidats.\n",
      "Predicted Ending: [subpassos] Per exemple, a la tardor, el codi de vestimenta pot ser que els convidats no disposin de caputxes. A l'estiu, el codi de vestimenta és que els convidats han de portar bufandes uniformes, ja que s'exigeix vestimenta per a moltes estacions al mes de juny.\n",
      "Correct Ending: D'aquesta manera, no us vestireu massa formalment ni informalment per a l'esdeveniment. [subpassos] Si la invitació diu \"corbata blanca\", el casament té un codi de vestimenta extremadament formal.\n",
      "Is Correct: No\n",
      "Accuracy so far: 0.2953\n",
      "\n"
     ]
    },
    {
     "name": "stderr",
     "output_type": "stream",
     "text": [
      "10010it [57:03,  2.69it/s]"
     ]
    },
    {
     "name": "stdout",
     "output_type": "stream",
     "text": [
      "Context: [capçalera] Com netejar una pistola de pintura automotriu [títol] Traieu el regulador d'aire de la pintura. [pas] El regulador d'aire és el dispositiu a la part inferior de la pistola on es pot connectar l'aire comprimit a la part inferior de la pistola d'aire. Assegureu-vos que la font d'aire comprimit estigui desconnectada del regulador primer i després podeu desconnectar el regulador de la pistola.\n",
      "Predicted Ending: Podeu afluixar el regulador d'aire manualment si està enganxat. [títol] Netegeu l'interior de la pistola amb un drap humit.\n",
      "Correct Ending: [títol] Obriu la tapa de la tassa de pintura per abocar qualsevol material no utilitzat. [pas] Heu de assegurar-vos de desfer-vos dels residus en els contenidors adequats.\n",
      "Is Correct: No\n",
      "Accuracy so far: 0.2952\n",
      "\n"
     ]
    },
    {
     "name": "stderr",
     "output_type": "stream",
     "text": [
      "10011it [57:03,  2.69it/s]"
     ]
    },
    {
     "name": "stdout",
     "output_type": "stream",
     "text": [
      "Context: [capçalera] Com fer un repel·lent de gats casolà [títol] Afegeix l'oli essencial a una ampolla de polvorització. [pas] Per al repel·lent, necessitareu una ampolla de polvorització de vidre de 2 unces (59 ml). Esqueixeu 2 gotes d'oli essencial de llimona, 2 gotes d'oli essencial de taronja silvestre i 2 gotes d'oli essencial de lavanda a l'ampolla.\n",
      "Predicted Ending: Utilitzeu un polvoritzador per polvoritzar l'oli essencial sobre un petit tros de bola de cotó. Deixeu el polvoritzador durant 1-2 hores, o fins que l'oli s'infusioni completament.\n",
      "Correct Ending: [subpassos] Els gats són més sensibles als olors que els humans, per la qual cosa els olis essencials amb olors fortes, com els cítrics i la lavanda, poden ajudar a repel·lir-los. Podeu substituir la llimona, la menta i/o l'eucaliptus per la llimona, la taronja silvestre i la lavanda si ho preferiu.\n",
      "Is Correct: No\n",
      "Accuracy so far: 0.2952\n",
      "\n"
     ]
    },
    {
     "name": "stderr",
     "output_type": "stream",
     "text": [
      "10012it [57:03,  2.75it/s]"
     ]
    },
    {
     "name": "stdout",
     "output_type": "stream",
     "text": [
      "Context: [capçalera] Com cuidar un tauró arc de Sant Martí [títol] Compra un aquari que pugui contenir almenys 50 galons. [pas] Els taurons arc de Sant Martí no són particularment grans, només uns 6 polzades (15 cm). No obstant això, són semiagressius i molt territorials.\n",
      "Predicted Ending: Els aquaris no necessiten molt espai per expandir-se, per tant, hauríeu de tenir prou llum per al vostre tauró arc de Sant Martí perquè pugui amagar-se a la nit. [subpassos] Un tanc de 12 polzades (20 cm) és la mida ideal per als taurons d'aigua salada.\n",
      "Correct Ending: Aquests peixos necessiten molt espai i llocs per amagar-se per evitar enfrontaments. [subpassos] Potser hauràs de muntar l'aquari.\n",
      "Is Correct: No\n",
      "Accuracy so far: 0.2952\n",
      "\n"
     ]
    },
    {
     "name": "stderr",
     "output_type": "stream",
     "text": [
      "10013it [57:04,  2.94it/s]"
     ]
    },
    {
     "name": "stdout",
     "output_type": "stream",
     "text": [
      "Context: [capçalera] Com ser un fan dels Kansas City Royals [títol] Fes-te amb una samarreta dels Royals. [pas] Una gorra de beisbol també és obligatòria. Porta sempre el teu equip dels Royals als partits a casa i a fora.\n",
      "Predicted Ending: No vols perdre't cap entrada davant de tot l'equip de futbol. Assegura't que la teva samarreta està ben lligada o més llarga del que t'agrada.\n",
      "Correct Ending: No cal comprar roba cara. Fins i tot alguna cosa com una samarreta dels Royals servirà.\n",
      "Is Correct: No\n",
      "Accuracy so far: 0.2952\n",
      "\n"
     ]
    },
    {
     "name": "stderr",
     "output_type": "stream",
     "text": [
      "10014it [57:04,  2.97it/s]"
     ]
    },
    {
     "name": "stdout",
     "output_type": "stream",
     "text": [
      "Context: [capçalera] Com guardar botes altes fins al genoll [títol] Tanca les botes a la part lateral per preparar-les per al seu emmagatzematge. [títol] Enrotlla una revista que no vulguis i introdueix-la en una bota. [pas] ( hauràs de sostenir la bota a mesura que introdueixes la revista.\n",
      "Predicted Ending: ) immediatament es desenrotllarà i omplirà la forma de la bota. [títol] Enrotlla una segona revista que no vulguis i introdueix-la a l'altra bota.\n",
      "Correct Ending: ) immediatament es desenrotllarà i omplirà la forma de la bota. [títol] Enrotlla una segona revista que no vulguis i introdueix-la a l'altra bota.\n",
      "Is Correct: Yes\n",
      "Accuracy so far: 0.2952\n",
      "\n"
     ]
    },
    {
     "name": "stderr",
     "output_type": "stream",
     "text": [
      "10015it [57:04,  3.13it/s]"
     ]
    },
    {
     "name": "stdout",
     "output_type": "stream",
     "text": [
      "Context: [capçalera] Com córrer més ràpid [títol] Estira abans de córrer. [pas] Estirar és una part important de gairebé qualsevol rutina d'exercici. Correr no és una excepció.\n",
      "Predicted Ending: Quan estires, estàs escalfant els músculs del teu cos i preparant-los per al treball dur que estàs a punt de fer. [subpassos] Un bon estirament s'anomena \"la cigonya\".\n",
      "Correct Ending: Quan estires, estàs escalfant els músculs del teu cos i preparant-los per al treball dur que estàs a punt de fer. [subpassos] Un bon estirament s'anomena \"la cigonya\".\n",
      "Is Correct: Yes\n",
      "Accuracy so far: 0.2953\n",
      "\n"
     ]
    },
    {
     "name": "stderr",
     "output_type": "stream",
     "text": [
      "10016it [57:04,  3.09it/s]"
     ]
    },
    {
     "name": "stdout",
     "output_type": "stream",
     "text": [
      "Context: [capçalera] Com tractar el cabell fregit [títol] Fes-te un tall de cabell. [pas] Quan el cabell està fregit, normalment són les puntes les que mostren més dany. Una visita al teu estilista per a un tall pot fer que el teu cabell sembli millor immediatament.\n",
      "Predicted Ending: Troba un estilista que vagi bé amb el teu cabell, i demana-li que et talli el cabell. [subpassos] Si tens el cabell fi o arrissat, demana al teu perruquer que el retalli manualment, o pots fer-ho tu mateix.\n",
      "Correct Ending: Això no vol dir que hagis d'anar a buscar un tall molt curt, però. Rebre talles regulars pot ajudar que el teu cabell fregit sembli més saludable.\n",
      "Is Correct: No\n",
      "Accuracy so far: 0.2953\n",
      "\n"
     ]
    },
    {
     "name": "stderr",
     "output_type": "stream",
     "text": [
      "10017it [57:05,  3.04it/s]"
     ]
    },
    {
     "name": "stdout",
     "output_type": "stream",
     "text": [
      "Context: [capçalera] Com preparar una bossa per a l'entrenament esportiu abans de l'escola (per a noies) [títol] Troba una bossa. [pas] Esperem que tingueu un armari a l'escola. Us pot agradar utilitzar una bossa de corda de mida mitjana de puma, qualsevol marca que us agradi funcionarà.\n",
      "Predicted Ending: Mira per assegurar-te que la teva bossa tingui solapes de plàstic o compartiments de plàstic per evitar que les coses passin, de manera que no hagis de treure tot. [títol] Cobreix el teu dormitori amb una antiga manta.\n",
      "Correct Ending: També pots utilitzar una bossa de viatge petita. Prova marques com puma, nike, adidas o utilitza una bossa no marcada perfectament bona [títol] Empaca la teva bossa amb la teva roba esportiva.\n",
      "Is Correct: No\n",
      "Accuracy so far: 0.2952\n",
      "\n"
     ]
    },
    {
     "name": "stderr",
     "output_type": "stream",
     "text": [
      "10018it [57:05,  2.92it/s]"
     ]
    },
    {
     "name": "stdout",
     "output_type": "stream",
     "text": [
      "Context: [capçalera] Com fer que la teva xicota t'estimi [títol] No deixis de parlar mai. [pas] Els psicòlegs han dit que la comunicació efectiva és un dels factors clau en les relacions exitoses. Continua comunicant-te i esforça't per parlar.\n",
      "Predicted Ending: Truca a la teva xicota casualment cada dia, o com a màxim un cop per setmana, i mantingues la teva veu el més suau possible. [subpassos] La clau per tenir èxit en les relacions romàntiques és satisfer les necessitats de la teva xicota.\n",
      "Correct Ending: Això no vol dir que mai puguis fer una pausa o gaudir d'un moment de silenci, sinó que està pensat més metafòricament. [subpassos] Si saps com comunicar-te i quines són les coses adequades per parlar amb la teva xicota, la teva relació florirà en un romanç millor, i la teva xicota se sentirà més enamorada de tu.\n",
      "Is Correct: No\n",
      "Accuracy so far: 0.2952\n",
      "\n"
     ]
    },
    {
     "name": "stderr",
     "output_type": "stream",
     "text": [
      "10019it [57:06,  2.82it/s]"
     ]
    },
    {
     "name": "stdout",
     "output_type": "stream",
     "text": [
      "Context: [capçalera] Com vestir-se per a un casament [títol] Llegiu la invitació amb atenció. [pas] Sovint, la invitació us donarà informació directa sobre què posar-vos i el nivell de formalitat. L'estil o la decoració de la invitació també són una pista.\n",
      "Predicted Ending: Si aquest és el cas, potser seria millor posar-se pantalons de vestir, una camisa amb botons o una camisa de màniga llarga. [subpassos] Fins i tot si la vostra invitació us dóna instruccions directes sobre un vestit específic, encara és prudent seguir-la! No voleu avergonyir-vos o haver de demanar consell a algú amb qui no esteu d'acord.\n",
      "Correct Ending: és colorida i divertida o formal i elegant? [subpassos] Poden mencionar pistes sobre calçat còmode indicant-vos si la cerimònia serà a la platja o a un prat. Molta gent també està utilitzant llocs web per proporcionar més informació sobre la cerimònia.\n",
      "Is Correct: No\n",
      "Accuracy so far: 0.2952\n",
      "\n"
     ]
    },
    {
     "name": "stderr",
     "output_type": "stream",
     "text": [
      "10020it [57:06,  3.00it/s]"
     ]
    },
    {
     "name": "stdout",
     "output_type": "stream",
     "text": [
      "Context: [capçalera] Com escriure històries apocalíptiques [títol] Decideix quin tipus d'història apocalíptica és\n",
      "Predicted Ending: [títol] Envieu-me una descripció del final i com va afectar la percepció i el pensament del lector en aquell moment. [títol] Escriviu un presagi del que passa després.\n",
      "Correct Ending: Si no ho feu, deixareu forats importants a la vostra història. Si escriviu una història situada abans o durant l'apocalipsi, podeu utilitzar el mètode de supervivència d'un personatge al vostre avantatge fent-lo la línia argumental.\n",
      "Is Correct: No\n",
      "Accuracy so far: 0.2951\n",
      "\n"
     ]
    },
    {
     "name": "stderr",
     "output_type": "stream",
     "text": [
      "10021it [57:06,  2.91it/s]"
     ]
    },
    {
     "name": "stdout",
     "output_type": "stream",
     "text": [
      "Context: [capçalera] Com córrer per perdre pes [títol] Comença amb passejades. [pas] Si ets nou en córrer, el teu cos no està preparat per a córrer llargues distàncies. En comptes d'això, comença per fer llargues passejades, cosa que ajuda a preparar el teu cos però redueix la probabilitat de lesions.\n",
      "Predicted Ending: En un dia o dos des de l'inici de la teva primera carrera, hauries de poder reprendre-la i tornar a estar en forma. [subpassos] Si tens diabetis, és una bona idea continuar amb la teva rutina de jogging o carrera durant uns dies.\n",
      "Correct Ending: Si estàs acostumat a córrer però no ho has fet en un temps, comença alternant caminar i córrer en un sol entrenament. [subpassos] Comença amb passejades més curtes i ves augmentant-les fins a fer-les més llargues.\n",
      "Is Correct: No\n",
      "Accuracy so far: 0.2951\n",
      "\n"
     ]
    },
    {
     "name": "stderr",
     "output_type": "stream",
     "text": [
      "10022it [57:07,  2.71it/s]"
     ]
    },
    {
     "name": "stdout",
     "output_type": "stream",
     "text": [
      "Context: [capçalera] Com fer un portfolio per a disseny d'interiors [títol] Trieu el vostre estoig de portfolio. [pas] Assegureu-vos que la mida sigui adequada a la quantitat de treball que teniu previst mostrar. Si és possible, trieu un estoig de portfolio que representi el vostre estil de disseny.\n",
      "Predicted Ending: Un cop hagueu seleccionat el vostre estoig de portfolio, busqueu en línia o a les botigues altres estils i etiquetes que destaquin el vostre disseny. [subpassos] Tingueu en compte que probablement haureu de vendre el vostre portfolio si el lloc on us presenteu aplica una política de \"no-no\".\n",
      "Correct Ending: Els diaris buits, les carpetes de cuir i els àlbums de fotos funcionen molt bé com a estoigs de portfolio. [títol] Inclou una introducció a tu i al teu treball.\n",
      "Is Correct: No\n",
      "Accuracy so far: 0.2951\n",
      "\n"
     ]
    },
    {
     "name": "stderr",
     "output_type": "stream",
     "text": [
      "10023it [57:07,  2.64it/s]"
     ]
    },
    {
     "name": "stdout",
     "output_type": "stream",
     "text": [
      "Context: [capçalera] Com ser una gran tia [títol] Escolta'ls. [pas] De vegades, els pares estan massa ocupats per escoltar els seus fills, especialment si tenen molts fills i treballs ocupats. En situacions com aquestes, com a tia pots dedicar més temps a totes les històries i notícies que les teves nebodes i nebots volen compartir.\n",
      "Predicted Ending: Per tant, si les teves nebodes i nebots passen la major part del seu temps sols, llavors potser et donaran la benvinguda per quedar-te i escoltar. [subpassos] Fes saber a la teva neboda o nebot que estàs allà per a ells per posar-hi fi.\n",
      "Correct Ending: D'aquesta manera, gairebé actues com un pare suplementari oferint la teva atenció a la teva neboda o nebot quan ho necessiten. [subpassos] Practica l'escolta activa amb les teves nebodes i nebots.\n",
      "Is Correct: No\n",
      "Accuracy so far: 0.2951\n",
      "\n"
     ]
    },
    {
     "name": "stderr",
     "output_type": "stream",
     "text": [
      "10024it [57:07,  2.67it/s]"
     ]
    },
    {
     "name": "stdout",
     "output_type": "stream",
     "text": [
      "Context: [capçalera] Com escriure un resum [títol] Presenta la obra. [pas] La primera frase del resum ha d'incloure el nom de l'autor, el gènere, el títol de l'obra i la data de publicació. Després d'aquesta informació, segueix amb un verb retòricament precís i una clàusula \"que\" que introdueixi la tesi.\n",
      "Predicted Ending: A continuació, pots començar a escriure el precís. [subpassos] En la segona i tercera frase, inclou el cognom de l'autor i l'any de publicació.\n",
      "Correct Ending: [subpassos] En la majoria de casos, tan sols necessites introduir l'autor pel seu nom complet. Si necessites afegir certs fets sobre la vida de l'autor per poder resumir de forma precisa el contingut, pots escriure una breu clàusula descrivint la informació a continuació del nom.\n",
      "Is Correct: No\n",
      "Accuracy so far: 0.2950\n",
      "\n"
     ]
    },
    {
     "name": "stderr",
     "output_type": "stream",
     "text": [
      "10025it [57:08,  2.62it/s]"
     ]
    },
    {
     "name": "stdout",
     "output_type": "stream",
     "text": [
      "Context: [capçalera] Com treure els nens petits de casa al matí [títol] Llevanta't abans del que creus que necessites. [pas] Les coses amb els nens gairebé sempre triguen més del que planeges; un temps extra pot ser molt útil per fer que el matí sigui més agradable. [títol] Prepara't abans de despertar els nens, si és possible.\n",
      "Predicted Ending: [pas] Això pot semblar més fàcil de dir que de fer, però el punt principal és evitar que es despertin massa aviat, en cas que tu estiguis fora del llit massa aviat. No t'oblidis (i ajuda'ls a dutxar-se, a raspallar-se les dents, etc.\n",
      "Correct Ending: [pas] Un cop els nens petits estan desperts, necessiten atenció immediata; donar-los-la serà estressant si encara tens moltes coses per fer per tu mateix. [subpassos] Gaudeix d'una tassa de cafè, fes una dutxa i passa uns minuts per a tu mateix.\n",
      "Is Correct: No\n",
      "Accuracy so far: 0.2950\n",
      "\n"
     ]
    },
    {
     "name": "stderr",
     "output_type": "stream",
     "text": [
      "10026it [57:08,  2.52it/s]"
     ]
    },
    {
     "name": "stdout",
     "output_type": "stream",
     "text": [
      "Context: [capçalera] Com fer cafè amb una premsa de cafè [títol] Mesura els grans de cafè. [pas] Per assegurar-te que obtens la quantitat correcta de mòlta per al teu cafè, has de mesurar amb cura els grans de cafè. Per a 32 unces (946 ml) de cafè, que equival a aproximadament 3 o 4 porcions, utilitza una tassa de mesurar per mesurar ½ tassa (51 g) de grans.\n",
      "Predicted Ending: Per mesurar dues o quatre porcions, utilitza una tassa de mesurar amb un botó. Només has d'utilitzar un pessic de sucre si el teu cafè conté ingredients dolços, i un pessic de sal si el teu cafè conté llet.\n",
      "Correct Ending: [subpassos] La mida estàndard per a la majoria de les premses de cafè és de 32 unces (946 ml), però pots fer menys porcions si ho prefereixes. Per a una sola porció, mesura 2 cullerades (13 g) de grans.\n",
      "Is Correct: No\n",
      "Accuracy so far: 0.2950\n",
      "\n"
     ]
    },
    {
     "name": "stderr",
     "output_type": "stream",
     "text": [
      "10027it [57:09,  2.64it/s]"
     ]
    },
    {
     "name": "stdout",
     "output_type": "stream",
     "text": [
      "Context: [capçalera] Com fer boles de galeta Oreo [títol] Col·loca les galetes en una batedora o processadora d'aliments. [pas] No separes les galetes. Només col·loca la galeta sencera a l'interior de la batedora/processadora d'aliments.\n",
      "Predicted Ending: [títol] Tritura els ingredients a alta velocitat fins que estiguin ben barrejats. [pas] Si no tens una processadora d'aliments, ves a una processadora d'aliments i tritura tot bé.\n",
      "Correct Ending: Si les galetes no caben a la teva batedora/processadora d'aliments, hauràs de triturar-les en lots. [subpassos] Si no tens cap d'aquests, col·loca les galetes en una bossa de plàstic resellable.\n",
      "Is Correct: No\n",
      "Accuracy so far: 0.2949\n",
      "\n"
     ]
    },
    {
     "name": "stderr",
     "output_type": "stream",
     "text": [
      "10028it [57:09,  2.62it/s]"
     ]
    },
    {
     "name": "stdout",
     "output_type": "stream",
     "text": [
      "Context: [capçalera] Com pagar el tractament d'FIV [títol] Informa't sobre les lleis estatals. [pas] Als Estats Units, quinze estats tenen lleis que exigeixen la cobertura d'assegurances per a tractaments d'infertilitat. Per a obtenir informació sobre les lleis respectives de cada estat, vegeu.\n",
      "Predicted Ending: [títol] Comprova el nombre de clíniques de fertilitat a la teva àrea. [pas] El nombre de clíniques de fertilitat en una àrea pot variar molt.\n",
      "Correct Ending: Si vius en qualsevol dels estats següents, pots pagar l'FIV almenys en part amb una assegurança : [subpassos] Arkansas california connecticut hawaii illinois louisiana maryland massachusetts montana new jersey new york ohio rhode island texas west virginia [títol] Contacta la teva companyia d'assegurances. [pas] Si tens una assegurança i estàs considerant fiv, truca o visita la teva companyia d'assegurances com més aviat millor.\n",
      "Is Correct: No\n",
      "Accuracy so far: 0.2949\n",
      "\n"
     ]
    },
    {
     "name": "stderr",
     "output_type": "stream",
     "text": [
      "10029it [57:09,  2.72it/s]"
     ]
    },
    {
     "name": "stdout",
     "output_type": "stream",
     "text": [
      "Context: [capçalera] Com convertir-se en ciutadà dels EUA [títol] Obtenir una targeta verda. [pas] Abans de poder convertir-se en ciutadà naturalitzat, heu de convertir-vos en resident permanent legal. Això s'anomena obtenir la vostra \"targeta verda\".\n",
      "Predicted Ending: \" es requereix una signatura, ja que heu de tenir una identificació de foto vàlida amb les vostres empremtes digitals. Heu de portar la targeta d'identitat amb vosaltres quan aneu a la oficina de serveis d'immigració i ciutadania dels Estats Units.\n",
      "Correct Ending: \" podeu obtenir una targeta verda de les maneres següents : [subpassos] Targeta verda a través de la teva família. Un membre de la família en els estats units et pot esponsoritzar.\n",
      "Is Correct: No\n",
      "Accuracy so far: 0.2949\n",
      "\n"
     ]
    },
    {
     "name": "stderr",
     "output_type": "stream",
     "text": [
      "10030it [57:10,  2.68it/s]"
     ]
    },
    {
     "name": "stdout",
     "output_type": "stream",
     "text": [
      "Context: [capçalera] Com fer una cua de cavall a mitjana alçada neta [títol] Allisa el cabell o defineix els teus rínxols. [pas] La diferència entre una cua de cavall neta i una de desordenada és la cura que li dones al cabell. El cabell arrissat o desmanegat donarà com a resultat una cua de cavall que sobresurt en els llocs incorrectes o penja de manera estranya.\n",
      "Predicted Ending: Si tens el cabell desordenat o desmanegat, no importa quant ho facis. Assegura't de netejar-lo perquè l'estil es mantingui net.\n",
      "Correct Ending: Depenent en la teva textura de cabell, fes una de les coses següents per netejar el teu cabell abans de posar-lo : [subpassos] Allisa'l amb una planxa de cabell. No l'has de planxar meticulosament; centra't en les puntes i les seccions que penjaran en la teva cua.\n",
      "Is Correct: No\n",
      "Accuracy so far: 0.2949\n",
      "\n"
     ]
    },
    {
     "name": "stderr",
     "output_type": "stream",
     "text": [
      "10031it [57:10,  2.81it/s]"
     ]
    },
    {
     "name": "stdout",
     "output_type": "stream",
     "text": [
      "Context: [capçalera] Com triar la decoració per a un casament de tardor [títol] Prova amb tons verds i marrons suaus. [pas] Tot i que els tons verds solen associar-se a la primavera, també poden funcionar molt bé per a un casament de tardor. Pensa en verd molsa o salvia, combinat amb un marró castany suau.\n",
      "Predicted Ending: Eviteu els colors brillants com el vermell, el blau llimona i el rosa, ja que tendeixen a destacar. Opteu per tons de gris o groc.\n",
      "Correct Ending: Aquests colors donen al casament un ambient boscós sense cridar \"tardor\". [subpassos] Per exemple, podeu utilitzar gerros de fusta natural amb suculentes.\n",
      "Is Correct: No\n",
      "Accuracy so far: 0.2948\n",
      "\n"
     ]
    },
    {
     "name": "stderr",
     "output_type": "stream",
     "text": [
      "10032it [57:10,  2.74it/s]"
     ]
    },
    {
     "name": "stdout",
     "output_type": "stream",
     "text": [
      "Context: [capçalera] Com fer un repel·lent d'insectes amb lavanda [títol] Prepara un sabó de lavanda. [pas] Fes sabó amb oli essencial de lavanda. Rentar-se el cos amb el sabó pot impedir que els insectes t'ataquin.\n",
      "Predicted Ending: Omple un pot amb unes gotes d'oli de lavanda i 1 cullerada de midó de blat de moro. Posar la roba de treball allà i deixar que s'assequi.\n",
      "Correct Ending: [subpassos] Compra un sabó casteller líquid pla i oli essencial de lavanda, tots dos dels quals pots comprar en moltes botigues de salut i grans minoristes. Afegeix 10-15 gotes d'oli essencial al sabó casteller i barreja bé.\n",
      "Is Correct: No\n",
      "Accuracy so far: 0.2948\n",
      "\n"
     ]
    },
    {
     "name": "stderr",
     "output_type": "stream",
     "text": [
      "10033it [57:11,  2.76it/s]"
     ]
    },
    {
     "name": "stdout",
     "output_type": "stream",
     "text": [
      "Context: [capçalera] Com ensenyar al teu gat a fer trucs [títol] Aconseguir un subministrament de llaminadures. [pas] Els gats necessiten ser recompensats constantment amb llaminadures saboroses per aprendre trucs. Tingues a mà moltes de les llaminadures preferides del teu gat de mida petita quan intentis entrenar-lo.\n",
      "Predicted Ending: Pots guardar aquestes llaminadures com a llaminadures en el \" tanc \" del teu gat. [subpassos] Guarda algunes de les llaminadures en el bol \" tanc \" del teu gat o en un cartró d'ous de plàstic que el teu gat pot obrir i picar amb la seva boca.\n",
      "Correct Ending: Dona llaminadures freqüents al teu gat quan l'entrenis en sessions curtes. També pots variar de regals freqüentment per mantenir al teu gat interessat.\n",
      "Is Correct: No\n",
      "Accuracy so far: 0.2948\n",
      "\n"
     ]
    },
    {
     "name": "stderr",
     "output_type": "stream",
     "text": [
      "10034it [57:11,  2.80it/s]"
     ]
    },
    {
     "name": "stdout",
     "output_type": "stream",
     "text": [
      "Context: [capçalera] Com ajudar el vostre fill a preparar-se per pronunciar un discurs [títol] Penseu en el tema. [pas] Els millors discursos són els que captiven el públic amb un tema interessant i rellevant. La preparació dependrà, en certa mesura, de si el vostre fill ha rebut un tema específic o si pot escollir-ne un.\n",
      "Predicted Ending: [subpassos] Si al teu fill ja li han assignat un tema específic, pregunta què sap ell o ella sobre el tema. Si li falta coneixement, orienta al teu fill cap a llibres, articles, webs o altres fonts d'informació.\n",
      "Correct Ending: [subpassos] Si al teu fill ja li han assignat un tema específic, pregunta què sap ell o ella sobre el tema. Si li falta coneixement, orienta al teu fill cap a llibres, articles, webs o altres fonts d'informació.\n",
      "Is Correct: Yes\n",
      "Accuracy so far: 0.2948\n",
      "\n"
     ]
    },
    {
     "name": "stderr",
     "output_type": "stream",
     "text": [
      "10035it [57:11,  2.76it/s]"
     ]
    },
    {
     "name": "stdout",
     "output_type": "stream",
     "text": [
      "Context: [capçalera] Com triar un tema de casament [títol] Feu una pluja d'idees sobre temes de casament amb la vostra parella basant-vos en els vostres interessos. [pas] Quan planegeu el vostre casament, és important que tant vosaltres com la vostra parella estiguin d'acord amb el tema. Després de tot, aquest és el vostre dia especial! Seieu junts i discutiu temes potencials, com ara un país de les meravelles d'hivern o.\n",
      "Predicted Ending: [subpassos] Centreu-vos en el tema que agrada més a la vostra parella per ajudar a unir el vostre casament. Per exemple, si a la vostra parella li encanta decorar amb glaçons, pot ser una bona idea reservar el vostre casament al voltant d'un país de les meravelles d'estiu o de primavera.\n",
      "Correct Ending: Podeu escriure paraules que us defineixin com a parella per utilitzar-les com a inspiració. Això us ajuda a unir-vos per tenir una idea millor del tipus de casament que voleu tenir.\n",
      "Is Correct: No\n",
      "Accuracy so far: 0.2948\n",
      "\n"
     ]
    },
    {
     "name": "stderr",
     "output_type": "stream",
     "text": [
      "10036it [57:12,  2.90it/s]"
     ]
    },
    {
     "name": "stdout",
     "output_type": "stream",
     "text": [
      "Context: [capçalera] Com jugar a Jenga [títol] Configura la torre. [pas] Primer, sacseja els blocs de Jenga sobre una superfície plana. Després, apila els blocs en conjunts de tres fins que hagis construït una torre de 18 blocs d'alçada.\n",
      "Predicted Ending: Pensa en la torre com una pilota de bàsquet des del principi. La torre hauria de tenir un angle de 90 graus des de tu.\n",
      "Correct Ending: Cada nova capa de tres blocs paral·lels s'ha de girar 90 º al llarg de l'eix horitzontal des de l'última capa. [subpassos] El teu conjunt de Jenga hauria d'incloure 54 blocs.\n",
      "Is Correct: No\n",
      "Accuracy so far: 0.2948\n",
      "\n"
     ]
    },
    {
     "name": "stderr",
     "output_type": "stream",
     "text": [
      "10037it [57:12,  2.98it/s]"
     ]
    },
    {
     "name": "stdout",
     "output_type": "stream",
     "text": [
      "Context: [capçalera] Com insultar algú [títol] Insulta la seva aparença. [subpassos] \"M'agradaria insultar-te, però la natura ja ho ha fet.\" \"Halloween ja ha acabat, pots treure't la màscara.\" \"Sembles la fotografia abans.\"\n",
      "Predicted Ending: \" \" La teva perruca et queda bé? \" \" La teva roba... és lletja, i els teus cabells semblen patètics. \" \" Puc elogiar el teu estil, però no puc sortir amb tu d'aquesta manera.\n",
      "Correct Ending: \" \" Vas canviar el teu coll per un altre mentó? \" \" Hi va haver algú més ferit en l'accident que et va deixar així? \" \" Ja he vist algú que semblava exactament com tu, però havia de pagar entrada. \" \" Podria utilitzar la teva ombra com a paraigua.\n",
      "Is Correct: No\n",
      "Accuracy so far: 0.2947\n",
      "\n"
     ]
    },
    {
     "name": "stderr",
     "output_type": "stream",
     "text": [
      "10038it [57:12,  3.05it/s]"
     ]
    },
    {
     "name": "stdout",
     "output_type": "stream",
     "text": [
      "Context: [capçalera] Com pintar una fila de conills alegres en aquarel·la [títol] Prepareu el paper. [pas] Talla un tros de paper d'aquarel·la de 140 lliures aproximadament a 9 \" x 12.\n",
      "Predicted Ending: [subpassos] No utilitzeu paper de cuina normal si no esteu pintant les cames d'una flor. Inspeccioneu el paper rentable per assegurar-vos que estigui tot en el seu lloc i que les barres no estiguin danyades.\n",
      "Correct Ending: \" manteniu-lo en qualsevol orientació i amb un llapis ordinari, dibuixeu una línia a dos terços de la part superior. Feu-la corba per representar turons o elevacions a la terra.\n",
      "Is Correct: No\n",
      "Accuracy so far: 0.2947\n",
      "\n"
     ]
    },
    {
     "name": "stderr",
     "output_type": "stream",
     "text": [
      "10039it [57:13,  3.23it/s]"
     ]
    },
    {
     "name": "stdout",
     "output_type": "stream",
     "text": [
      "Context: [capçalera] Com crear un compte d'Amazon [títol] Començar. [pas] Ves a amazon.com. A la cantonada superior dreta, veuràs un menú marcat \" el teu compte.\n",
      "Predicted Ending: \" sota el títol, veuràs la contrasenya, el codi d'accés i el correu electrònic, que són totes les extensions desitjades del teu compte. Fes clic a l'enllaç de correu electrònic, que et portarà a amazon.com.\n",
      "Correct Ending: \" quan hi passes el ratolí per sobre, apareix un menú desplegable. Fes clic a l'enllaç \" comença aquí \" directament sota el botó groc \" inicia sessió \".\n",
      "Is Correct: No\n",
      "Accuracy so far: 0.2947\n",
      "\n"
     ]
    },
    {
     "name": "stderr",
     "output_type": "stream",
     "text": [
      "10040it [57:13,  3.23it/s]"
     ]
    },
    {
     "name": "stdout",
     "output_type": "stream",
     "text": [
      "Context: [capçalera] Com calcular quant diners necessites per jubilar-te [títol] Determina les despeses bàsiques de la vida. [pas] Un primer pas important és determinar la quantitat necessària per cobrir les despeses bàsiques de la vida cada any. Hi ha diferents perspectives sobre quant serà.\n",
      "Predicted Ending: Algunes fonts suggereixen fins a cinc vegades el cost del mercat per any. Altres suggereixen més de vuit vegades el cost real per a la vida bàsica.\n",
      "Correct Ending: [subpassos] Alguns experts creuen que simplement hauries de calcular les teves despeses actuals. Després, espera que necessitaràs aproximadament la mateixa quantitat per viure una vegada que et jubilis.\n",
      "Is Correct: No\n",
      "Accuracy so far: 0.2947\n",
      "\n"
     ]
    },
    {
     "name": "stderr",
     "output_type": "stream",
     "text": [
      "10041it [57:13,  2.99it/s]"
     ]
    },
    {
     "name": "stdout",
     "output_type": "stream",
     "text": [
      "Context: [capçalera] Com consolar una amiga adolescent embarassada [títol] Escolta i ofereix suport amb els braços oberts. [pas] Fes saber a la teva amiga que estàs disposada a escoltar-la si necessita parlar. No obstant això, si la teva amiga diu que necessita una mica de temps per processar les coses per si mateixa primer, no la pressionis a parlar.\n",
      "Predicted Ending: Dona'ls temps i simplement recorda-li que estàs allà per a ella si vol parlar. [subpassos] Intenta dir alguna cosa com: 'Sé que estàs sobrecarregada ara mateix, però estic aquí per a tu i estic disposada a escoltar-te si mai necessites parlar'.\n",
      "Correct Ending: Dona'ls temps i simplement recorda-li que estàs allà per a ella si vol parlar. [subpassos] Intenta dir alguna cosa com: 'Sé que estàs sobrecarregada ara mateix, però estic aquí per a tu i estic disposada a escoltar-te si mai necessites parlar'.\n",
      "Is Correct: Yes\n",
      "Accuracy so far: 0.2947\n",
      "\n"
     ]
    },
    {
     "name": "stderr",
     "output_type": "stream",
     "text": [
      "10042it [57:14,  2.92it/s]"
     ]
    },
    {
     "name": "stdout",
     "output_type": "stream",
     "text": [
      "Context: [capçalera] Com dormir millor en un hotel [títol] Porta taps per les orelles. [pas] Comença empacant taps per les orelles per a la teva estada a l'hotel per ajudar a bloquejar qualsevol soroll. Potser tens un parell de taps per les orelles de viatge que acostumes a portar amb tu en els viatges.\n",
      "Predicted Ending: O pots comprar un parell de taps per les orelles per portar-los amb tu per poder dormir millor a l'hotel, malgrat qualsevol soroll. Empaca els teus taps per les orelles perquè tinguis una manera de bloquejar el soroll a la nit.\n",
      "Correct Ending: O pots comprar un parell de taps per les orelles per portar-los amb tu per poder dormir millor a l'hotel, malgrat qualsevol soroll. Empaca els teus taps per les orelles perquè tinguis una manera de bloquejar el soroll a la nit.\n",
      "Is Correct: Yes\n",
      "Accuracy so far: 0.2948\n",
      "\n",
      "Final Accuracy: 0.2948\n"
     ]
    },
    {
     "name": "stderr",
     "output_type": "stream",
     "text": [
      "\n"
     ]
    }
   ],
   "source": [
    "from tqdm import tqdm\n",
    "import torch\n",
    "import json\n",
    "from transformers import AutoTokenizer, AutoModelForCausalLM\n",
    "import datasets\n",
    "\n",
    "# Load the tokenizer and model\n",
    "tokenizer = AutoTokenizer.from_pretrained(\"baiges/CatGPT\")\n",
    "model = AutoModelForCausalLM.from_pretrained(\"baiges/CatGPT\")\n",
    "\n",
    "# Define the device (GPU if available, otherwise CPU)\n",
    "device = torch.device(\"cuda\" if torch.cuda.is_available() else \"cpu\")\n",
    "model.to(device)\n",
    "\n",
    "# Load the Hellaswag dataset translated to Catalan\n",
    "# The dataset is in \"pauhidalgoo/hellaswag-val-ca\"\n",
    "dataset = datasets.load_dataset(\"pauhidalgoo/hellaswag-val-ca\")['train']\n",
    "\n",
    "# Define the evaluation function\n",
    "def evaluate_model(model, tokenizer, dataset, device):\n",
    "    total_correct = 0\n",
    "    total_items = 0\n",
    "\n",
    "    # Iterate over each entry in the dataset\n",
    "    for i, item in tqdm(enumerate(dataset)):\n",
    "        try:\n",
    "            context = item['ctx']  # Get the context\n",
    "            endings = item['endings']  # Get the possible endings\n",
    "            correct_ending_idx = int(item['label'])  # Index of the correct ending\n",
    "\n",
    "            # Tokenize the context and move it to the device\n",
    "            context_input = tokenizer(context, return_tensors=\"pt\").input_ids.to(device).long()\n",
    "\n",
    "            avg_loss_values = []\n",
    "            for ending in endings:\n",
    "                try:\n",
    "                    # Tokenize the ending and move it to the device\n",
    "                    ending_input = tokenizer(ending, return_tensors=\"pt\").input_ids.to(device).long()\n",
    "                    \n",
    "                    # Concatenate the context with each ending\n",
    "                    input_ids = torch.cat([context_input, ending_input[:, 1:]], dim=-1).to(device).long()\n",
    "\n",
    "                    # Calculate the loss only over the ending part\n",
    "                    with torch.no_grad():\n",
    "                        outputs = model(input_ids)\n",
    "                        logits = outputs.logits[:, -ending_input.size(1):, :]  # Get logits corresponding to the ending\n",
    "\n",
    "                        shift_logits = logits[:, :-1, :].contiguous()  # Shift logits to the right\n",
    "                        shift_labels = ending_input[:, 1:].contiguous()  # Shift labels to the left\n",
    "\n",
    "                        # Ensure the logits and labels have the same shape\n",
    "                        shift_logits = shift_logits.view(-1, shift_logits.size(-1))\n",
    "                        shift_labels = shift_labels.view(-1)\n",
    "\n",
    "                        # Calculate loss\n",
    "                        loss_fct = torch.nn.CrossEntropyLoss(reduction='none')\n",
    "                        loss = loss_fct(shift_logits, shift_labels)\n",
    "                        avg_loss = loss.mean().item()  # Calculate the average loss per token\n",
    "                        avg_loss_values.append(avg_loss)\n",
    "                except RuntimeError as e:\n",
    "                    print(f\"Error processing ending: {e}\")\n",
    "                    avg_loss_values.append(float('inf'))  # Consider high loss if there's an error\n",
    "                    continue\n",
    "\n",
    "            # Find the ending with the lowest average loss per token\n",
    "            predicted_idx = torch.argmin(torch.tensor(avg_loss_values)).item()\n",
    "\n",
    "            # Check if the prediction is correct and update the counters\n",
    "            is_correct = predicted_idx == correct_ending_idx\n",
    "            if is_correct:\n",
    "                total_correct += 1\n",
    "            total_items += 1\n",
    "\n",
    "            # Calculate the accuracy for this specific item\n",
    "            item_accuracy = total_correct / total_items\n",
    "\n",
    "            # Print context, prediction, correctness, and accuracy for this item\n",
    "            print(f\"Context: {context}\")\n",
    "            print(f\"Predicted Ending: {endings[predicted_idx]}\")\n",
    "            print(f\"Correct Ending: {endings[correct_ending_idx]}\")\n",
    "            print(f\"Is Correct: {'Yes' if is_correct else 'No'}\")\n",
    "            print(f\"Accuracy so far: {item_accuracy:.4f}\\n\")\n",
    "\n",
    "        except Exception as e:\n",
    "            print(f\"Error processing item {i}: {e}\")\n",
    "            continue\n",
    "\n",
    "    # Calculate the overall accuracy\n",
    "    accuracy = total_correct / total_items\n",
    "    return accuracy\n",
    "\n",
    "# Perform the evaluation\n",
    "accuracy = evaluate_model(model, tokenizer, dataset, device)\n",
    "print(f\"Final Accuracy: {accuracy:.4f}\")"
   ]
  }
 ],
 "metadata": {
  "kernelspec": {
   "display_name": "Python 3",
   "language": "python",
   "name": "python3"
  },
  "language_info": {
   "codemirror_mode": {
    "name": "ipython",
    "version": 3
   },
   "file_extension": ".py",
   "mimetype": "text/x-python",
   "name": "python",
   "nbconvert_exporter": "python",
   "pygments_lexer": "ipython3",
   "version": "3.10.6"
  }
 },
 "nbformat": 4,
 "nbformat_minor": 2
}
