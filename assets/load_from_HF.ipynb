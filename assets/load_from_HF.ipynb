{
 "cells": [
  {
   "cell_type": "markdown",
   "metadata": {},
   "source": [
    "# LOAD MODEL FROM HUGGINGFACE"
   ]
  },
  {
   "cell_type": "markdown",
   "metadata": {},
   "source": [
    "In this script the CatGPT model can be directly loaded from the Huggingface model hub. The model is then used to generate text."
   ]
  },
  {
   "cell_type": "code",
   "execution_count": 3,
   "metadata": {},
   "outputs": [
    {
     "name": "stdout",
     "output_type": "stream",
     "text": [
      "La meva casa és un lloc molt acollidor, amb una gran piscina i unes vistes precioses. La cuina està equipada amb tot el necessari per cuinar a la vostra mida. El menjador té una capacitat de fins a 6 persones. Hi ha dos dormitoris dobles, un d'ells tipus suite amb bany privat i l'altre tipus suite amb bany privat i terrassa privada. L'apartament disposa de 2 habitacions (1 doble i 1 triple) i 3 banys complets. A més hi ha una plaça d'\n"
     ]
    }
   ],
   "source": [
    "from transformers import AutoModelForCausalLM, AutoTokenizer\n",
    "\n",
    "tokenizer = AutoTokenizer.from_pretrained(\"baiges/CatGPT\")\n",
    "model = AutoModelForCausalLM.from_pretrained(\"baiges/CatGPT\")\n",
    "\n",
    "input_text = \"La meva casa és\"\n",
    "inputs = tokenizer(input_text, return_tensors=\"pt\")\n",
    "outputs = model.generate(inputs.input_ids, max_length=100, num_return_sequences=1, repetition_penalty=1.2)\n",
    "\n",
    "generated_text = tokenizer.decode(outputs[0], skip_special_tokens=True)\n",
    "print(generated_text)"
   ]
  }
 ],
 "metadata": {
  "kernelspec": {
   "display_name": "Python 3",
   "language": "python",
   "name": "python3"
  },
  "language_info": {
   "codemirror_mode": {
    "name": "ipython",
    "version": 3
   },
   "file_extension": ".py",
   "mimetype": "text/x-python",
   "name": "python",
   "nbconvert_exporter": "python",
   "pygments_lexer": "ipython3",
   "version": "3.10.6"
  }
 },
 "nbformat": 4,
 "nbformat_minor": 2
}
