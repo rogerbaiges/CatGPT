{
 "cells": [
  {
   "cell_type": "code",
   "execution_count": 2,
   "metadata": {},
   "outputs": [
    {
     "name": "stderr",
     "output_type": "stream",
     "text": [
      "C:\\Users\\Usuario\\AppData\\Local\\Temp\\ipykernel_26860\\1039452880.py:6: FutureWarning: You are using `torch.load` with `weights_only=False` (the current default value), which uses the default pickle module implicitly. It is possible to construct malicious pickle data which will execute arbitrary code during unpickling (See https://github.com/pytorch/pytorch/blob/main/SECURITY.md#untrusted-models for more details). In a future release, the default value for `weights_only` will be flipped to `True`. This limits the functions that could be executed during unpickling. Arbitrary objects will no longer be allowed to be loaded via this mode unless they are explicitly allowlisted by the user via `torch.serialization.add_safe_globals`. We recommend you start setting `weights_only=True` for any use case where you don't have full control of the loaded file. Please open an issue on GitHub for any issues related to this experimental feature.\n",
      "  state_dict = torch.load(pth_model_path)\n"
     ]
    }
   ],
   "source": [
    "import torch\n",
    "from transformers import GPT2LMHeadModel, GPT2Config, GPT2TokenizerFast\n",
    "from transformers import AutoTokenizer, AutoModelForCausalLM\n",
    "\n",
    "pth_model_path = \"../models/CatGPT.pth\"\n",
    "state_dict = torch.load(pth_model_path)\n",
    "\n",
    "config = GPT2Config(\n",
    "    vocab_size=32768,\n",
    "    n_positions=1024,\n",
    "    n_ctx=1024,\n",
    "    n_embd=768,\n",
    "    n_layer=12,\n",
    "    n_head=8\n",
    ")\n",
    "\n",
    "model = GPT2LMHeadModel(config)\n"
   ]
  },
  {
   "cell_type": "code",
   "execution_count": 7,
   "metadata": {},
   "outputs": [
    {
     "name": "stdout",
     "output_type": "stream",
     "text": [
      "odict_keys(['_orig_mod.transformer.wte.weight', '_orig_mod.transformer.wpe.weight', '_orig_mod.transformer.h.0.ln_1.weight', '_orig_mod.transformer.h.0.ln_1.bias', '_orig_mod.transformer.h.0.attn.bias', '_orig_mod.transformer.h.0.attn.c_attn.weight', '_orig_mod.transformer.h.0.attn.c_attn.bias', '_orig_mod.transformer.h.0.attn.c_proj.weight', '_orig_mod.transformer.h.0.attn.c_proj.bias', '_orig_mod.transformer.h.0.ln_2.weight', '_orig_mod.transformer.h.0.ln_2.bias', '_orig_mod.transformer.h.0.mlp.c_fc.weight', '_orig_mod.transformer.h.0.mlp.c_fc.bias', '_orig_mod.transformer.h.0.mlp.c_proj.weight', '_orig_mod.transformer.h.0.mlp.c_proj.bias', '_orig_mod.transformer.h.1.ln_1.weight', '_orig_mod.transformer.h.1.ln_1.bias', '_orig_mod.transformer.h.1.attn.bias', '_orig_mod.transformer.h.1.attn.c_attn.weight', '_orig_mod.transformer.h.1.attn.c_attn.bias', '_orig_mod.transformer.h.1.attn.c_proj.weight', '_orig_mod.transformer.h.1.attn.c_proj.bias', '_orig_mod.transformer.h.1.ln_2.weight', '_orig_mod.transformer.h.1.ln_2.bias', '_orig_mod.transformer.h.1.mlp.c_fc.weight', '_orig_mod.transformer.h.1.mlp.c_fc.bias', '_orig_mod.transformer.h.1.mlp.c_proj.weight', '_orig_mod.transformer.h.1.mlp.c_proj.bias', '_orig_mod.transformer.h.2.ln_1.weight', '_orig_mod.transformer.h.2.ln_1.bias', '_orig_mod.transformer.h.2.attn.bias', '_orig_mod.transformer.h.2.attn.c_attn.weight', '_orig_mod.transformer.h.2.attn.c_attn.bias', '_orig_mod.transformer.h.2.attn.c_proj.weight', '_orig_mod.transformer.h.2.attn.c_proj.bias', '_orig_mod.transformer.h.2.ln_2.weight', '_orig_mod.transformer.h.2.ln_2.bias', '_orig_mod.transformer.h.2.mlp.c_fc.weight', '_orig_mod.transformer.h.2.mlp.c_fc.bias', '_orig_mod.transformer.h.2.mlp.c_proj.weight', '_orig_mod.transformer.h.2.mlp.c_proj.bias', '_orig_mod.transformer.h.3.ln_1.weight', '_orig_mod.transformer.h.3.ln_1.bias', '_orig_mod.transformer.h.3.attn.bias', '_orig_mod.transformer.h.3.attn.c_attn.weight', '_orig_mod.transformer.h.3.attn.c_attn.bias', '_orig_mod.transformer.h.3.attn.c_proj.weight', '_orig_mod.transformer.h.3.attn.c_proj.bias', '_orig_mod.transformer.h.3.ln_2.weight', '_orig_mod.transformer.h.3.ln_2.bias', '_orig_mod.transformer.h.3.mlp.c_fc.weight', '_orig_mod.transformer.h.3.mlp.c_fc.bias', '_orig_mod.transformer.h.3.mlp.c_proj.weight', '_orig_mod.transformer.h.3.mlp.c_proj.bias', '_orig_mod.transformer.h.4.ln_1.weight', '_orig_mod.transformer.h.4.ln_1.bias', '_orig_mod.transformer.h.4.attn.bias', '_orig_mod.transformer.h.4.attn.c_attn.weight', '_orig_mod.transformer.h.4.attn.c_attn.bias', '_orig_mod.transformer.h.4.attn.c_proj.weight', '_orig_mod.transformer.h.4.attn.c_proj.bias', '_orig_mod.transformer.h.4.ln_2.weight', '_orig_mod.transformer.h.4.ln_2.bias', '_orig_mod.transformer.h.4.mlp.c_fc.weight', '_orig_mod.transformer.h.4.mlp.c_fc.bias', '_orig_mod.transformer.h.4.mlp.c_proj.weight', '_orig_mod.transformer.h.4.mlp.c_proj.bias', '_orig_mod.transformer.h.5.ln_1.weight', '_orig_mod.transformer.h.5.ln_1.bias', '_orig_mod.transformer.h.5.attn.bias', '_orig_mod.transformer.h.5.attn.c_attn.weight', '_orig_mod.transformer.h.5.attn.c_attn.bias', '_orig_mod.transformer.h.5.attn.c_proj.weight', '_orig_mod.transformer.h.5.attn.c_proj.bias', '_orig_mod.transformer.h.5.ln_2.weight', '_orig_mod.transformer.h.5.ln_2.bias', '_orig_mod.transformer.h.5.mlp.c_fc.weight', '_orig_mod.transformer.h.5.mlp.c_fc.bias', '_orig_mod.transformer.h.5.mlp.c_proj.weight', '_orig_mod.transformer.h.5.mlp.c_proj.bias', '_orig_mod.transformer.h.6.ln_1.weight', '_orig_mod.transformer.h.6.ln_1.bias', '_orig_mod.transformer.h.6.attn.bias', '_orig_mod.transformer.h.6.attn.c_attn.weight', '_orig_mod.transformer.h.6.attn.c_attn.bias', '_orig_mod.transformer.h.6.attn.c_proj.weight', '_orig_mod.transformer.h.6.attn.c_proj.bias', '_orig_mod.transformer.h.6.ln_2.weight', '_orig_mod.transformer.h.6.ln_2.bias', '_orig_mod.transformer.h.6.mlp.c_fc.weight', '_orig_mod.transformer.h.6.mlp.c_fc.bias', '_orig_mod.transformer.h.6.mlp.c_proj.weight', '_orig_mod.transformer.h.6.mlp.c_proj.bias', '_orig_mod.transformer.h.7.ln_1.weight', '_orig_mod.transformer.h.7.ln_1.bias', '_orig_mod.transformer.h.7.attn.bias', '_orig_mod.transformer.h.7.attn.c_attn.weight', '_orig_mod.transformer.h.7.attn.c_attn.bias', '_orig_mod.transformer.h.7.attn.c_proj.weight', '_orig_mod.transformer.h.7.attn.c_proj.bias', '_orig_mod.transformer.h.7.ln_2.weight', '_orig_mod.transformer.h.7.ln_2.bias', '_orig_mod.transformer.h.7.mlp.c_fc.weight', '_orig_mod.transformer.h.7.mlp.c_fc.bias', '_orig_mod.transformer.h.7.mlp.c_proj.weight', '_orig_mod.transformer.h.7.mlp.c_proj.bias', '_orig_mod.transformer.h.8.ln_1.weight', '_orig_mod.transformer.h.8.ln_1.bias', '_orig_mod.transformer.h.8.attn.bias', '_orig_mod.transformer.h.8.attn.c_attn.weight', '_orig_mod.transformer.h.8.attn.c_attn.bias', '_orig_mod.transformer.h.8.attn.c_proj.weight', '_orig_mod.transformer.h.8.attn.c_proj.bias', '_orig_mod.transformer.h.8.ln_2.weight', '_orig_mod.transformer.h.8.ln_2.bias', '_orig_mod.transformer.h.8.mlp.c_fc.weight', '_orig_mod.transformer.h.8.mlp.c_fc.bias', '_orig_mod.transformer.h.8.mlp.c_proj.weight', '_orig_mod.transformer.h.8.mlp.c_proj.bias', '_orig_mod.transformer.h.9.ln_1.weight', '_orig_mod.transformer.h.9.ln_1.bias', '_orig_mod.transformer.h.9.attn.bias', '_orig_mod.transformer.h.9.attn.c_attn.weight', '_orig_mod.transformer.h.9.attn.c_attn.bias', '_orig_mod.transformer.h.9.attn.c_proj.weight', '_orig_mod.transformer.h.9.attn.c_proj.bias', '_orig_mod.transformer.h.9.ln_2.weight', '_orig_mod.transformer.h.9.ln_2.bias', '_orig_mod.transformer.h.9.mlp.c_fc.weight', '_orig_mod.transformer.h.9.mlp.c_fc.bias', '_orig_mod.transformer.h.9.mlp.c_proj.weight', '_orig_mod.transformer.h.9.mlp.c_proj.bias', '_orig_mod.transformer.h.10.ln_1.weight', '_orig_mod.transformer.h.10.ln_1.bias', '_orig_mod.transformer.h.10.attn.bias', '_orig_mod.transformer.h.10.attn.c_attn.weight', '_orig_mod.transformer.h.10.attn.c_attn.bias', '_orig_mod.transformer.h.10.attn.c_proj.weight', '_orig_mod.transformer.h.10.attn.c_proj.bias', '_orig_mod.transformer.h.10.ln_2.weight', '_orig_mod.transformer.h.10.ln_2.bias', '_orig_mod.transformer.h.10.mlp.c_fc.weight', '_orig_mod.transformer.h.10.mlp.c_fc.bias', '_orig_mod.transformer.h.10.mlp.c_proj.weight', '_orig_mod.transformer.h.10.mlp.c_proj.bias', '_orig_mod.transformer.h.11.ln_1.weight', '_orig_mod.transformer.h.11.ln_1.bias', '_orig_mod.transformer.h.11.attn.bias', '_orig_mod.transformer.h.11.attn.c_attn.weight', '_orig_mod.transformer.h.11.attn.c_attn.bias', '_orig_mod.transformer.h.11.attn.c_proj.weight', '_orig_mod.transformer.h.11.attn.c_proj.bias', '_orig_mod.transformer.h.11.ln_2.weight', '_orig_mod.transformer.h.11.ln_2.bias', '_orig_mod.transformer.h.11.mlp.c_fc.weight', '_orig_mod.transformer.h.11.mlp.c_fc.bias', '_orig_mod.transformer.h.11.mlp.c_proj.weight', '_orig_mod.transformer.h.11.mlp.c_proj.bias', '_orig_mod.transformer.ln_f.weight', '_orig_mod.transformer.ln_f.bias', '_orig_mod.lm_head.weight'])\n"
     ]
    }
   ],
   "source": [
    "print(state_dict.keys())"
   ]
  },
  {
   "cell_type": "markdown",
   "metadata": {},
   "source": [
    "Since the keys have names like \"_orig_mod.\" and hugginface expects directly transformer.wte.weight, we will remove the prefix. Also, they need to be transposed."
   ]
  },
  {
   "cell_type": "code",
   "execution_count": 33,
   "metadata": {},
   "outputs": [],
   "source": [
    "new_state_dict = {}\n",
    "for key, value in state_dict.items():\n",
    "\n",
    "    new_key = key.replace(\"_orig_mod.\", \"\")\n",
    "\n",
    "    if 'attn.bias' in new_key and 'c_attn' not in new_key:\n",
    "        continue\n",
    "\n",
    "    \n",
    "    if 'c_attn.weight' in new_key or 'c_fc.weight' in new_key or 'c_proj.weight' in new_key:\n",
    "        value = value.T\n",
    "    \n",
    "    new_state_dict[new_key] = value"
   ]
  },
  {
   "cell_type": "code",
   "execution_count": 34,
   "metadata": {},
   "outputs": [
    {
     "data": {
      "text/plain": [
       "<All keys matched successfully>"
      ]
     },
     "execution_count": 34,
     "metadata": {},
     "output_type": "execute_result"
    }
   ],
   "source": [
    "\n",
    "model.load_state_dict(new_state_dict)"
   ]
  },
  {
   "cell_type": "code",
   "execution_count": 36,
   "metadata": {},
   "outputs": [],
   "source": [
    "\n",
    "model_save_path = \"./gpt2_custom_model\"\n",
    "model.save_pretrained(model_save_path)\n",
    "\n",
    "tokenizer = GPT2TokenizerFast(vocab_file=\"../tokenizer/vocab.json\", merges_file=\"../tokenizer/merges.txt\")\n",
    "\n",
    "tokenizer.save_pretrained(model_save_path)\n",
    "\n",
    "model = AutoModelForCausalLM.from_pretrained(model_save_path)\n",
    "tokenizer = AutoTokenizer.from_pretrained(model_save_path)\n",
    "\n"
   ]
  },
  {
   "cell_type": "code",
   "execution_count": 38,
   "metadata": {},
   "outputs": [
    {
     "data": {
      "application/vnd.jupyter.widget-view+json": {
       "model_id": "99c866286df94dcf96d694737dad8709",
       "version_major": 2,
       "version_minor": 0
      },
      "text/plain": [
       "VBox(children=(HTML(value='<center> <img\\nsrc=https://huggingface.co/front/assets/huggingface_logo-noborder.sv…"
      ]
     },
     "metadata": {},
     "output_type": "display_data"
    },
    {
     "data": {
      "application/vnd.jupyter.widget-view+json": {
       "model_id": "c4a58044e89e4d76be0237392cdae786",
       "version_major": 2,
       "version_minor": 0
      },
      "text/plain": [
       "model.safetensors:   0%|          | 0.00/444M [00:00<?, ?B/s]"
      ]
     },
     "metadata": {},
     "output_type": "display_data"
    },
    {
     "data": {
      "application/vnd.jupyter.widget-view+json": {
       "model_id": "338981f7d7c14b31925a322719bfadc8",
       "version_major": 2,
       "version_minor": 0
      },
      "text/plain": [
       "README.md:   0%|          | 0.00/5.17k [00:00<?, ?B/s]"
      ]
     },
     "metadata": {},
     "output_type": "display_data"
    },
    {
     "name": "stderr",
     "output_type": "stream",
     "text": [
      "C:\\Users\\Usuario\\AppData\\Local\\Packages\\PythonSoftwareFoundation.Python.3.11_qbz5n2kfra8p0\\LocalCache\\local-packages\\Python311\\site-packages\\huggingface_hub\\file_download.py:157: UserWarning: `huggingface_hub` cache-system uses symlinks by default to efficiently store duplicated files but your machine does not support them in C:\\Users\\Usuario\\.cache\\huggingface\\hub\\models--pauhidalgoo--cat-gpt-baiges. Caching files will still work but in a degraded version that might require more space on your disk. This warning can be disabled by setting the `HF_HUB_DISABLE_SYMLINKS_WARNING` environment variable. For more details, see https://huggingface.co/docs/huggingface_hub/how-to-cache#limitations.\n",
      "To support symlinks on Windows, you either need to activate Developer Mode or to run Python as an administrator. In order to see activate developer mode, see this article: https://docs.microsoft.com/en-us/windows/apps/get-started/enable-your-device-for-development\n",
      "  warnings.warn(message)\n"
     ]
    },
    {
     "data": {
      "text/plain": [
       "CommitInfo(commit_url='https://huggingface.co/pauhidalgoo/cat-gpt-baiges/commit/e935f40caa76332a6715cd05b75c1e06dc2ba49d', commit_message='Upload tokenizer', commit_description='', oid='e935f40caa76332a6715cd05b75c1e06dc2ba49d', pr_url=None, pr_revision=None, pr_num=None)"
      ]
     },
     "execution_count": 38,
     "metadata": {},
     "output_type": "execute_result"
    }
   ],
   "source": [
    "from huggingface_hub import HfApi, HfFolder, Repository, notebook_login\n",
    "\n",
    "notebook_login()\n",
    "\n",
    "repo_name = \"rogerbaiges/cat-gpt\"\n",
    "model.push_to_hub(repo_name)\n",
    "tokenizer.push_to_hub(repo_name)\n"
   ]
  }
 ],
 "metadata": {
  "kernelspec": {
   "display_name": "Python 3",
   "language": "python",
   "name": "python3"
  },
  "language_info": {
   "codemirror_mode": {
    "name": "ipython",
    "version": 3
   },
   "file_extension": ".py",
   "mimetype": "text/x-python",
   "name": "python",
   "nbconvert_exporter": "python",
   "pygments_lexer": "ipython3",
   "version": "3.11.9"
  }
 },
 "nbformat": 4,
 "nbformat_minor": 2
}
